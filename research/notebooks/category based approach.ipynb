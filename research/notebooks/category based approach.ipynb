{
 "cells": [
  {
   "cell_type": "code",
   "execution_count": 2,
   "id": "initial_id",
   "metadata": {
    "collapsed": true,
    "ExecuteTime": {
     "end_time": "2024-04-14T12:20:21.712804300Z",
     "start_time": "2024-04-14T12:20:21.707792700Z"
    }
   },
   "outputs": [],
   "source": [
    "import random\n",
    "import os\n",
    "import threading\n",
    "from concurrent.futures import ThreadPoolExecutor, ProcessPoolExecutor, wait\n",
    "\n",
    "from tqdm.notebook import tqdm, trange\n",
    "from pathlib import Path\n",
    "from random import randint\n",
    "from ui.python.Layout import Layout\n",
    "import numpy as np\n",
    "import plotly.express as px\n",
    "import pandas as pd"
   ]
  },
  {
   "cell_type": "code",
   "outputs": [],
   "source": [
    "MAX_WORKERS = 24"
   ],
   "metadata": {
    "collapsed": false,
    "ExecuteTime": {
     "end_time": "2024-04-14T12:20:27.787091600Z",
     "start_time": "2024-04-14T12:20:27.783091400Z"
    }
   },
   "id": "e82a67eb55ec3cbd",
   "execution_count": 3
  },
  {
   "cell_type": "markdown",
   "source": [
    "# Preprocessing"
   ],
   "metadata": {
    "collapsed": false
   },
   "id": "595534ec79ceb018"
  },
  {
   "cell_type": "code",
   "outputs": [
    {
     "data": {
      "text/plain": "         order_id  user_id  order_number  order_dow  order_hour_of_day  \\\n0         2425083    49125             1          2                 18   \n1         2425083    49125             1          2                 18   \n2         2425083    49125             1          2                 18   \n3         2425083    49125             1          2                 18   \n4         2425083    49125             1          2                 18   \n...           ...      ...           ...        ...                ...   \n2019496   3390742   199430            16          3                 18   \n2019497    458285   128787            42          2                 19   \n2019498    458285   128787            42          2                 19   \n2019499    458285   128787            42          2                 19   \n2019500    458285   128787            42          2                 19   \n\n         days_since_prior_order  product_id  add_to_cart_order  reordered  \\\n0                           NaN          17                  1          0   \n1                           NaN          91                  2          0   \n2                           NaN          36                  3          0   \n3                           NaN          83                  4          0   \n4                           NaN          83                  5          0   \n...                         ...         ...                ...        ...   \n2019496                     5.0          83                  8          0   \n2019497                     3.0         115                  1          1   \n2019498                     3.0          32                  2          1   \n2019499                     3.0          32                  3          1   \n2019500                     3.0         123                  4          1   \n\n         department_id  department                   product_name  \n0                   13      pantry             baking ingredients  \n1                   16  dairy eggs                soy lactosefree  \n2                   16  dairy eggs                         butter  \n3                    4     produce               fresh vegetables  \n4                    4     produce               fresh vegetables  \n...                ...         ...                            ...  \n2019496              4     produce               fresh vegetables  \n2019497              7   beverages  water seltzer sparkling water  \n2019498              4     produce               packaged produce  \n2019499              4     produce               packaged produce  \n2019500              4     produce     packaged vegetables fruits  \n\n[2019501 rows x 12 columns]",
      "text/html": "<div>\n<style scoped>\n    .dataframe tbody tr th:only-of-type {\n        vertical-align: middle;\n    }\n\n    .dataframe tbody tr th {\n        vertical-align: top;\n    }\n\n    .dataframe thead th {\n        text-align: right;\n    }\n</style>\n<table border=\"1\" class=\"dataframe\">\n  <thead>\n    <tr style=\"text-align: right;\">\n      <th></th>\n      <th>order_id</th>\n      <th>user_id</th>\n      <th>order_number</th>\n      <th>order_dow</th>\n      <th>order_hour_of_day</th>\n      <th>days_since_prior_order</th>\n      <th>product_id</th>\n      <th>add_to_cart_order</th>\n      <th>reordered</th>\n      <th>department_id</th>\n      <th>department</th>\n      <th>product_name</th>\n    </tr>\n  </thead>\n  <tbody>\n    <tr>\n      <th>0</th>\n      <td>2425083</td>\n      <td>49125</td>\n      <td>1</td>\n      <td>2</td>\n      <td>18</td>\n      <td>NaN</td>\n      <td>17</td>\n      <td>1</td>\n      <td>0</td>\n      <td>13</td>\n      <td>pantry</td>\n      <td>baking ingredients</td>\n    </tr>\n    <tr>\n      <th>1</th>\n      <td>2425083</td>\n      <td>49125</td>\n      <td>1</td>\n      <td>2</td>\n      <td>18</td>\n      <td>NaN</td>\n      <td>91</td>\n      <td>2</td>\n      <td>0</td>\n      <td>16</td>\n      <td>dairy eggs</td>\n      <td>soy lactosefree</td>\n    </tr>\n    <tr>\n      <th>2</th>\n      <td>2425083</td>\n      <td>49125</td>\n      <td>1</td>\n      <td>2</td>\n      <td>18</td>\n      <td>NaN</td>\n      <td>36</td>\n      <td>3</td>\n      <td>0</td>\n      <td>16</td>\n      <td>dairy eggs</td>\n      <td>butter</td>\n    </tr>\n    <tr>\n      <th>3</th>\n      <td>2425083</td>\n      <td>49125</td>\n      <td>1</td>\n      <td>2</td>\n      <td>18</td>\n      <td>NaN</td>\n      <td>83</td>\n      <td>4</td>\n      <td>0</td>\n      <td>4</td>\n      <td>produce</td>\n      <td>fresh vegetables</td>\n    </tr>\n    <tr>\n      <th>4</th>\n      <td>2425083</td>\n      <td>49125</td>\n      <td>1</td>\n      <td>2</td>\n      <td>18</td>\n      <td>NaN</td>\n      <td>83</td>\n      <td>5</td>\n      <td>0</td>\n      <td>4</td>\n      <td>produce</td>\n      <td>fresh vegetables</td>\n    </tr>\n    <tr>\n      <th>...</th>\n      <td>...</td>\n      <td>...</td>\n      <td>...</td>\n      <td>...</td>\n      <td>...</td>\n      <td>...</td>\n      <td>...</td>\n      <td>...</td>\n      <td>...</td>\n      <td>...</td>\n      <td>...</td>\n      <td>...</td>\n    </tr>\n    <tr>\n      <th>2019496</th>\n      <td>3390742</td>\n      <td>199430</td>\n      <td>16</td>\n      <td>3</td>\n      <td>18</td>\n      <td>5.0</td>\n      <td>83</td>\n      <td>8</td>\n      <td>0</td>\n      <td>4</td>\n      <td>produce</td>\n      <td>fresh vegetables</td>\n    </tr>\n    <tr>\n      <th>2019497</th>\n      <td>458285</td>\n      <td>128787</td>\n      <td>42</td>\n      <td>2</td>\n      <td>19</td>\n      <td>3.0</td>\n      <td>115</td>\n      <td>1</td>\n      <td>1</td>\n      <td>7</td>\n      <td>beverages</td>\n      <td>water seltzer sparkling water</td>\n    </tr>\n    <tr>\n      <th>2019498</th>\n      <td>458285</td>\n      <td>128787</td>\n      <td>42</td>\n      <td>2</td>\n      <td>19</td>\n      <td>3.0</td>\n      <td>32</td>\n      <td>2</td>\n      <td>1</td>\n      <td>4</td>\n      <td>produce</td>\n      <td>packaged produce</td>\n    </tr>\n    <tr>\n      <th>2019499</th>\n      <td>458285</td>\n      <td>128787</td>\n      <td>42</td>\n      <td>2</td>\n      <td>19</td>\n      <td>3.0</td>\n      <td>32</td>\n      <td>3</td>\n      <td>1</td>\n      <td>4</td>\n      <td>produce</td>\n      <td>packaged produce</td>\n    </tr>\n    <tr>\n      <th>2019500</th>\n      <td>458285</td>\n      <td>128787</td>\n      <td>42</td>\n      <td>2</td>\n      <td>19</td>\n      <td>3.0</td>\n      <td>123</td>\n      <td>4</td>\n      <td>1</td>\n      <td>4</td>\n      <td>produce</td>\n      <td>packaged vegetables fruits</td>\n    </tr>\n  </tbody>\n</table>\n<p>2019501 rows × 12 columns</p>\n</div>"
     },
     "execution_count": 4,
     "metadata": {},
     "output_type": "execute_result"
    }
   ],
   "source": [
    "df = pd.read_csv('./../data/datasets/ECommerce_consumer behaviour.csv')\n",
    "df"
   ],
   "metadata": {
    "collapsed": false,
    "ExecuteTime": {
     "end_time": "2024-04-14T12:21:06.139492700Z",
     "start_time": "2024-04-14T12:21:04.226550900Z"
    }
   },
   "id": "54283fd00d124be5",
   "execution_count": 4
  },
  {
   "cell_type": "code",
   "outputs": [
    {
     "data": {
      "text/plain": "         order_id  order_number  department  department_id  product_id  \\\n0         2425083             1      pantry             13          17   \n1         2425083             1  dairy eggs             16          91   \n2         2425083             1  dairy eggs             16          36   \n3         2425083             1     produce              4          83   \n4         2425083             1     produce              4          83   \n...           ...           ...         ...            ...         ...   \n2019496   3390742            16     produce              4          83   \n2019497    458285            42   beverages              7         115   \n2019498    458285            42     produce              4          32   \n2019499    458285            42     produce              4          32   \n2019500    458285            42     produce              4         123   \n\n                          product_name  \n0                   baking ingredients  \n1                      soy lactosefree  \n2                               butter  \n3                     fresh vegetables  \n4                     fresh vegetables  \n...                                ...  \n2019496               fresh vegetables  \n2019497  water seltzer sparkling water  \n2019498               packaged produce  \n2019499               packaged produce  \n2019500     packaged vegetables fruits  \n\n[2019501 rows x 6 columns]",
      "text/html": "<div>\n<style scoped>\n    .dataframe tbody tr th:only-of-type {\n        vertical-align: middle;\n    }\n\n    .dataframe tbody tr th {\n        vertical-align: top;\n    }\n\n    .dataframe thead th {\n        text-align: right;\n    }\n</style>\n<table border=\"1\" class=\"dataframe\">\n  <thead>\n    <tr style=\"text-align: right;\">\n      <th></th>\n      <th>order_id</th>\n      <th>order_number</th>\n      <th>department</th>\n      <th>department_id</th>\n      <th>product_id</th>\n      <th>product_name</th>\n    </tr>\n  </thead>\n  <tbody>\n    <tr>\n      <th>0</th>\n      <td>2425083</td>\n      <td>1</td>\n      <td>pantry</td>\n      <td>13</td>\n      <td>17</td>\n      <td>baking ingredients</td>\n    </tr>\n    <tr>\n      <th>1</th>\n      <td>2425083</td>\n      <td>1</td>\n      <td>dairy eggs</td>\n      <td>16</td>\n      <td>91</td>\n      <td>soy lactosefree</td>\n    </tr>\n    <tr>\n      <th>2</th>\n      <td>2425083</td>\n      <td>1</td>\n      <td>dairy eggs</td>\n      <td>16</td>\n      <td>36</td>\n      <td>butter</td>\n    </tr>\n    <tr>\n      <th>3</th>\n      <td>2425083</td>\n      <td>1</td>\n      <td>produce</td>\n      <td>4</td>\n      <td>83</td>\n      <td>fresh vegetables</td>\n    </tr>\n    <tr>\n      <th>4</th>\n      <td>2425083</td>\n      <td>1</td>\n      <td>produce</td>\n      <td>4</td>\n      <td>83</td>\n      <td>fresh vegetables</td>\n    </tr>\n    <tr>\n      <th>...</th>\n      <td>...</td>\n      <td>...</td>\n      <td>...</td>\n      <td>...</td>\n      <td>...</td>\n      <td>...</td>\n    </tr>\n    <tr>\n      <th>2019496</th>\n      <td>3390742</td>\n      <td>16</td>\n      <td>produce</td>\n      <td>4</td>\n      <td>83</td>\n      <td>fresh vegetables</td>\n    </tr>\n    <tr>\n      <th>2019497</th>\n      <td>458285</td>\n      <td>42</td>\n      <td>beverages</td>\n      <td>7</td>\n      <td>115</td>\n      <td>water seltzer sparkling water</td>\n    </tr>\n    <tr>\n      <th>2019498</th>\n      <td>458285</td>\n      <td>42</td>\n      <td>produce</td>\n      <td>4</td>\n      <td>32</td>\n      <td>packaged produce</td>\n    </tr>\n    <tr>\n      <th>2019499</th>\n      <td>458285</td>\n      <td>42</td>\n      <td>produce</td>\n      <td>4</td>\n      <td>32</td>\n      <td>packaged produce</td>\n    </tr>\n    <tr>\n      <th>2019500</th>\n      <td>458285</td>\n      <td>42</td>\n      <td>produce</td>\n      <td>4</td>\n      <td>123</td>\n      <td>packaged vegetables fruits</td>\n    </tr>\n  </tbody>\n</table>\n<p>2019501 rows × 6 columns</p>\n</div>"
     },
     "execution_count": 7,
     "metadata": {},
     "output_type": "execute_result"
    }
   ],
   "source": [
    "df = df[['order_id', 'order_number', 'department', 'department_id', 'product_id', 'product_name']]\n",
    "df"
   ],
   "metadata": {
    "collapsed": false,
    "ExecuteTime": {
     "end_time": "2024-04-14T12:45:56.062520200Z",
     "start_time": "2024-04-14T12:45:55.957521500Z"
    }
   },
   "id": "3e28dc4dc275486c",
   "execution_count": 7
  },
  {
   "cell_type": "code",
   "outputs": [
    {
     "data": {
      "text/plain": "                 product_name\ndepartment                   \nproduce                588996\ndairy eggs             336915\nsnacks                 180692\nbeverages              168126\nfrozen                 139536\npantry                 116262\nbakery                  72983\ncanned goods            66053\ndeli                    65176\ndry goods pasta         54054\nhousehold               46446\nbreakfast               44605\nmeat seafood            44271\npersonal care           28134\nbabies                  25940\ninternational           16738\nalcohol                  9439\npets                     6013\nmissing                  4749\nother                    2240\nbulk                     2133",
      "text/html": "<div>\n<style scoped>\n    .dataframe tbody tr th:only-of-type {\n        vertical-align: middle;\n    }\n\n    .dataframe tbody tr th {\n        vertical-align: top;\n    }\n\n    .dataframe thead th {\n        text-align: right;\n    }\n</style>\n<table border=\"1\" class=\"dataframe\">\n  <thead>\n    <tr style=\"text-align: right;\">\n      <th></th>\n      <th>product_name</th>\n    </tr>\n    <tr>\n      <th>department</th>\n      <th></th>\n    </tr>\n  </thead>\n  <tbody>\n    <tr>\n      <th>produce</th>\n      <td>588996</td>\n    </tr>\n    <tr>\n      <th>dairy eggs</th>\n      <td>336915</td>\n    </tr>\n    <tr>\n      <th>snacks</th>\n      <td>180692</td>\n    </tr>\n    <tr>\n      <th>beverages</th>\n      <td>168126</td>\n    </tr>\n    <tr>\n      <th>frozen</th>\n      <td>139536</td>\n    </tr>\n    <tr>\n      <th>pantry</th>\n      <td>116262</td>\n    </tr>\n    <tr>\n      <th>bakery</th>\n      <td>72983</td>\n    </tr>\n    <tr>\n      <th>canned goods</th>\n      <td>66053</td>\n    </tr>\n    <tr>\n      <th>deli</th>\n      <td>65176</td>\n    </tr>\n    <tr>\n      <th>dry goods pasta</th>\n      <td>54054</td>\n    </tr>\n    <tr>\n      <th>household</th>\n      <td>46446</td>\n    </tr>\n    <tr>\n      <th>breakfast</th>\n      <td>44605</td>\n    </tr>\n    <tr>\n      <th>meat seafood</th>\n      <td>44271</td>\n    </tr>\n    <tr>\n      <th>personal care</th>\n      <td>28134</td>\n    </tr>\n    <tr>\n      <th>babies</th>\n      <td>25940</td>\n    </tr>\n    <tr>\n      <th>international</th>\n      <td>16738</td>\n    </tr>\n    <tr>\n      <th>alcohol</th>\n      <td>9439</td>\n    </tr>\n    <tr>\n      <th>pets</th>\n      <td>6013</td>\n    </tr>\n    <tr>\n      <th>missing</th>\n      <td>4749</td>\n    </tr>\n    <tr>\n      <th>other</th>\n      <td>2240</td>\n    </tr>\n    <tr>\n      <th>bulk</th>\n      <td>2133</td>\n    </tr>\n  </tbody>\n</table>\n</div>"
     },
     "execution_count": 20,
     "metadata": {},
     "output_type": "execute_result"
    }
   ],
   "source": [
    "# number of products per department\n",
    "df.groupby('department').agg({'product_name': 'count'}).sort_values('product_name', ascending=False)"
   ],
   "metadata": {
    "collapsed": false,
    "ExecuteTime": {
     "end_time": "2024-04-14T13:14:32.395968400Z",
     "start_time": "2024-04-14T13:14:32.294961600Z"
    }
   },
   "id": "5541007fdb14a144",
   "execution_count": 20
  },
  {
   "cell_type": "code",
   "outputs": [
    {
     "data": {
      "text/plain": "                 product_name\ndepartment                   \nproduce                588996\ndairy eggs             336915\nsnacks                 180692\nbeverages              168126\nfrozen                 139536\npantry                 116262\nbakery                  72983\ncanned goods            66053\ndeli                    65176\ndry goods pasta         54054\nhousehold               46446\nbreakfast               44605\nmeat seafood            44271",
      "text/html": "<div>\n<style scoped>\n    .dataframe tbody tr th:only-of-type {\n        vertical-align: middle;\n    }\n\n    .dataframe tbody tr th {\n        vertical-align: top;\n    }\n\n    .dataframe thead th {\n        text-align: right;\n    }\n</style>\n<table border=\"1\" class=\"dataframe\">\n  <thead>\n    <tr style=\"text-align: right;\">\n      <th></th>\n      <th>product_name</th>\n    </tr>\n    <tr>\n      <th>department</th>\n      <th></th>\n    </tr>\n  </thead>\n  <tbody>\n    <tr>\n      <th>produce</th>\n      <td>588996</td>\n    </tr>\n    <tr>\n      <th>dairy eggs</th>\n      <td>336915</td>\n    </tr>\n    <tr>\n      <th>snacks</th>\n      <td>180692</td>\n    </tr>\n    <tr>\n      <th>beverages</th>\n      <td>168126</td>\n    </tr>\n    <tr>\n      <th>frozen</th>\n      <td>139536</td>\n    </tr>\n    <tr>\n      <th>pantry</th>\n      <td>116262</td>\n    </tr>\n    <tr>\n      <th>bakery</th>\n      <td>72983</td>\n    </tr>\n    <tr>\n      <th>canned goods</th>\n      <td>66053</td>\n    </tr>\n    <tr>\n      <th>deli</th>\n      <td>65176</td>\n    </tr>\n    <tr>\n      <th>dry goods pasta</th>\n      <td>54054</td>\n    </tr>\n    <tr>\n      <th>household</th>\n      <td>46446</td>\n    </tr>\n    <tr>\n      <th>breakfast</th>\n      <td>44605</td>\n    </tr>\n    <tr>\n      <th>meat seafood</th>\n      <td>44271</td>\n    </tr>\n  </tbody>\n</table>\n</div>"
     },
     "execution_count": 24,
     "metadata": {},
     "output_type": "execute_result"
    }
   ],
   "source": [
    "most_popular_categories = df.groupby('department').agg({'product_name': 'count'}).sort_values('product_name', ascending=False).head(13)\n",
    "most_popular_categories"
   ],
   "metadata": {
    "collapsed": false,
    "ExecuteTime": {
     "end_time": "2024-04-14T13:40:38.851233400Z",
     "start_time": "2024-04-14T13:40:38.715240200Z"
    }
   },
   "id": "67c7f943718f240b",
   "execution_count": 24
  },
  {
   "cell_type": "code",
   "outputs": [
    {
     "data": {
      "text/plain": "                                                      product_name\ndepartment                                                        \nalcohol          [spirits, specialty wines champagnes, white wi...\nbabies           [diapers wipes, baby bath body care, baby acce...\nbakery           [tortillas flat bread, bakery desserts, breakf...\nbeverages        [soft drinks, juice nectars, energy sports dri...\nbreakfast        [granola, hot cereal pancake mixes, cereal, br...\nbulk             [bulk grains rice dried goods, bulk dried frui...\ncanned goods     [canned meat seafood, soup broth bouillon, can...\ndairy eggs       [milk, yogurt, refrigerated pudding desserts, ...\ndeli             [tofu meat alternatives, prepared soups salads...\ndry goods pasta  [grains rice dried goods, instant foods, fresh...\nfrozen           [ice cream ice, frozen meat seafood, frozen ve...\nhousehold        [more household, cleaning products, dish deter...\ninternational    [kosher foods, asian foods, latino foods, indi...\nmeat seafood     [seafood counter, poultry counter, hot dogs ba...\nmissing                                                  [missing]\nother                                                      [other]\npantry           [condiments, pickled goods olives, preserved d...\npersonal care    [facial care, cold flu allergy, first aid, ora...\npets                                [dog food care, cat food care]\nproduce          [packaged vegetables fruits, fresh herbs, pack...\nsnacks           [candy chocolate, mint gum, trail mix snack mi...",
      "text/html": "<div>\n<style scoped>\n    .dataframe tbody tr th:only-of-type {\n        vertical-align: middle;\n    }\n\n    .dataframe tbody tr th {\n        vertical-align: top;\n    }\n\n    .dataframe thead th {\n        text-align: right;\n    }\n</style>\n<table border=\"1\" class=\"dataframe\">\n  <thead>\n    <tr style=\"text-align: right;\">\n      <th></th>\n      <th>product_name</th>\n    </tr>\n    <tr>\n      <th>department</th>\n      <th></th>\n    </tr>\n  </thead>\n  <tbody>\n    <tr>\n      <th>alcohol</th>\n      <td>[spirits, specialty wines champagnes, white wi...</td>\n    </tr>\n    <tr>\n      <th>babies</th>\n      <td>[diapers wipes, baby bath body care, baby acce...</td>\n    </tr>\n    <tr>\n      <th>bakery</th>\n      <td>[tortillas flat bread, bakery desserts, breakf...</td>\n    </tr>\n    <tr>\n      <th>beverages</th>\n      <td>[soft drinks, juice nectars, energy sports dri...</td>\n    </tr>\n    <tr>\n      <th>breakfast</th>\n      <td>[granola, hot cereal pancake mixes, cereal, br...</td>\n    </tr>\n    <tr>\n      <th>bulk</th>\n      <td>[bulk grains rice dried goods, bulk dried frui...</td>\n    </tr>\n    <tr>\n      <th>canned goods</th>\n      <td>[canned meat seafood, soup broth bouillon, can...</td>\n    </tr>\n    <tr>\n      <th>dairy eggs</th>\n      <td>[milk, yogurt, refrigerated pudding desserts, ...</td>\n    </tr>\n    <tr>\n      <th>deli</th>\n      <td>[tofu meat alternatives, prepared soups salads...</td>\n    </tr>\n    <tr>\n      <th>dry goods pasta</th>\n      <td>[grains rice dried goods, instant foods, fresh...</td>\n    </tr>\n    <tr>\n      <th>frozen</th>\n      <td>[ice cream ice, frozen meat seafood, frozen ve...</td>\n    </tr>\n    <tr>\n      <th>household</th>\n      <td>[more household, cleaning products, dish deter...</td>\n    </tr>\n    <tr>\n      <th>international</th>\n      <td>[kosher foods, asian foods, latino foods, indi...</td>\n    </tr>\n    <tr>\n      <th>meat seafood</th>\n      <td>[seafood counter, poultry counter, hot dogs ba...</td>\n    </tr>\n    <tr>\n      <th>missing</th>\n      <td>[missing]</td>\n    </tr>\n    <tr>\n      <th>other</th>\n      <td>[other]</td>\n    </tr>\n    <tr>\n      <th>pantry</th>\n      <td>[condiments, pickled goods olives, preserved d...</td>\n    </tr>\n    <tr>\n      <th>personal care</th>\n      <td>[facial care, cold flu allergy, first aid, ora...</td>\n    </tr>\n    <tr>\n      <th>pets</th>\n      <td>[dog food care, cat food care]</td>\n    </tr>\n    <tr>\n      <th>produce</th>\n      <td>[packaged vegetables fruits, fresh herbs, pack...</td>\n    </tr>\n    <tr>\n      <th>snacks</th>\n      <td>[candy chocolate, mint gum, trail mix snack mi...</td>\n    </tr>\n  </tbody>\n</table>\n</div>"
     },
     "execution_count": 13,
     "metadata": {},
     "output_type": "execute_result"
    }
   ],
   "source": [
    "# group products by department and display\n",
    "df.groupby('department').agg({'product_name': lambda x: list(set(x))})"
   ],
   "metadata": {
    "collapsed": false,
    "ExecuteTime": {
     "end_time": "2024-04-14T12:50:17.711697600Z",
     "start_time": "2024-04-14T12:50:17.486696Z"
    }
   },
   "id": "e7b7381a329753a3",
   "execution_count": 13
  },
  {
   "cell_type": "code",
   "outputs": [
    {
     "data": {
      "text/plain": "                                                      product_name  \\\ndepartment                                                           \npersonal care    [facial care, cold flu allergy, first aid, ora...   \npantry           [condiments, pickled goods olives, preserved d...   \nfrozen           [ice cream ice, frozen meat seafood, frozen ve...   \nsnacks           [candy chocolate, mint gum, trail mix snack mi...   \ndairy eggs       [milk, yogurt, refrigerated pudding desserts, ...   \nhousehold        [more household, cleaning products, dish deter...   \nbeverages        [soft drinks, juice nectars, energy sports dri...   \nmeat seafood     [seafood counter, poultry counter, hot dogs ba...   \nalcohol          [spirits, specialty wines champagnes, white wi...   \ncanned goods     [canned meat seafood, soup broth bouillon, can...   \ndeli             [tofu meat alternatives, prepared soups salads...   \ndry goods pasta  [grains rice dried goods, instant foods, fresh...   \nproduce          [packaged vegetables fruits, fresh herbs, pack...   \nbakery           [tortillas flat bread, bakery desserts, breakf...   \nbreakfast        [granola, hot cereal pancake mixes, cereal, br...   \nbabies           [diapers wipes, baby bath body care, baby acce...   \ninternational    [kosher foods, asian foods, latino foods, indi...   \nbulk             [bulk grains rice dried goods, bulk dried frui...   \npets                                [dog food care, cat food care]   \nother                                                      [other]   \nmissing                                                  [missing]   \n\n                 names_count  \ndepartment                    \npersonal care             17  \npantry                    12  \nfrozen                    11  \nsnacks                    11  \ndairy eggs                10  \nhousehold                 10  \nbeverages                  8  \nmeat seafood               7  \nalcohol                    5  \ncanned goods               5  \ndeli                       5  \ndry goods pasta            5  \nproduce                    5  \nbakery                     5  \nbreakfast                  4  \nbabies                     4  \ninternational              4  \nbulk                       2  \npets                       2  \nother                      1  \nmissing                    1  ",
      "text/html": "<div>\n<style scoped>\n    .dataframe tbody tr th:only-of-type {\n        vertical-align: middle;\n    }\n\n    .dataframe tbody tr th {\n        vertical-align: top;\n    }\n\n    .dataframe thead th {\n        text-align: right;\n    }\n</style>\n<table border=\"1\" class=\"dataframe\">\n  <thead>\n    <tr style=\"text-align: right;\">\n      <th></th>\n      <th>product_name</th>\n      <th>names_count</th>\n    </tr>\n    <tr>\n      <th>department</th>\n      <th></th>\n      <th></th>\n    </tr>\n  </thead>\n  <tbody>\n    <tr>\n      <th>personal care</th>\n      <td>[facial care, cold flu allergy, first aid, ora...</td>\n      <td>17</td>\n    </tr>\n    <tr>\n      <th>pantry</th>\n      <td>[condiments, pickled goods olives, preserved d...</td>\n      <td>12</td>\n    </tr>\n    <tr>\n      <th>frozen</th>\n      <td>[ice cream ice, frozen meat seafood, frozen ve...</td>\n      <td>11</td>\n    </tr>\n    <tr>\n      <th>snacks</th>\n      <td>[candy chocolate, mint gum, trail mix snack mi...</td>\n      <td>11</td>\n    </tr>\n    <tr>\n      <th>dairy eggs</th>\n      <td>[milk, yogurt, refrigerated pudding desserts, ...</td>\n      <td>10</td>\n    </tr>\n    <tr>\n      <th>household</th>\n      <td>[more household, cleaning products, dish deter...</td>\n      <td>10</td>\n    </tr>\n    <tr>\n      <th>beverages</th>\n      <td>[soft drinks, juice nectars, energy sports dri...</td>\n      <td>8</td>\n    </tr>\n    <tr>\n      <th>meat seafood</th>\n      <td>[seafood counter, poultry counter, hot dogs ba...</td>\n      <td>7</td>\n    </tr>\n    <tr>\n      <th>alcohol</th>\n      <td>[spirits, specialty wines champagnes, white wi...</td>\n      <td>5</td>\n    </tr>\n    <tr>\n      <th>canned goods</th>\n      <td>[canned meat seafood, soup broth bouillon, can...</td>\n      <td>5</td>\n    </tr>\n    <tr>\n      <th>deli</th>\n      <td>[tofu meat alternatives, prepared soups salads...</td>\n      <td>5</td>\n    </tr>\n    <tr>\n      <th>dry goods pasta</th>\n      <td>[grains rice dried goods, instant foods, fresh...</td>\n      <td>5</td>\n    </tr>\n    <tr>\n      <th>produce</th>\n      <td>[packaged vegetables fruits, fresh herbs, pack...</td>\n      <td>5</td>\n    </tr>\n    <tr>\n      <th>bakery</th>\n      <td>[tortillas flat bread, bakery desserts, breakf...</td>\n      <td>5</td>\n    </tr>\n    <tr>\n      <th>breakfast</th>\n      <td>[granola, hot cereal pancake mixes, cereal, br...</td>\n      <td>4</td>\n    </tr>\n    <tr>\n      <th>babies</th>\n      <td>[diapers wipes, baby bath body care, baby acce...</td>\n      <td>4</td>\n    </tr>\n    <tr>\n      <th>international</th>\n      <td>[kosher foods, asian foods, latino foods, indi...</td>\n      <td>4</td>\n    </tr>\n    <tr>\n      <th>bulk</th>\n      <td>[bulk grains rice dried goods, bulk dried frui...</td>\n      <td>2</td>\n    </tr>\n    <tr>\n      <th>pets</th>\n      <td>[dog food care, cat food care]</td>\n      <td>2</td>\n    </tr>\n    <tr>\n      <th>other</th>\n      <td>[other]</td>\n      <td>1</td>\n    </tr>\n    <tr>\n      <th>missing</th>\n      <td>[missing]</td>\n      <td>1</td>\n    </tr>\n  </tbody>\n</table>\n</div>"
     },
     "execution_count": 36,
     "metadata": {},
     "output_type": "execute_result"
    }
   ],
   "source": [
    "dep = df.groupby('department').agg({'product_name': lambda x: list(set(x))})\n",
    "dep['names_count'] = dep['product_name'].apply(lambda x: len(x))\n",
    "dep.sort_values('names_count', ascending=False)"
   ],
   "metadata": {
    "collapsed": false,
    "ExecuteTime": {
     "end_time": "2024-04-14T13:50:12.364973700Z",
     "start_time": "2024-04-14T13:50:12.102908Z"
    }
   },
   "id": "f64a5c0ca5e47b0b",
   "execution_count": 36
  },
  {
   "cell_type": "code",
   "outputs": [],
   "source": [
    "best_df = dep.join(most_popular_categories, on='department', how='left', rsuffix='_r', lsuffix='_l')"
   ],
   "metadata": {
    "collapsed": false,
    "ExecuteTime": {
     "end_time": "2024-04-14T13:50:15.093344500Z",
     "start_time": "2024-04-14T13:50:15.085337900Z"
    }
   },
   "id": "2a1297a2a03da613",
   "execution_count": 37
  },
  {
   "cell_type": "code",
   "outputs": [],
   "source": [
    "# rename columns\n",
    "best_df.rename(columns={'product_name_l': 'product_names', 'product_name_r': 'product_count'}, inplace=True)"
   ],
   "metadata": {
    "collapsed": false,
    "ExecuteTime": {
     "end_time": "2024-04-14T13:50:16.551675Z",
     "start_time": "2024-04-14T13:50:16.544675600Z"
    }
   },
   "id": "aacd650f09c101c4",
   "execution_count": 38
  },
  {
   "cell_type": "code",
   "outputs": [
    {
     "data": {
      "text/plain": "                                                     product_names  \\\ndepartment                                                           \npersonal care    [facial care, cold flu allergy, first aid, ora...   \npantry           [condiments, pickled goods olives, preserved d...   \nfrozen           [ice cream ice, frozen meat seafood, frozen ve...   \nsnacks           [candy chocolate, mint gum, trail mix snack mi...   \ndairy eggs       [milk, yogurt, refrigerated pudding desserts, ...   \nhousehold        [more household, cleaning products, dish deter...   \nbeverages        [soft drinks, juice nectars, energy sports dri...   \nmeat seafood     [seafood counter, poultry counter, hot dogs ba...   \nalcohol          [spirits, specialty wines champagnes, white wi...   \ncanned goods     [canned meat seafood, soup broth bouillon, can...   \ndeli             [tofu meat alternatives, prepared soups salads...   \ndry goods pasta  [grains rice dried goods, instant foods, fresh...   \nproduce          [packaged vegetables fruits, fresh herbs, pack...   \nbakery           [tortillas flat bread, bakery desserts, breakf...   \nbreakfast        [granola, hot cereal pancake mixes, cereal, br...   \nbabies           [diapers wipes, baby bath body care, baby acce...   \ninternational    [kosher foods, asian foods, latino foods, indi...   \nbulk             [bulk grains rice dried goods, bulk dried frui...   \npets                                [dog food care, cat food care]   \nother                                                      [other]   \nmissing                                                  [missing]   \n\n                 names_count  product_count  \ndepartment                                   \npersonal care             17            NaN  \npantry                    12       116262.0  \nfrozen                    11       139536.0  \nsnacks                    11       180692.0  \ndairy eggs                10       336915.0  \nhousehold                 10        46446.0  \nbeverages                  8       168126.0  \nmeat seafood               7        44271.0  \nalcohol                    5            NaN  \ncanned goods               5        66053.0  \ndeli                       5        65176.0  \ndry goods pasta            5        54054.0  \nproduce                    5       588996.0  \nbakery                     5        72983.0  \nbreakfast                  4        44605.0  \nbabies                     4            NaN  \ninternational              4            NaN  \nbulk                       2            NaN  \npets                       2            NaN  \nother                      1            NaN  \nmissing                    1            NaN  ",
      "text/html": "<div>\n<style scoped>\n    .dataframe tbody tr th:only-of-type {\n        vertical-align: middle;\n    }\n\n    .dataframe tbody tr th {\n        vertical-align: top;\n    }\n\n    .dataframe thead th {\n        text-align: right;\n    }\n</style>\n<table border=\"1\" class=\"dataframe\">\n  <thead>\n    <tr style=\"text-align: right;\">\n      <th></th>\n      <th>product_names</th>\n      <th>names_count</th>\n      <th>product_count</th>\n    </tr>\n    <tr>\n      <th>department</th>\n      <th></th>\n      <th></th>\n      <th></th>\n    </tr>\n  </thead>\n  <tbody>\n    <tr>\n      <th>personal care</th>\n      <td>[facial care, cold flu allergy, first aid, ora...</td>\n      <td>17</td>\n      <td>NaN</td>\n    </tr>\n    <tr>\n      <th>pantry</th>\n      <td>[condiments, pickled goods olives, preserved d...</td>\n      <td>12</td>\n      <td>116262.0</td>\n    </tr>\n    <tr>\n      <th>frozen</th>\n      <td>[ice cream ice, frozen meat seafood, frozen ve...</td>\n      <td>11</td>\n      <td>139536.0</td>\n    </tr>\n    <tr>\n      <th>snacks</th>\n      <td>[candy chocolate, mint gum, trail mix snack mi...</td>\n      <td>11</td>\n      <td>180692.0</td>\n    </tr>\n    <tr>\n      <th>dairy eggs</th>\n      <td>[milk, yogurt, refrigerated pudding desserts, ...</td>\n      <td>10</td>\n      <td>336915.0</td>\n    </tr>\n    <tr>\n      <th>household</th>\n      <td>[more household, cleaning products, dish deter...</td>\n      <td>10</td>\n      <td>46446.0</td>\n    </tr>\n    <tr>\n      <th>beverages</th>\n      <td>[soft drinks, juice nectars, energy sports dri...</td>\n      <td>8</td>\n      <td>168126.0</td>\n    </tr>\n    <tr>\n      <th>meat seafood</th>\n      <td>[seafood counter, poultry counter, hot dogs ba...</td>\n      <td>7</td>\n      <td>44271.0</td>\n    </tr>\n    <tr>\n      <th>alcohol</th>\n      <td>[spirits, specialty wines champagnes, white wi...</td>\n      <td>5</td>\n      <td>NaN</td>\n    </tr>\n    <tr>\n      <th>canned goods</th>\n      <td>[canned meat seafood, soup broth bouillon, can...</td>\n      <td>5</td>\n      <td>66053.0</td>\n    </tr>\n    <tr>\n      <th>deli</th>\n      <td>[tofu meat alternatives, prepared soups salads...</td>\n      <td>5</td>\n      <td>65176.0</td>\n    </tr>\n    <tr>\n      <th>dry goods pasta</th>\n      <td>[grains rice dried goods, instant foods, fresh...</td>\n      <td>5</td>\n      <td>54054.0</td>\n    </tr>\n    <tr>\n      <th>produce</th>\n      <td>[packaged vegetables fruits, fresh herbs, pack...</td>\n      <td>5</td>\n      <td>588996.0</td>\n    </tr>\n    <tr>\n      <th>bakery</th>\n      <td>[tortillas flat bread, bakery desserts, breakf...</td>\n      <td>5</td>\n      <td>72983.0</td>\n    </tr>\n    <tr>\n      <th>breakfast</th>\n      <td>[granola, hot cereal pancake mixes, cereal, br...</td>\n      <td>4</td>\n      <td>44605.0</td>\n    </tr>\n    <tr>\n      <th>babies</th>\n      <td>[diapers wipes, baby bath body care, baby acce...</td>\n      <td>4</td>\n      <td>NaN</td>\n    </tr>\n    <tr>\n      <th>international</th>\n      <td>[kosher foods, asian foods, latino foods, indi...</td>\n      <td>4</td>\n      <td>NaN</td>\n    </tr>\n    <tr>\n      <th>bulk</th>\n      <td>[bulk grains rice dried goods, bulk dried frui...</td>\n      <td>2</td>\n      <td>NaN</td>\n    </tr>\n    <tr>\n      <th>pets</th>\n      <td>[dog food care, cat food care]</td>\n      <td>2</td>\n      <td>NaN</td>\n    </tr>\n    <tr>\n      <th>other</th>\n      <td>[other]</td>\n      <td>1</td>\n      <td>NaN</td>\n    </tr>\n    <tr>\n      <th>missing</th>\n      <td>[missing]</td>\n      <td>1</td>\n      <td>NaN</td>\n    </tr>\n  </tbody>\n</table>\n</div>"
     },
     "execution_count": 40,
     "metadata": {},
     "output_type": "execute_result"
    }
   ],
   "source": [
    "best_df.sort_values('names_count', ascending=False)"
   ],
   "metadata": {
    "collapsed": false,
    "ExecuteTime": {
     "end_time": "2024-04-14T13:50:35.247608200Z",
     "start_time": "2024-04-14T13:50:35.228610100Z"
    }
   },
   "id": "8c091acb1eeb1061",
   "execution_count": 40
  },
  {
   "cell_type": "code",
   "outputs": [
    {
     "data": {
      "text/plain": "                                                     product_names  \\\ndepartment                                                           \nbakery           [tortillas flat bread, bakery desserts, breakf...   \nbeverages        [soft drinks, juice nectars, energy sports dri...   \nbreakfast        [granola, hot cereal pancake mixes, cereal, br...   \ncanned goods     [canned meat seafood, soup broth bouillon, can...   \ndairy eggs       [milk, yogurt, refrigerated pudding desserts, ...   \ndeli             [tofu meat alternatives, prepared soups salads...   \ndry goods pasta  [grains rice dried goods, instant foods, fresh...   \nfrozen           [ice cream ice, frozen meat seafood, frozen ve...   \nhousehold        [more household, cleaning products, dish deter...   \nmeat seafood     [seafood counter, poultry counter, hot dogs ba...   \npantry           [condiments, pickled goods olives, preserved d...   \nproduce          [packaged vegetables fruits, fresh herbs, pack...   \nsnacks           [candy chocolate, mint gum, trail mix snack mi...   \n\n                 names_count  product_count  \ndepartment                                   \nbakery                     5        72983.0  \nbeverages                  8       168126.0  \nbreakfast                  4        44605.0  \ncanned goods               5        66053.0  \ndairy eggs                10       336915.0  \ndeli                       5        65176.0  \ndry goods pasta            5        54054.0  \nfrozen                    11       139536.0  \nhousehold                 10        46446.0  \nmeat seafood               7        44271.0  \npantry                    12       116262.0  \nproduce                    5       588996.0  \nsnacks                    11       180692.0  ",
      "text/html": "<div>\n<style scoped>\n    .dataframe tbody tr th:only-of-type {\n        vertical-align: middle;\n    }\n\n    .dataframe tbody tr th {\n        vertical-align: top;\n    }\n\n    .dataframe thead th {\n        text-align: right;\n    }\n</style>\n<table border=\"1\" class=\"dataframe\">\n  <thead>\n    <tr style=\"text-align: right;\">\n      <th></th>\n      <th>product_names</th>\n      <th>names_count</th>\n      <th>product_count</th>\n    </tr>\n    <tr>\n      <th>department</th>\n      <th></th>\n      <th></th>\n      <th></th>\n    </tr>\n  </thead>\n  <tbody>\n    <tr>\n      <th>bakery</th>\n      <td>[tortillas flat bread, bakery desserts, breakf...</td>\n      <td>5</td>\n      <td>72983.0</td>\n    </tr>\n    <tr>\n      <th>beverages</th>\n      <td>[soft drinks, juice nectars, energy sports dri...</td>\n      <td>8</td>\n      <td>168126.0</td>\n    </tr>\n    <tr>\n      <th>breakfast</th>\n      <td>[granola, hot cereal pancake mixes, cereal, br...</td>\n      <td>4</td>\n      <td>44605.0</td>\n    </tr>\n    <tr>\n      <th>canned goods</th>\n      <td>[canned meat seafood, soup broth bouillon, can...</td>\n      <td>5</td>\n      <td>66053.0</td>\n    </tr>\n    <tr>\n      <th>dairy eggs</th>\n      <td>[milk, yogurt, refrigerated pudding desserts, ...</td>\n      <td>10</td>\n      <td>336915.0</td>\n    </tr>\n    <tr>\n      <th>deli</th>\n      <td>[tofu meat alternatives, prepared soups salads...</td>\n      <td>5</td>\n      <td>65176.0</td>\n    </tr>\n    <tr>\n      <th>dry goods pasta</th>\n      <td>[grains rice dried goods, instant foods, fresh...</td>\n      <td>5</td>\n      <td>54054.0</td>\n    </tr>\n    <tr>\n      <th>frozen</th>\n      <td>[ice cream ice, frozen meat seafood, frozen ve...</td>\n      <td>11</td>\n      <td>139536.0</td>\n    </tr>\n    <tr>\n      <th>household</th>\n      <td>[more household, cleaning products, dish deter...</td>\n      <td>10</td>\n      <td>46446.0</td>\n    </tr>\n    <tr>\n      <th>meat seafood</th>\n      <td>[seafood counter, poultry counter, hot dogs ba...</td>\n      <td>7</td>\n      <td>44271.0</td>\n    </tr>\n    <tr>\n      <th>pantry</th>\n      <td>[condiments, pickled goods olives, preserved d...</td>\n      <td>12</td>\n      <td>116262.0</td>\n    </tr>\n    <tr>\n      <th>produce</th>\n      <td>[packaged vegetables fruits, fresh herbs, pack...</td>\n      <td>5</td>\n      <td>588996.0</td>\n    </tr>\n    <tr>\n      <th>snacks</th>\n      <td>[candy chocolate, mint gum, trail mix snack mi...</td>\n      <td>11</td>\n      <td>180692.0</td>\n    </tr>\n  </tbody>\n</table>\n</div>"
     },
     "execution_count": 41,
     "metadata": {},
     "output_type": "execute_result"
    }
   ],
   "source": [
    "best_df = best_df.dropna()\n",
    "best_df"
   ],
   "metadata": {
    "collapsed": false,
    "ExecuteTime": {
     "end_time": "2024-04-14T13:57:09.904273800Z",
     "start_time": "2024-04-14T13:57:09.850275400Z"
    }
   },
   "id": "52ed662335209533",
   "execution_count": 41
  },
  {
   "cell_type": "code",
   "outputs": [
    {
     "data": {
      "text/plain": "['bakery',\n 'beverages',\n 'breakfast',\n 'canned goods',\n 'dairy eggs',\n 'deli',\n 'dry goods pasta',\n 'frozen',\n 'household',\n 'meat seafood',\n 'pantry',\n 'produce',\n 'snacks']"
     },
     "execution_count": 44,
     "metadata": {},
     "output_type": "execute_result"
    }
   ],
   "source": [
    "selected_departments = best_df.index.to_list()\n",
    "selected_departments"
   ],
   "metadata": {
    "collapsed": false,
    "ExecuteTime": {
     "end_time": "2024-04-14T14:06:19.405629300Z",
     "start_time": "2024-04-14T14:06:19.352623Z"
    }
   },
   "id": "26e81ee0bd01de4c",
   "execution_count": 44
  },
  {
   "cell_type": "code",
   "outputs": [],
   "source": [],
   "metadata": {
    "collapsed": false
   },
   "id": "7472d13e487a"
  }
 ],
 "metadata": {
  "kernelspec": {
   "display_name": "Python 3",
   "language": "python",
   "name": "python3"
  },
  "language_info": {
   "codemirror_mode": {
    "name": "ipython",
    "version": 2
   },
   "file_extension": ".py",
   "mimetype": "text/x-python",
   "name": "python",
   "nbconvert_exporter": "python",
   "pygments_lexer": "ipython2",
   "version": "2.7.6"
  }
 },
 "nbformat": 4,
 "nbformat_minor": 5
}
