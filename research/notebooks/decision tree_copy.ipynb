{
 "cells": [
  {
   "cell_type": "code",
   "outputs": [],
   "source": [
    "import random\n",
    "import os\n",
    "\n",
    "import neat\n",
    "from neat import DistributedEvaluator, ParallelEvaluator\n",
    "from tqdm.notebook import tqdm, trange\n",
    "from pathlib import Path\n",
    "from random import randint\n",
    "from ui.python.Layout import Layout\n",
    "import numpy as np\n",
    "\n",
    "from helpers.estimation_helpers import *\n",
    "import helpers.visualize as visualize\n",
    "\n",
    "import pandas as pd"
   ],
   "metadata": {
    "collapsed": false,
    "ExecuteTime": {
     "end_time": "2024-04-24T19:42:05.272359800Z",
     "start_time": "2024-04-24T19:42:04.042255100Z"
    }
   },
   "id": "4f889f2d82463d94",
   "execution_count": 1
  },
  {
   "cell_type": "code",
   "outputs": [],
   "source": [
    "MAX_WORKERS = 10\n",
    "SLICE_SIZE = 400\n",
    "EPOCHS = 100\n",
    "SCORE_COEFFICIENTS = (500, 350, 150)\n",
    "layout = Layout('./../data/layouts/genetic/step1-max/layout_4_racks.json').reset_item_count().reset_path_count()\n",
    "item_list = None\n",
    "check_list = None\n",
    "check_ids = None\n",
    "df = None\n",
    "best = None\n",
    "str_item = None\n",
    "selected_categories = [\n",
    " 'bakery',\n",
    " 'beverages',\n",
    " 'breakfast',\n",
    " 'canned goods',\n",
    " 'dairy eggs',\n",
    " 'deli',\n",
    " 'dry goods pasta',\n",
    " 'frozen',\n",
    " 'household',\n",
    " 'meat seafood',\n",
    " 'pantry',\n",
    " 'produce',\n",
    " 'snacks']"
   ],
   "metadata": {
    "collapsed": false,
    "ExecuteTime": {
     "end_time": "2024-04-24T19:42:05.296359400Z",
     "start_time": "2024-04-24T19:42:04.833229800Z"
    }
   },
   "id": "4e736ea276fce4e0",
   "execution_count": 2
  },
  {
   "cell_type": "code",
   "outputs": [],
   "source": [
    "check_config = {\n",
    "    1: 15,\n",
    "    2: 25,\n",
    "    3: 30,\n",
    "    4: 30,\n",
    "    5: 35,\n",
    "    6: 30,\n",
    "    7: 25,\n",
    "}"
   ],
   "metadata": {
    "collapsed": false,
    "ExecuteTime": {
     "end_time": "2024-04-24T19:42:05.298359600Z",
     "start_time": "2024-04-24T19:42:04.903211400Z"
    }
   },
   "id": "da8b4cf7938035a8",
   "execution_count": 3
  },
  {
   "cell_type": "code",
   "outputs": [],
   "source": [
    "def get_order_items(order_id):\n",
    "    return order_id, list(map(str, df[df['order_id'] == order_id]['product_id'].tolist()))\n",
    "\n",
    "def create_input_for_genome(layout, i, j, level):\n",
    "    def tile_enum_to_int(tile):\n",
    "        if tile.type.value == 'wall':\n",
    "            return 0\n",
    "        if tile.type.value == 'floor':\n",
    "            return 1\n",
    "        if tile.type.value == 'rack':\n",
    "            return 2\n",
    "        if tile.type.value == 'door':\n",
    "            return 3\n",
    "        if tile.type.value == 'cashier':\n",
    "            return 4\n",
    "        return 0\n",
    "\n",
    "    def convert_items_to_int(items):\n",
    "        ids = []\n",
    "        if len(items) == 0:\n",
    "            return [(-1, -1), (-1, -1), (-1, -1), (-1, -1)]\n",
    "        for item in items:\n",
    "            if item[0] == '':\n",
    "                ids.append((-1, 0))\n",
    "            else:\n",
    "                ids.append((int(item[0]), int(item[1])))\n",
    "        return ids\n",
    "\n",
    "    tile_info = get_tile_info(layout, i, j)\n",
    "    if tile_info is None:\n",
    "        return None\n",
    "\n",
    "    left_products = convert_items_to_int(tile_info['left_products'])\n",
    "    right_products = convert_items_to_int(tile_info['right_products'])\n",
    "\n",
    "    return [\n",
    "        level,\n",
    "        tile_info['dist_to_cashier'],\n",
    "        tile_info['dist_to_exit'],\n",
    "        tile_info['orientation'][0],\n",
    "        tile_info['orientation'][1],\n",
    "        left_products[0][0],\n",
    "        left_products[0][1],\n",
    "        left_products[1][0],\n",
    "        left_products[1][1],\n",
    "        left_products[2][0],\n",
    "        left_products[2][1],\n",
    "        left_products[3][0],\n",
    "        left_products[3][1],\n",
    "        right_products[0][0],\n",
    "        right_products[0][1],\n",
    "        right_products[1][0],\n",
    "        right_products[1][1],\n",
    "        right_products[2][0],\n",
    "        right_products[2][1],\n",
    "        right_products[3][0],\n",
    "        right_products[3][1],\n",
    "        tile_enum_to_int(layout[i - 1][j]),\n",
    "        tile_enum_to_int(layout[i + 1][j]),\n",
    "        tile_enum_to_int(layout[i][j - 1]),\n",
    "        tile_enum_to_int(layout[i][j + 1]),\n",
    "        tile_enum_to_int(layout[i - 1][j - 1]),\n",
    "        tile_enum_to_int(layout[i + 1][j + 1]),\n",
    "        tile_enum_to_int(layout[i - 1][j + 1]),\n",
    "        tile_enum_to_int(layout[i + 1][j - 1]),\n",
    "    ]\n"
   ],
   "metadata": {
    "collapsed": false,
    "ExecuteTime": {
     "end_time": "2024-04-24T19:42:05.299358700Z",
     "start_time": "2024-04-24T19:42:04.912213200Z"
    }
   },
   "id": "520cfdc9642824ec",
   "execution_count": 4
  },
  {
   "cell_type": "code",
   "outputs": [],
   "source": [
    "def random_layout(items_list):\n",
    "    layout = Layout('./../data/layout 18x25_6.json')\n",
    "    layout.set_item_list(items_list)\n",
    "    for row in range(layout.shape[0]):\n",
    "        for col in range(layout.shape[1]):\n",
    "            if layout[row][col].type.name == 'RACK':\n",
    "                for lev in range(layout.get_max_rack_level()):\n",
    "                    layout.set_item_to_rack(random.choice(layout.get_item_list()), (row, col), level=lev)\n",
    "    return layout"
   ],
   "metadata": {
    "collapsed": false,
    "ExecuteTime": {
     "end_time": "2024-04-24T19:42:05.299358700Z",
     "start_time": "2024-04-24T19:42:04.916209800Z"
    }
   },
   "id": "f6639d5d32bd45e0",
   "execution_count": 5
  },
  {
   "cell_type": "code",
   "outputs": [
    {
     "data": {
      "text/plain": "  0%|          | 0/10000 [00:00<?, ?it/s]",
      "application/vnd.jupyter.widget-view+json": {
       "version_major": 2,
       "version_minor": 0,
       "model_id": "639f3cc390df4ec7931ebe11bdb6624b"
      }
     },
     "metadata": {},
     "output_type": "display_data"
    },
    {
     "data": {
      "text/plain": "  0%|          | 0/7 [00:00<?, ?it/s]",
      "application/vnd.jupyter.widget-view+json": {
       "version_major": 2,
       "version_minor": 0,
       "model_id": "62466ef864e64327bad200f7c312622f"
      }
     },
     "metadata": {},
     "output_type": "display_data"
    }
   ],
   "source": [
    "df = pd.read_csv('./../data/datasets/ECommerce_consumer behaviour.csv')\n",
    "df = df[['order_id', 'user_id', 'order_number', 'department', 'product_id', 'product_name']]\n",
    "check_list = []\n",
    "\n",
    "df = df[df['department'].isin(selected_categories)]\n",
    "\n",
    "\n",
    "def get_order_items(order_id):\n",
    "    order = df[df['order_id'] == order_id]\n",
    "    is_in_category = order['department'].apply(lambda x: x in selected_categories)\n",
    "    return order_id, order[is_in_category]['product_name'].unique().tolist()\\\n",
    "\n",
    "# Create check list\n",
    "check_ids = df['order_id'].unique().tolist()\n",
    "check_list = []\n",
    "for check_id in tqdm(check_ids[:10000]):\n",
    "    check = get_order_items(check_id)\n",
    "    check_list.append(check)\n",
    "\n",
    "def get_checks_of_specific_length(check_list, length):\n",
    "    return [x for x in check_list if len(x[1]) == length]\n",
    "\n",
    "def get_checks_of_specific_length_range(check_list, range_dict):\n",
    "    # range dict: length - n_of_checks\n",
    "    res = []\n",
    "    for key in tqdm(range_dict.keys()):\n",
    "        res += get_checks_of_specific_length(check_list, key)[:range_dict[key]]\n",
    "    return res\n",
    "\n",
    "tuned_checks = get_checks_of_specific_length_range(check_list, check_config)\n",
    "\n",
    "# convert tuned checks item names to item ids\n",
    "check_list = []\n",
    "name_id_df = df[['product_name', 'product_id']].drop_duplicates()\n",
    "# ids are not sequential numbers, so we need to map them to sequential numbers\n",
    "name_id_df['product_id_norm'] = range(1, len(name_id_df) + 1)\n",
    "for check in tuned_checks:\n",
    "    check_list.append((check[0], [str(name_id_df[name_id_df['product_name'] == x]['product_id_norm'].values[0]) for x in check[1]]))\n",
    "\n",
    "#convert layout items to item ids\n",
    "str_items = name_id_df['product_id_norm'].unique().tolist()\n",
    "str_items = [str(x) for x in str_items]\n",
    "layout.set_item_list(str_items, reset_items=False)\n",
    "for i in range(layout.shape[0]):\n",
    "    for j in range(layout.shape[1]):\n",
    "        if layout[i][j].type.name == 'RACK':\n",
    "            items = layout[i][j].items\n",
    "            for level in range(layout.get_max_rack_level()):\n",
    "                item = items[level]\n",
    "                new_item = name_id_df[name_id_df['product_name'] == item[0]]['product_id_norm'].values[0]\n",
    "                layout.set_item_to_rack(str(new_item), (i, j), level=level)\n",
    "layout = random_layout(str_items)\n",
    "best = None"
   ],
   "metadata": {
    "collapsed": false,
    "ExecuteTime": {
     "end_time": "2024-04-24T19:42:31.144034800Z",
     "start_time": "2024-04-24T19:42:04.926211700Z"
    }
   },
   "id": "8d1ea4bc0a52b21d",
   "execution_count": 6
  },
  {
   "cell_type": "markdown",
   "source": [
    "# Data preparation"
   ],
   "metadata": {
    "collapsed": false
   },
   "id": "cd536f56532aab64"
  },
  {
   "cell_type": "markdown",
   "source": [
    "idea - take a layout, generate all possible changes for every rack, evaluate them and feed it to decision tree: state-action as X, reward diff as Y"
   ],
   "metadata": {
    "collapsed": false
   },
   "id": "d840887ae8fa6738"
  },
  {
   "cell_type": "code",
   "outputs": [],
   "source": [
    "data = {\n",
    "    \"state\": [],\n",
    "    \"action\": [],\n",
    "    \"reward\": [], \n",
    "    \"info\": []\n",
    "}"
   ],
   "metadata": {
    "collapsed": false,
    "ExecuteTime": {
     "end_time": "2024-04-24T19:42:31.153033800Z",
     "start_time": "2024-04-24T19:42:31.146036100Z"
    }
   },
   "id": "10b64a1dc278aa7c",
   "execution_count": 7
  },
  {
   "cell_type": "code",
   "outputs": [],
   "source": [
    "curr_info, _ = thread_func(layout, check_list)\n",
    "current_reward = calculate_score(curr_info, layout, check_list, SCORE_COEFFICIENTS)"
   ],
   "metadata": {
    "collapsed": false,
    "ExecuteTime": {
     "end_time": "2024-04-24T19:42:31.359012200Z",
     "start_time": "2024-04-24T19:42:31.151035900Z"
    }
   },
   "id": "d74e5a55a6fb3a24",
   "execution_count": 8
  },
  {
   "cell_type": "code",
   "outputs": [
    {
     "data": {
      "text/plain": "<ui.python.Layout.Layout at 0x7fa1b4760850>"
     },
     "execution_count": 9,
     "metadata": {},
     "output_type": "execute_result"
    }
   ],
   "source": [
    "layout.reset_item_count()\n",
    "layout.reset_path_count()"
   ],
   "metadata": {
    "collapsed": false,
    "ExecuteTime": {
     "end_time": "2024-04-24T19:42:31.370023300Z",
     "start_time": "2024-04-24T19:42:31.364013Z"
    }
   },
   "id": "89da390d5ef80ac9",
   "execution_count": 9
  },
  {
   "cell_type": "code",
   "outputs": [],
   "source": [
    "_, layout = thread_func(layout, check_list)"
   ],
   "metadata": {
    "collapsed": false,
    "ExecuteTime": {
     "end_time": "2024-04-24T19:42:31.585215100Z",
     "start_time": "2024-04-24T19:42:31.411023900Z"
    }
   },
   "id": "3d382a85fbb3c729",
   "execution_count": 10
  },
  {
   "cell_type": "code",
   "outputs": [
    {
     "data": {
      "text/plain": "  0%|          | 0/18 [00:00<?, ?it/s]",
      "application/vnd.jupyter.widget-view+json": {
       "version_major": 2,
       "version_minor": 0,
       "model_id": "acfb3592fa4e4606a45e2d14d3e13691"
      }
     },
     "metadata": {},
     "output_type": "display_data"
    },
    {
     "data": {
      "text/plain": "  0%|          | 0/25 [00:00<?, ?it/s]",
      "application/vnd.jupyter.widget-view+json": {
       "version_major": 2,
       "version_minor": 0,
       "model_id": "28941be747c14f3d99497cf8105f27e8"
      }
     },
     "metadata": {},
     "output_type": "display_data"
    },
    {
     "data": {
      "text/plain": "  0%|          | 0/25 [00:00<?, ?it/s]",
      "application/vnd.jupyter.widget-view+json": {
       "version_major": 2,
       "version_minor": 0,
       "model_id": "09f38e10351b49e58676382bc8655ef8"
      }
     },
     "metadata": {},
     "output_type": "display_data"
    },
    {
     "ename": "KeyboardInterrupt",
     "evalue": "",
     "output_type": "error",
     "traceback": [
      "\u001B[0;31m---------------------------------------------------------------------------\u001B[0m",
      "\u001B[0;31mKeyboardInterrupt\u001B[0m                         Traceback (most recent call last)",
      "Cell \u001B[0;32mIn[11], line 19\u001B[0m\n\u001B[1;32m     17\u001B[0m     data[\u001B[38;5;124m'\u001B[39m\u001B[38;5;124mstate\u001B[39m\u001B[38;5;124m'\u001B[39m]\u001B[38;5;241m.\u001B[39mappend(input_data)\n\u001B[1;32m     18\u001B[0m \u001B[38;5;28;01mfor\u001B[39;00m future \u001B[38;5;129;01min\u001B[39;00m futures:\n\u001B[0;32m---> 19\u001B[0m     new_info, _ \u001B[38;5;241m=\u001B[39m \u001B[43mfuture\u001B[49m\u001B[38;5;241;43m.\u001B[39;49m\u001B[43mresult\u001B[49m\u001B[43m(\u001B[49m\u001B[43m)\u001B[49m\n\u001B[1;32m     20\u001B[0m     new_reward \u001B[38;5;241m=\u001B[39m calculate_score(new_info, l, check_list, SCORE_COEFFICIENTS)\n\u001B[1;32m     21\u001B[0m     data[\u001B[38;5;124m'\u001B[39m\u001B[38;5;124mreward\u001B[39m\u001B[38;5;124m'\u001B[39m]\u001B[38;5;241m.\u001B[39mappend(new_reward \u001B[38;5;241m-\u001B[39m current_reward)\n",
      "File \u001B[0;32m/usr/lib/python3.10/concurrent/futures/_base.py:453\u001B[0m, in \u001B[0;36mFuture.result\u001B[0;34m(self, timeout)\u001B[0m\n\u001B[1;32m    450\u001B[0m \u001B[38;5;28;01melif\u001B[39;00m \u001B[38;5;28mself\u001B[39m\u001B[38;5;241m.\u001B[39m_state \u001B[38;5;241m==\u001B[39m FINISHED:\n\u001B[1;32m    451\u001B[0m     \u001B[38;5;28;01mreturn\u001B[39;00m \u001B[38;5;28mself\u001B[39m\u001B[38;5;241m.\u001B[39m__get_result()\n\u001B[0;32m--> 453\u001B[0m \u001B[38;5;28;43mself\u001B[39;49m\u001B[38;5;241;43m.\u001B[39;49m\u001B[43m_condition\u001B[49m\u001B[38;5;241;43m.\u001B[39;49m\u001B[43mwait\u001B[49m\u001B[43m(\u001B[49m\u001B[43mtimeout\u001B[49m\u001B[43m)\u001B[49m\n\u001B[1;32m    455\u001B[0m \u001B[38;5;28;01mif\u001B[39;00m \u001B[38;5;28mself\u001B[39m\u001B[38;5;241m.\u001B[39m_state \u001B[38;5;129;01min\u001B[39;00m [CANCELLED, CANCELLED_AND_NOTIFIED]:\n\u001B[1;32m    456\u001B[0m     \u001B[38;5;28;01mraise\u001B[39;00m CancelledError()\n",
      "File \u001B[0;32m/usr/lib/python3.10/threading.py:320\u001B[0m, in \u001B[0;36mCondition.wait\u001B[0;34m(self, timeout)\u001B[0m\n\u001B[1;32m    318\u001B[0m \u001B[38;5;28;01mtry\u001B[39;00m:    \u001B[38;5;66;03m# restore state no matter what (e.g., KeyboardInterrupt)\u001B[39;00m\n\u001B[1;32m    319\u001B[0m     \u001B[38;5;28;01mif\u001B[39;00m timeout \u001B[38;5;129;01mis\u001B[39;00m \u001B[38;5;28;01mNone\u001B[39;00m:\n\u001B[0;32m--> 320\u001B[0m         \u001B[43mwaiter\u001B[49m\u001B[38;5;241;43m.\u001B[39;49m\u001B[43macquire\u001B[49m\u001B[43m(\u001B[49m\u001B[43m)\u001B[49m\n\u001B[1;32m    321\u001B[0m         gotit \u001B[38;5;241m=\u001B[39m \u001B[38;5;28;01mTrue\u001B[39;00m\n\u001B[1;32m    322\u001B[0m     \u001B[38;5;28;01melse\u001B[39;00m:\n",
      "\u001B[0;31mKeyboardInterrupt\u001B[0m: "
     ]
    }
   ],
   "source": [
    "from concurrent.futures import ProcessPoolExecutor\n",
    "\n",
    "for i in trange(layout.shape[0]):\n",
    "    for j in trange(layout.shape[1]):\n",
    "        if layout[i][j].type.name == 'RACK':\n",
    "            for level in range(layout.get_max_rack_level()):\n",
    "                input_data = create_input_for_genome(layout, i, j, level)\n",
    "                if input_data is None:\n",
    "                    continue\n",
    "                futures = []\n",
    "                with ProcessPoolExecutor(max_workers=MAX_WORKERS) as executor:\n",
    "                    for item in str_items:\n",
    "                        l = layout.copy()\n",
    "                        l.set_item_to_rack(item, (i, j), level=level)\n",
    "                        futures.append(executor.submit(thread_func, l, check_list))\n",
    "                        data['action'].append(item)\n",
    "                        data['state'].append(input_data)\n",
    "                    for future in futures:\n",
    "                        new_info, _ = future.result()\n",
    "                        new_reward = calculate_score(new_info, l, check_list, SCORE_COEFFICIENTS)\n",
    "                        data['reward'].append(new_reward - current_reward)\n",
    "                        data['info'].append(new_info)"
   ],
   "metadata": {
    "collapsed": false,
    "ExecuteTime": {
     "end_time": "2024-04-20T19:05:58.789306300Z",
     "start_time": "2024-04-20T19:05:40.181673100Z"
    }
   },
   "id": "708a03561b182789",
   "execution_count": 11
  },
  {
   "cell_type": "code",
   "outputs": [
    {
     "name": "stdout",
     "output_type": "stream",
     "text": [
      "state 0\n",
      "action 0\n",
      "reward 0\n",
      "info 0\n"
     ]
    }
   ],
   "source": [
    "for k in data.keys():\n",
    "    print(k, len(data[k]))"
   ],
   "metadata": {
    "collapsed": false,
    "ExecuteTime": {
     "end_time": "2024-04-24T19:42:31.596090900Z",
     "start_time": "2024-04-24T19:42:31.589216300Z"
    }
   },
   "id": "72e454fc6fab74a5",
   "execution_count": 11
  },
  {
   "cell_type": "code",
   "outputs": [],
   "source": [
    "# save data to file\n",
    "import pickle"
   ],
   "metadata": {
    "collapsed": false,
    "ExecuteTime": {
     "end_time": "2024-04-24T19:42:31.599896600Z",
     "start_time": "2024-04-24T19:42:31.597896300Z"
    }
   },
   "id": "31334dd06fead022",
   "execution_count": 12
  },
  {
   "cell_type": "code",
   "outputs": [],
   "source": [
    "#with open('./../data/datasets/data.pkl', 'wb') as f:\n",
    "#    pickle.dump(data, f)"
   ],
   "metadata": {
    "collapsed": false,
    "ExecuteTime": {
     "end_time": "2024-04-24T19:42:31.609896500Z",
     "start_time": "2024-04-24T19:42:31.600894500Z"
    }
   },
   "id": "7b649e4a2bd84da1",
   "execution_count": 13
  },
  {
   "cell_type": "code",
   "outputs": [],
   "source": [
    "# load data from file\n",
    "with open('./../data/datasets/data1.pkl', 'rb') as f:\n",
    "    data = pickle.load(f)"
   ],
   "metadata": {
    "collapsed": false,
    "ExecuteTime": {
     "end_time": "2024-04-24T19:42:31.784018600Z",
     "start_time": "2024-04-24T19:42:31.603895900Z"
    }
   },
   "id": "19e140abd644f69b",
   "execution_count": 14
  },
  {
   "cell_type": "code",
   "outputs": [
    {
     "data": {
      "text/plain": "                                                   state action    reward  \\\n0      [0, 18, 28, 1, 0, -1, -1, -1, -1, -1, -1, -1, ...      1  0.000000   \n1      [0, 18, 28, 1, 0, -1, -1, -1, -1, -1, -1, -1, ...      2  0.000000   \n2      [0, 18, 28, 1, 0, -1, -1, -1, -1, -1, -1, -1, ...      3 -0.264085   \n3      [0, 18, 28, 1, 0, -1, -1, -1, -1, -1, -1, -1, ...      4  0.000000   \n4      [0, 18, 28, 1, 0, -1, -1, -1, -1, -1, -1, -1, ...      5  0.000000   \n...                                                  ...    ...       ...   \n55659  [3, 19, 11, -1, 0, -1, -1, -1, -1, -1, -1, -1,...     94  0.880282   \n55660  [3, 19, 11, -1, 0, -1, -1, -1, -1, -1, -1, -1,...     95  0.880282   \n55661  [3, 19, 11, -1, 0, -1, -1, -1, -1, -1, -1, -1,...     96  0.880282   \n55662  [3, 19, 11, -1, 0, -1, -1, -1, -1, -1, -1, -1,...     97  0.880282   \n55663  [3, 19, 11, -1, 0, -1, -1, -1, -1, -1, -1, -1,...     98  0.880282   \n\n                                                    info  \n0      {'missing_items': [], 'path': 11338, 'invalid'...  \n1      {'missing_items': [], 'path': 11182, 'invalid'...  \n2      {'missing_items': [], 'path': 11320, 'invalid'...  \n3      {'missing_items': [], 'path': 11476, 'invalid'...  \n4      {'missing_items': [], 'path': 11346, 'invalid'...  \n...                                                  ...  \n55659  {'missing_items': [], 'path': 11075, 'invalid'...  \n55660  {'missing_items': [], 'path': 11194, 'invalid'...  \n55661  {'missing_items': [], 'path': 11149, 'invalid'...  \n55662  {'missing_items': [], 'path': 11124, 'invalid'...  \n55663  {'missing_items': [], 'path': 11125, 'invalid'...  \n\n[55664 rows x 4 columns]",
      "text/html": "<div>\n<style scoped>\n    .dataframe tbody tr th:only-of-type {\n        vertical-align: middle;\n    }\n\n    .dataframe tbody tr th {\n        vertical-align: top;\n    }\n\n    .dataframe thead th {\n        text-align: right;\n    }\n</style>\n<table border=\"1\" class=\"dataframe\">\n  <thead>\n    <tr style=\"text-align: right;\">\n      <th></th>\n      <th>state</th>\n      <th>action</th>\n      <th>reward</th>\n      <th>info</th>\n    </tr>\n  </thead>\n  <tbody>\n    <tr>\n      <th>0</th>\n      <td>[0, 18, 28, 1, 0, -1, -1, -1, -1, -1, -1, -1, ...</td>\n      <td>1</td>\n      <td>0.000000</td>\n      <td>{'missing_items': [], 'path': 11338, 'invalid'...</td>\n    </tr>\n    <tr>\n      <th>1</th>\n      <td>[0, 18, 28, 1, 0, -1, -1, -1, -1, -1, -1, -1, ...</td>\n      <td>2</td>\n      <td>0.000000</td>\n      <td>{'missing_items': [], 'path': 11182, 'invalid'...</td>\n    </tr>\n    <tr>\n      <th>2</th>\n      <td>[0, 18, 28, 1, 0, -1, -1, -1, -1, -1, -1, -1, ...</td>\n      <td>3</td>\n      <td>-0.264085</td>\n      <td>{'missing_items': [], 'path': 11320, 'invalid'...</td>\n    </tr>\n    <tr>\n      <th>3</th>\n      <td>[0, 18, 28, 1, 0, -1, -1, -1, -1, -1, -1, -1, ...</td>\n      <td>4</td>\n      <td>0.000000</td>\n      <td>{'missing_items': [], 'path': 11476, 'invalid'...</td>\n    </tr>\n    <tr>\n      <th>4</th>\n      <td>[0, 18, 28, 1, 0, -1, -1, -1, -1, -1, -1, -1, ...</td>\n      <td>5</td>\n      <td>0.000000</td>\n      <td>{'missing_items': [], 'path': 11346, 'invalid'...</td>\n    </tr>\n    <tr>\n      <th>...</th>\n      <td>...</td>\n      <td>...</td>\n      <td>...</td>\n      <td>...</td>\n    </tr>\n    <tr>\n      <th>55659</th>\n      <td>[3, 19, 11, -1, 0, -1, -1, -1, -1, -1, -1, -1,...</td>\n      <td>94</td>\n      <td>0.880282</td>\n      <td>{'missing_items': [], 'path': 11075, 'invalid'...</td>\n    </tr>\n    <tr>\n      <th>55660</th>\n      <td>[3, 19, 11, -1, 0, -1, -1, -1, -1, -1, -1, -1,...</td>\n      <td>95</td>\n      <td>0.880282</td>\n      <td>{'missing_items': [], 'path': 11194, 'invalid'...</td>\n    </tr>\n    <tr>\n      <th>55661</th>\n      <td>[3, 19, 11, -1, 0, -1, -1, -1, -1, -1, -1, -1,...</td>\n      <td>96</td>\n      <td>0.880282</td>\n      <td>{'missing_items': [], 'path': 11149, 'invalid'...</td>\n    </tr>\n    <tr>\n      <th>55662</th>\n      <td>[3, 19, 11, -1, 0, -1, -1, -1, -1, -1, -1, -1,...</td>\n      <td>97</td>\n      <td>0.880282</td>\n      <td>{'missing_items': [], 'path': 11124, 'invalid'...</td>\n    </tr>\n    <tr>\n      <th>55663</th>\n      <td>[3, 19, 11, -1, 0, -1, -1, -1, -1, -1, -1, -1,...</td>\n      <td>98</td>\n      <td>0.880282</td>\n      <td>{'missing_items': [], 'path': 11125, 'invalid'...</td>\n    </tr>\n  </tbody>\n</table>\n<p>55664 rows × 4 columns</p>\n</div>"
     },
     "execution_count": 15,
     "metadata": {},
     "output_type": "execute_result"
    }
   ],
   "source": [
    "data_df = pd.DataFrame(data)\n",
    "data_df"
   ],
   "metadata": {
    "collapsed": false,
    "ExecuteTime": {
     "end_time": "2024-04-24T19:42:31.813575Z",
     "start_time": "2024-04-24T19:42:31.784018600Z"
    }
   },
   "id": "e748f3f3e419ff80",
   "execution_count": 15
  },
  {
   "cell_type": "code",
   "outputs": [],
   "source": [
    "from sklearn.preprocessing import OneHotEncoder\n",
    "\n",
    "#split state ito separate columns\n",
    "state_df = pd.DataFrame(data_df['state'].tolist(), columns=['level', 'dist_to_cashier', 'dist_to_exit', 'orientation_x', 'orientation_y', 'left_product_1_id', 'left_product_1_count', 'left_product_2_id', 'left_product_2_count', 'left_product_3_id', 'left_product_3_count', 'left_product_4_id', 'left_product_4_count', 'right_product_1_id', 'right_product_1_count', 'right_product_2_id', 'right_product_2_count', 'right_product_3_id', 'right_product_3_count', 'right_product_4_id', 'right_product_4_count', 'tile_up', 'tile_down', 'tile_left', 'tile_right', 'tile_up_left', 'tile_down_right', 'tile_up_right', 'tile_down_left'])\n",
    "# join 2 dfs\n",
    "data_df = data_df.drop('state', axis=1)\n",
    "data_df = data_df.join(state_df)"
   ],
   "metadata": {
    "collapsed": false,
    "ExecuteTime": {
     "end_time": "2024-04-24T19:42:32.660172400Z",
     "start_time": "2024-04-24T19:42:31.807547200Z"
    }
   },
   "id": "b3c7c6f4c076cd9c",
   "execution_count": 16
  },
  {
   "cell_type": "code",
   "outputs": [
    {
     "data": {
      "text/plain": "      action    reward                                               info  \\\n0          1  0.000000  {'missing_items': [], 'path': 11338, 'invalid'...   \n1          2  0.000000  {'missing_items': [], 'path': 11182, 'invalid'...   \n2          3 -0.264085  {'missing_items': [], 'path': 11320, 'invalid'...   \n3          4  0.000000  {'missing_items': [], 'path': 11476, 'invalid'...   \n4          5  0.000000  {'missing_items': [], 'path': 11346, 'invalid'...   \n...      ...       ...                                                ...   \n55659     94  0.880282  {'missing_items': [], 'path': 11075, 'invalid'...   \n55660     95  0.880282  {'missing_items': [], 'path': 11194, 'invalid'...   \n55661     96  0.880282  {'missing_items': [], 'path': 11149, 'invalid'...   \n55662     97  0.880282  {'missing_items': [], 'path': 11124, 'invalid'...   \n55663     98  0.880282  {'missing_items': [], 'path': 11125, 'invalid'...   \n\n       level  dist_to_cashier  dist_to_exit  orientation_x  orientation_y  \\\n0          0               18            28              1              0   \n1          0               18            28              1              0   \n2          0               18            28              1              0   \n3          0               18            28              1              0   \n4          0               18            28              1              0   \n...      ...              ...           ...            ...            ...   \n55659      3               19            11             -1              0   \n55660      3               19            11             -1              0   \n55661      3               19            11             -1              0   \n55662      3               19            11             -1              0   \n55663      3               19            11             -1              0   \n\n       left_product_1_id  left_product_1_count  ...  right_product_4_id  \\\n0                     -1                    -1  ...                  19   \n1                     -1                    -1  ...                  19   \n2                     -1                    -1  ...                  19   \n3                     -1                    -1  ...                  19   \n4                     -1                    -1  ...                  19   \n...                  ...                   ...  ...                 ...   \n55659                 -1                    -1  ...                   1   \n55660                 -1                    -1  ...                   1   \n55661                 -1                    -1  ...                   1   \n55662                 -1                    -1  ...                   1   \n55663                 -1                    -1  ...                   1   \n\n       right_product_4_count  tile_up  tile_down  tile_left  tile_right  \\\n0                         10        0          1          0           2   \n1                         10        0          1          0           2   \n2                         10        0          1          0           2   \n3                         10        0          1          0           2   \n4                         10        0          1          0           2   \n...                      ...      ...        ...        ...         ...   \n55659                     10        1          0          2           0   \n55660                     10        1          0          2           0   \n55661                     10        1          0          2           0   \n55662                     10        1          0          2           0   \n55663                     10        1          0          2           0   \n\n       tile_up_left  tile_down_right  tile_up_right  tile_down_left  \n0                 0                1              0               2  \n1                 0                1              0               2  \n2                 0                1              0               2  \n3                 0                1              0               2  \n4                 0                1              0               2  \n...             ...              ...            ...             ...  \n55659             1                0              2               0  \n55660             1                0              2               0  \n55661             1                0              2               0  \n55662             1                0              2               0  \n55663             1                0              2               0  \n\n[55664 rows x 32 columns]",
      "text/html": "<div>\n<style scoped>\n    .dataframe tbody tr th:only-of-type {\n        vertical-align: middle;\n    }\n\n    .dataframe tbody tr th {\n        vertical-align: top;\n    }\n\n    .dataframe thead th {\n        text-align: right;\n    }\n</style>\n<table border=\"1\" class=\"dataframe\">\n  <thead>\n    <tr style=\"text-align: right;\">\n      <th></th>\n      <th>action</th>\n      <th>reward</th>\n      <th>info</th>\n      <th>level</th>\n      <th>dist_to_cashier</th>\n      <th>dist_to_exit</th>\n      <th>orientation_x</th>\n      <th>orientation_y</th>\n      <th>left_product_1_id</th>\n      <th>left_product_1_count</th>\n      <th>...</th>\n      <th>right_product_4_id</th>\n      <th>right_product_4_count</th>\n      <th>tile_up</th>\n      <th>tile_down</th>\n      <th>tile_left</th>\n      <th>tile_right</th>\n      <th>tile_up_left</th>\n      <th>tile_down_right</th>\n      <th>tile_up_right</th>\n      <th>tile_down_left</th>\n    </tr>\n  </thead>\n  <tbody>\n    <tr>\n      <th>0</th>\n      <td>1</td>\n      <td>0.000000</td>\n      <td>{'missing_items': [], 'path': 11338, 'invalid'...</td>\n      <td>0</td>\n      <td>18</td>\n      <td>28</td>\n      <td>1</td>\n      <td>0</td>\n      <td>-1</td>\n      <td>-1</td>\n      <td>...</td>\n      <td>19</td>\n      <td>10</td>\n      <td>0</td>\n      <td>1</td>\n      <td>0</td>\n      <td>2</td>\n      <td>0</td>\n      <td>1</td>\n      <td>0</td>\n      <td>2</td>\n    </tr>\n    <tr>\n      <th>1</th>\n      <td>2</td>\n      <td>0.000000</td>\n      <td>{'missing_items': [], 'path': 11182, 'invalid'...</td>\n      <td>0</td>\n      <td>18</td>\n      <td>28</td>\n      <td>1</td>\n      <td>0</td>\n      <td>-1</td>\n      <td>-1</td>\n      <td>...</td>\n      <td>19</td>\n      <td>10</td>\n      <td>0</td>\n      <td>1</td>\n      <td>0</td>\n      <td>2</td>\n      <td>0</td>\n      <td>1</td>\n      <td>0</td>\n      <td>2</td>\n    </tr>\n    <tr>\n      <th>2</th>\n      <td>3</td>\n      <td>-0.264085</td>\n      <td>{'missing_items': [], 'path': 11320, 'invalid'...</td>\n      <td>0</td>\n      <td>18</td>\n      <td>28</td>\n      <td>1</td>\n      <td>0</td>\n      <td>-1</td>\n      <td>-1</td>\n      <td>...</td>\n      <td>19</td>\n      <td>10</td>\n      <td>0</td>\n      <td>1</td>\n      <td>0</td>\n      <td>2</td>\n      <td>0</td>\n      <td>1</td>\n      <td>0</td>\n      <td>2</td>\n    </tr>\n    <tr>\n      <th>3</th>\n      <td>4</td>\n      <td>0.000000</td>\n      <td>{'missing_items': [], 'path': 11476, 'invalid'...</td>\n      <td>0</td>\n      <td>18</td>\n      <td>28</td>\n      <td>1</td>\n      <td>0</td>\n      <td>-1</td>\n      <td>-1</td>\n      <td>...</td>\n      <td>19</td>\n      <td>10</td>\n      <td>0</td>\n      <td>1</td>\n      <td>0</td>\n      <td>2</td>\n      <td>0</td>\n      <td>1</td>\n      <td>0</td>\n      <td>2</td>\n    </tr>\n    <tr>\n      <th>4</th>\n      <td>5</td>\n      <td>0.000000</td>\n      <td>{'missing_items': [], 'path': 11346, 'invalid'...</td>\n      <td>0</td>\n      <td>18</td>\n      <td>28</td>\n      <td>1</td>\n      <td>0</td>\n      <td>-1</td>\n      <td>-1</td>\n      <td>...</td>\n      <td>19</td>\n      <td>10</td>\n      <td>0</td>\n      <td>1</td>\n      <td>0</td>\n      <td>2</td>\n      <td>0</td>\n      <td>1</td>\n      <td>0</td>\n      <td>2</td>\n    </tr>\n    <tr>\n      <th>...</th>\n      <td>...</td>\n      <td>...</td>\n      <td>...</td>\n      <td>...</td>\n      <td>...</td>\n      <td>...</td>\n      <td>...</td>\n      <td>...</td>\n      <td>...</td>\n      <td>...</td>\n      <td>...</td>\n      <td>...</td>\n      <td>...</td>\n      <td>...</td>\n      <td>...</td>\n      <td>...</td>\n      <td>...</td>\n      <td>...</td>\n      <td>...</td>\n      <td>...</td>\n      <td>...</td>\n    </tr>\n    <tr>\n      <th>55659</th>\n      <td>94</td>\n      <td>0.880282</td>\n      <td>{'missing_items': [], 'path': 11075, 'invalid'...</td>\n      <td>3</td>\n      <td>19</td>\n      <td>11</td>\n      <td>-1</td>\n      <td>0</td>\n      <td>-1</td>\n      <td>-1</td>\n      <td>...</td>\n      <td>1</td>\n      <td>10</td>\n      <td>1</td>\n      <td>0</td>\n      <td>2</td>\n      <td>0</td>\n      <td>1</td>\n      <td>0</td>\n      <td>2</td>\n      <td>0</td>\n    </tr>\n    <tr>\n      <th>55660</th>\n      <td>95</td>\n      <td>0.880282</td>\n      <td>{'missing_items': [], 'path': 11194, 'invalid'...</td>\n      <td>3</td>\n      <td>19</td>\n      <td>11</td>\n      <td>-1</td>\n      <td>0</td>\n      <td>-1</td>\n      <td>-1</td>\n      <td>...</td>\n      <td>1</td>\n      <td>10</td>\n      <td>1</td>\n      <td>0</td>\n      <td>2</td>\n      <td>0</td>\n      <td>1</td>\n      <td>0</td>\n      <td>2</td>\n      <td>0</td>\n    </tr>\n    <tr>\n      <th>55661</th>\n      <td>96</td>\n      <td>0.880282</td>\n      <td>{'missing_items': [], 'path': 11149, 'invalid'...</td>\n      <td>3</td>\n      <td>19</td>\n      <td>11</td>\n      <td>-1</td>\n      <td>0</td>\n      <td>-1</td>\n      <td>-1</td>\n      <td>...</td>\n      <td>1</td>\n      <td>10</td>\n      <td>1</td>\n      <td>0</td>\n      <td>2</td>\n      <td>0</td>\n      <td>1</td>\n      <td>0</td>\n      <td>2</td>\n      <td>0</td>\n    </tr>\n    <tr>\n      <th>55662</th>\n      <td>97</td>\n      <td>0.880282</td>\n      <td>{'missing_items': [], 'path': 11124, 'invalid'...</td>\n      <td>3</td>\n      <td>19</td>\n      <td>11</td>\n      <td>-1</td>\n      <td>0</td>\n      <td>-1</td>\n      <td>-1</td>\n      <td>...</td>\n      <td>1</td>\n      <td>10</td>\n      <td>1</td>\n      <td>0</td>\n      <td>2</td>\n      <td>0</td>\n      <td>1</td>\n      <td>0</td>\n      <td>2</td>\n      <td>0</td>\n    </tr>\n    <tr>\n      <th>55663</th>\n      <td>98</td>\n      <td>0.880282</td>\n      <td>{'missing_items': [], 'path': 11125, 'invalid'...</td>\n      <td>3</td>\n      <td>19</td>\n      <td>11</td>\n      <td>-1</td>\n      <td>0</td>\n      <td>-1</td>\n      <td>-1</td>\n      <td>...</td>\n      <td>1</td>\n      <td>10</td>\n      <td>1</td>\n      <td>0</td>\n      <td>2</td>\n      <td>0</td>\n      <td>1</td>\n      <td>0</td>\n      <td>2</td>\n      <td>0</td>\n    </tr>\n  </tbody>\n</table>\n<p>55664 rows × 32 columns</p>\n</div>"
     },
     "execution_count": 17,
     "metadata": {},
     "output_type": "execute_result"
    }
   ],
   "source": [
    "data_df"
   ],
   "metadata": {
    "collapsed": false,
    "ExecuteTime": {
     "end_time": "2024-04-24T19:42:32.662170Z",
     "start_time": "2024-04-24T19:42:32.443317800Z"
    }
   },
   "id": "e6ec93204c826b2c",
   "execution_count": 17
  },
  {
   "cell_type": "code",
   "outputs": [],
   "source": [
    "from sklearn.utils import shuffle\n",
    "data_df = shuffle(data_df)"
   ],
   "metadata": {
    "collapsed": false,
    "ExecuteTime": {
     "end_time": "2024-04-24T19:42:32.663173Z",
     "start_time": "2024-04-24T19:42:32.477401200Z"
    }
   },
   "id": "fba2f38698fd49b4",
   "execution_count": 18
  },
  {
   "cell_type": "code",
   "outputs": [
    {
     "data": {
      "text/plain": "      action    reward                                               info  \\\n5566      79  0.000000  {'missing_items': [], 'path': 10979, 'invalid'...   \n4121       6  0.264085  {'missing_items': [], 'path': 10995, 'invalid'...   \n5489       2  0.000000  {'missing_items': [], 'path': 11139, 'invalid'...   \n40338     61  0.000000  {'missing_items': [], 'path': 11073, 'invalid'...   \n45980     19  0.000000  {'missing_items': [], 'path': 11047, 'invalid'...   \n...      ...       ...                                                ...   \n48103     84  0.880282  {'missing_items': [], 'path': 11228, 'invalid'...   \n15357     70  0.000000  {'missing_items': [], 'path': 11037, 'invalid'...   \n3079      42  0.880282  {'missing_items': [], 'path': 11014, 'invalid'...   \n47527     96  0.616197  {'missing_items': [], 'path': 11158, 'invalid'...   \n9208      95  0.000000  {'missing_items': [], 'path': 11093, 'invalid'...   \n\n       level  dist_to_cashier  dist_to_exit  orientation_x  orientation_y  \\\n5566       0               26            20              1              0   \n4121       2               22            20              1              0   \n5489       0               26            20              1              0   \n40338      3               14             8              0              1   \n45980      1               21            13             -1              0   \n...      ...              ...           ...            ...            ...   \n48103      2                5             9              1              0   \n15357      0               18            16              0             -1   \n3079       3               19            21              1              0   \n47527      0                4            12              1              0   \n9208       1               23            17             -1              0   \n\n       left_product_1_id  left_product_1_count  ...  right_product_4_id  \\\n5566                  15                    10  ...                  -1   \n4121                   1                    10  ...                  48   \n5489                  15                    10  ...                  -1   \n40338                  1                    10  ...                  43   \n45980                 -1                    -1  ...                  56   \n...                  ...                   ...  ...                 ...   \n48103                 -1                    -1  ...                  26   \n15357                  1                    10  ...                  86   \n3079                   1                    10  ...                  78   \n47527                 72                    10  ...                  -1   \n9208                  -1                    -1  ...                  71   \n\n       right_product_4_count  tile_up  tile_down  tile_left  tile_right  \\\n5566                      -1        0          1          2           0   \n4121                      10        0          1          2           2   \n5489                      -1        0          1          2           0   \n40338                     10        2          2          2           1   \n45980                     10        1          2          2           1   \n...                      ...      ...        ...        ...         ...   \n48103                     10        2          1          1           2   \n15357                     10        2          2          1           2   \n3079                      10        0          1          2           2   \n47527                     -1        2          1          2           1   \n9208                      10        1          2          2           1   \n\n       tile_up_left  tile_down_right  tile_up_right  tile_down_left  \n5566              0                2              0               1  \n4121              0                1              0               1  \n5489              0                2              0               1  \n40338             2                1              1               2  \n45980             1                1              1               2  \n...             ...              ...            ...             ...  \n48103             1                1              2               1  \n15357             1                2              2               1  \n3079              0                1              0               1  \n47527             2                1              1               1  \n9208              1                1              1               2  \n\n[55664 rows x 32 columns]",
      "text/html": "<div>\n<style scoped>\n    .dataframe tbody tr th:only-of-type {\n        vertical-align: middle;\n    }\n\n    .dataframe tbody tr th {\n        vertical-align: top;\n    }\n\n    .dataframe thead th {\n        text-align: right;\n    }\n</style>\n<table border=\"1\" class=\"dataframe\">\n  <thead>\n    <tr style=\"text-align: right;\">\n      <th></th>\n      <th>action</th>\n      <th>reward</th>\n      <th>info</th>\n      <th>level</th>\n      <th>dist_to_cashier</th>\n      <th>dist_to_exit</th>\n      <th>orientation_x</th>\n      <th>orientation_y</th>\n      <th>left_product_1_id</th>\n      <th>left_product_1_count</th>\n      <th>...</th>\n      <th>right_product_4_id</th>\n      <th>right_product_4_count</th>\n      <th>tile_up</th>\n      <th>tile_down</th>\n      <th>tile_left</th>\n      <th>tile_right</th>\n      <th>tile_up_left</th>\n      <th>tile_down_right</th>\n      <th>tile_up_right</th>\n      <th>tile_down_left</th>\n    </tr>\n  </thead>\n  <tbody>\n    <tr>\n      <th>5566</th>\n      <td>79</td>\n      <td>0.000000</td>\n      <td>{'missing_items': [], 'path': 10979, 'invalid'...</td>\n      <td>0</td>\n      <td>26</td>\n      <td>20</td>\n      <td>1</td>\n      <td>0</td>\n      <td>15</td>\n      <td>10</td>\n      <td>...</td>\n      <td>-1</td>\n      <td>-1</td>\n      <td>0</td>\n      <td>1</td>\n      <td>2</td>\n      <td>0</td>\n      <td>0</td>\n      <td>2</td>\n      <td>0</td>\n      <td>1</td>\n    </tr>\n    <tr>\n      <th>4121</th>\n      <td>6</td>\n      <td>0.264085</td>\n      <td>{'missing_items': [], 'path': 10995, 'invalid'...</td>\n      <td>2</td>\n      <td>22</td>\n      <td>20</td>\n      <td>1</td>\n      <td>0</td>\n      <td>1</td>\n      <td>10</td>\n      <td>...</td>\n      <td>48</td>\n      <td>10</td>\n      <td>0</td>\n      <td>1</td>\n      <td>2</td>\n      <td>2</td>\n      <td>0</td>\n      <td>1</td>\n      <td>0</td>\n      <td>1</td>\n    </tr>\n    <tr>\n      <th>5489</th>\n      <td>2</td>\n      <td>0.000000</td>\n      <td>{'missing_items': [], 'path': 11139, 'invalid'...</td>\n      <td>0</td>\n      <td>26</td>\n      <td>20</td>\n      <td>1</td>\n      <td>0</td>\n      <td>15</td>\n      <td>10</td>\n      <td>...</td>\n      <td>-1</td>\n      <td>-1</td>\n      <td>0</td>\n      <td>1</td>\n      <td>2</td>\n      <td>0</td>\n      <td>0</td>\n      <td>2</td>\n      <td>0</td>\n      <td>1</td>\n    </tr>\n    <tr>\n      <th>40338</th>\n      <td>61</td>\n      <td>0.000000</td>\n      <td>{'missing_items': [], 'path': 11073, 'invalid'...</td>\n      <td>3</td>\n      <td>14</td>\n      <td>8</td>\n      <td>0</td>\n      <td>1</td>\n      <td>1</td>\n      <td>10</td>\n      <td>...</td>\n      <td>43</td>\n      <td>10</td>\n      <td>2</td>\n      <td>2</td>\n      <td>2</td>\n      <td>1</td>\n      <td>2</td>\n      <td>1</td>\n      <td>1</td>\n      <td>2</td>\n    </tr>\n    <tr>\n      <th>45980</th>\n      <td>19</td>\n      <td>0.000000</td>\n      <td>{'missing_items': [], 'path': 11047, 'invalid'...</td>\n      <td>1</td>\n      <td>21</td>\n      <td>13</td>\n      <td>-1</td>\n      <td>0</td>\n      <td>-1</td>\n      <td>-1</td>\n      <td>...</td>\n      <td>56</td>\n      <td>10</td>\n      <td>1</td>\n      <td>2</td>\n      <td>2</td>\n      <td>1</td>\n      <td>1</td>\n      <td>1</td>\n      <td>1</td>\n      <td>2</td>\n    </tr>\n    <tr>\n      <th>...</th>\n      <td>...</td>\n      <td>...</td>\n      <td>...</td>\n      <td>...</td>\n      <td>...</td>\n      <td>...</td>\n      <td>...</td>\n      <td>...</td>\n      <td>...</td>\n      <td>...</td>\n      <td>...</td>\n      <td>...</td>\n      <td>...</td>\n      <td>...</td>\n      <td>...</td>\n      <td>...</td>\n      <td>...</td>\n      <td>...</td>\n      <td>...</td>\n      <td>...</td>\n      <td>...</td>\n    </tr>\n    <tr>\n      <th>48103</th>\n      <td>84</td>\n      <td>0.880282</td>\n      <td>{'missing_items': [], 'path': 11228, 'invalid'...</td>\n      <td>2</td>\n      <td>5</td>\n      <td>9</td>\n      <td>1</td>\n      <td>0</td>\n      <td>-1</td>\n      <td>-1</td>\n      <td>...</td>\n      <td>26</td>\n      <td>10</td>\n      <td>2</td>\n      <td>1</td>\n      <td>1</td>\n      <td>2</td>\n      <td>1</td>\n      <td>1</td>\n      <td>2</td>\n      <td>1</td>\n    </tr>\n    <tr>\n      <th>15357</th>\n      <td>70</td>\n      <td>0.000000</td>\n      <td>{'missing_items': [], 'path': 11037, 'invalid'...</td>\n      <td>0</td>\n      <td>18</td>\n      <td>16</td>\n      <td>0</td>\n      <td>-1</td>\n      <td>1</td>\n      <td>10</td>\n      <td>...</td>\n      <td>86</td>\n      <td>10</td>\n      <td>2</td>\n      <td>2</td>\n      <td>1</td>\n      <td>2</td>\n      <td>1</td>\n      <td>2</td>\n      <td>2</td>\n      <td>1</td>\n    </tr>\n    <tr>\n      <th>3079</th>\n      <td>42</td>\n      <td>0.880282</td>\n      <td>{'missing_items': [], 'path': 11014, 'invalid'...</td>\n      <td>3</td>\n      <td>19</td>\n      <td>21</td>\n      <td>1</td>\n      <td>0</td>\n      <td>1</td>\n      <td>10</td>\n      <td>...</td>\n      <td>78</td>\n      <td>10</td>\n      <td>0</td>\n      <td>1</td>\n      <td>2</td>\n      <td>2</td>\n      <td>0</td>\n      <td>1</td>\n      <td>0</td>\n      <td>1</td>\n    </tr>\n    <tr>\n      <th>47527</th>\n      <td>96</td>\n      <td>0.616197</td>\n      <td>{'missing_items': [], 'path': 11158, 'invalid'...</td>\n      <td>0</td>\n      <td>4</td>\n      <td>12</td>\n      <td>1</td>\n      <td>0</td>\n      <td>72</td>\n      <td>10</td>\n      <td>...</td>\n      <td>-1</td>\n      <td>-1</td>\n      <td>2</td>\n      <td>1</td>\n      <td>2</td>\n      <td>1</td>\n      <td>2</td>\n      <td>1</td>\n      <td>1</td>\n      <td>1</td>\n    </tr>\n    <tr>\n      <th>9208</th>\n      <td>95</td>\n      <td>0.000000</td>\n      <td>{'missing_items': [], 'path': 11093, 'invalid'...</td>\n      <td>1</td>\n      <td>23</td>\n      <td>17</td>\n      <td>-1</td>\n      <td>0</td>\n      <td>-1</td>\n      <td>-1</td>\n      <td>...</td>\n      <td>71</td>\n      <td>10</td>\n      <td>1</td>\n      <td>2</td>\n      <td>2</td>\n      <td>1</td>\n      <td>1</td>\n      <td>1</td>\n      <td>1</td>\n      <td>2</td>\n    </tr>\n  </tbody>\n</table>\n<p>55664 rows × 32 columns</p>\n</div>"
     },
     "execution_count": 19,
     "metadata": {},
     "output_type": "execute_result"
    }
   ],
   "source": [
    "data_df"
   ],
   "metadata": {
    "collapsed": false,
    "ExecuteTime": {
     "end_time": "2024-04-24T19:42:32.676209500Z",
     "start_time": "2024-04-24T19:42:32.482398100Z"
    }
   },
   "id": "887b35b8360f92d8",
   "execution_count": 19
  },
  {
   "cell_type": "code",
   "outputs": [],
   "source": [
    "X = np.array(data_df.drop(['reward','info'], axis=1).values.tolist())\n",
    "y = np.array(data_df['reward'].values.tolist())"
   ],
   "metadata": {
    "collapsed": false,
    "ExecuteTime": {
     "end_time": "2024-04-24T19:42:33.531569500Z",
     "start_time": "2024-04-24T19:42:32.553704Z"
    }
   },
   "id": "467f1f20a7f9eaa8",
   "execution_count": 20
  },
  {
   "cell_type": "code",
   "outputs": [],
   "source": [
    "from sklearn.model_selection import train_test_split\n",
    "\n",
    "X_train, X_test, y_train, y_test = train_test_split(X, y, test_size=0.2, random_state=42)"
   ],
   "metadata": {
    "collapsed": false,
    "ExecuteTime": {
     "end_time": "2024-04-24T19:42:33.548573700Z",
     "start_time": "2024-04-24T19:42:32.831347Z"
    }
   },
   "id": "16617889fcd8132",
   "execution_count": 21
  },
  {
   "cell_type": "code",
   "outputs": [],
   "source": [
    "from sklearn.tree import DecisionTreeRegressor\n",
    "from sklearn.tree import export_graphviz\n",
    "from sklearn.metrics import mean_squared_error\n",
    "import os"
   ],
   "metadata": {
    "collapsed": false,
    "ExecuteTime": {
     "end_time": "2024-04-24T19:42:33.549569900Z",
     "start_time": "2024-04-24T19:42:32.907423400Z"
    }
   },
   "id": "645d0abe4538c66d",
   "execution_count": 22
  },
  {
   "cell_type": "code",
   "outputs": [],
   "source": [
    "def run_regression(train_x, train_y, test_x, test_y, model, model_name, max_depth):\n",
    "    model.fit(train_x, train_y)\n",
    "    train_score = model.score(train_x, train_y)\n",
    "    test_score = model.score(test_x, test_y)\n",
    "    y_pred = model.predict(test_x)\n",
    "    mse = mean_squared_error(test_y, y_pred)\n",
    "    \n",
    "    print(f'\\'{model_name}\\' --- depth: {max_depth}; train score: {train_score}; test score: {test_score}; mse: {mse}')\n",
    "    \n",
    "    export_graphviz(model, out_file=f'./../data/results/tree-{model_name}-{max_depth}.dot', feature_names=['level', 'dist_to_cashier', 'dist_to_exit', 'orientation_x', 'orientation_y', 'left_product_1_id', 'left_product_1_count', 'left_product_2_id', 'left_product_2_count', 'left_product_3_id', 'left_product_3_count', 'left_product_4_id', 'left_product_4_count', 'right_product_1_id', 'right_product_1_count', 'right_product_2_id', 'right_product_2_count', 'right_product_3_id', 'right_product_3_count', 'right_product_4_id', 'right_product_4_count', 'tile_up', 'tile_down', 'tile_left', 'tile_right', 'tile_up_left', 'tile_down_right', 'tile_up_right', 'tile_down_left', 'action'], filled=True)\n",
    "    # convert dot file to png\n",
    "    os.system(f'dot -Tpng ./../data/results/tree-{model_name}-{max_depth}.dot -o ./../data/results/tree-{model_name}-{max_depth}.png')\n",
    "    return model"
   ],
   "metadata": {
    "collapsed": false,
    "ExecuteTime": {
     "end_time": "2024-04-24T19:42:33.550570300Z",
     "start_time": "2024-04-24T19:42:33.068483200Z"
    }
   },
   "id": "2ba2c231b3b541a8",
   "execution_count": 23
  },
  {
   "cell_type": "code",
   "outputs": [
    {
     "name": "stdout",
     "output_type": "stream",
     "text": [
      "'decision_tree' --- depth: 2; train score: 0.059481668706430124; test score: 0.06205418819242137; mse: 1.2201690071016824\n",
      "'decision_tree' --- depth: 3; train score: 0.1080522746670265; test score: 0.11713767400183972; mse: 1.1485111764022198\n",
      "'decision_tree' --- depth: 5; train score: 0.26283945834084566; test score: 0.26218746676947036; mse: 0.959816627747533\n",
      "'decision_tree' --- depth: 10; train score: 0.879635298319562; test score: 0.8441222261775823; mse: 0.20278061495639935\n"
     ]
    },
    {
     "name": "stderr",
     "output_type": "stream",
     "text": [
      "dot: graph is too large for cairo-renderer bitmaps. Scaling by 0.357777 to fit\n"
     ]
    },
    {
     "name": "stdout",
     "output_type": "stream",
     "text": [
      "'decision_tree' --- depth: 15; train score: 0.9811874853622149; test score: 0.9148554531507215; mse: 0.11076411438843364\n"
     ]
    },
    {
     "name": "stderr",
     "output_type": "stream",
     "text": [
      "dot: graph is too large for cairo-renderer bitmaps. Scaling by 0.112701 to fit\n"
     ]
    },
    {
     "name": "stdout",
     "output_type": "stream",
     "text": [
      "'decision_tree' --- depth: 20; train score: 0.9966689250448887; test score: 0.9110199757743895; mse: 0.11575366769004806\n"
     ]
    },
    {
     "name": "stderr",
     "output_type": "stream",
     "text": [
      "dot: graph is too large for cairo-renderer bitmaps. Scaling by 0.0853467 to fit\n"
     ]
    },
    {
     "name": "stdout",
     "output_type": "stream",
     "text": [
      "'decision_tree' --- depth: 25; train score: 0.999592018364797; test score: 0.9153485418970679; mse: 0.11012265770888072\n"
     ]
    },
    {
     "name": "stderr",
     "output_type": "stream",
     "text": [
      "dot: graph is too large for cairo-renderer bitmaps. Scaling by 0.0793269 to fit\n"
     ]
    },
    {
     "name": "stdout",
     "output_type": "stream",
     "text": [
      "'decision_tree' --- depth: 30; train score: 0.9999181214409147; test score: 0.9185440583137199; mse: 0.10596562641325698\n"
     ]
    },
    {
     "name": "stderr",
     "output_type": "stream",
     "text": [
      "dot: graph is too large for cairo-renderer bitmaps. Scaling by 0.0789831 to fit\n"
     ]
    },
    {
     "name": "stdout",
     "output_type": "stream",
     "text": [
      "'decision_tree' --- depth: 35; train score: 1.0; test score: 0.9186967634277796; mse: 0.10576697309548964\n"
     ]
    },
    {
     "name": "stderr",
     "output_type": "stream",
     "text": [
      "dot: graph is too large for cairo-renderer bitmaps. Scaling by 0.0795982 to fit\n"
     ]
    },
    {
     "name": "stdout",
     "output_type": "stream",
     "text": [
      "'decision_tree' --- depth: 40; train score: 1.0; test score: 0.9185357154103755; mse: 0.10597647965441644\n"
     ]
    },
    {
     "name": "stderr",
     "output_type": "stream",
     "text": [
      "dot: graph is too large for cairo-renderer bitmaps. Scaling by 0.079164 to fit\n"
     ]
    },
    {
     "name": "stdout",
     "output_type": "stream",
     "text": [
      "'decision_tree' --- depth: 45; train score: 1.0; test score: 0.9185201991562071; mse: 0.10599666467172167\n"
     ]
    },
    {
     "name": "stderr",
     "output_type": "stream",
     "text": [
      "dot: graph is too large for cairo-renderer bitmaps. Scaling by 0.079701 to fit\n"
     ]
    },
    {
     "name": "stdout",
     "output_type": "stream",
     "text": [
      "'decision_tree' --- depth: 50; train score: 1.0; test score: 0.9185853406715524; mse: 0.10591192240079367\n"
     ]
    },
    {
     "name": "stderr",
     "output_type": "stream",
     "text": [
      "dot: graph is too large for cairo-renderer bitmaps. Scaling by 0.0787767 to fit\n"
     ]
    }
   ],
   "source": [
    "for max_depth in [2, 3, 5, 10, 15, 20, 25, 30, 35, 40, 45, 50]:\n",
    "    model = DecisionTreeRegressor(max_depth=max_depth)\n",
    "    run_regression(X_train, y_train, X_test, y_test, model, 'decision_tree', max_depth)"
   ],
   "metadata": {
    "collapsed": false,
    "ExecuteTime": {
     "end_time": "2024-04-24T19:46:23.375442300Z",
     "start_time": "2024-04-24T19:42:33.072481400Z"
    }
   },
   "id": "95d1f2e357675c03",
   "execution_count": 24
  },
  {
   "cell_type": "code",
   "outputs": [],
   "source": [
    "model = DecisionTreeRegressor(max_depth=10)"
   ],
   "metadata": {
    "collapsed": false,
    "ExecuteTime": {
     "end_time": "2024-04-24T20:12:12.606754400Z",
     "start_time": "2024-04-24T20:12:12.531515100Z"
    }
   },
   "id": "deff8d3c06d14657",
   "execution_count": 54
  },
  {
   "cell_type": "code",
   "outputs": [
    {
     "name": "stdout",
     "output_type": "stream",
     "text": [
      "'decision_tree' --- depth: 30; train score: 0.879635298319562; test score: 0.8441484432966946; mse: 0.20274650923750423\n"
     ]
    },
    {
     "name": "stderr",
     "output_type": "stream",
     "text": [
      "dot: graph is too large for cairo-renderer bitmaps. Scaling by 0.359051 to fit\n"
     ]
    }
   ],
   "source": [
    "# fit model\n",
    "model = run_regression(X_train, y_train, X_test, y_test, model, 'decision_tree', 30)"
   ],
   "metadata": {
    "collapsed": false,
    "ExecuteTime": {
     "end_time": "2024-04-24T20:12:15.162179900Z",
     "start_time": "2024-04-24T20:12:12.915349900Z"
    }
   },
   "id": "931ccf4d24d91a3f",
   "execution_count": 55
  },
  {
   "cell_type": "code",
   "outputs": [],
   "source": [
    "# run model for each item in the layout\n",
    "\n",
    "def generate_data_for_layout(layout):\n",
    "    data = {\n",
    "        \"state\": [],\n",
    "        \"action\": [],\n",
    "        \"reward\": [],\n",
    "        \"info\": [],\n",
    "        \"coords\": []\n",
    "    }\n",
    "    \n",
    "    for i in range(layout.shape[0]):\n",
    "        for j in range(layout.shape[1]):\n",
    "            if layout[i][j].type.name == 'RACK':\n",
    "                for level in range(layout.get_max_rack_level()):\n",
    "                    input_data = create_input_for_genome(layout, i, j, level)\n",
    "                    if input_data is None:\n",
    "                        continue\n",
    "                    for item in str_items:\n",
    "                        data['action'].append(item)\n",
    "                        data['state'].append(input_data)\n",
    "                        data['info'].append(None)\n",
    "                        data['reward'].append(None)\n",
    "                        data['coords'].append((i, j, level))\n",
    "    df = pd.DataFrame(data)\n",
    "    state_df = pd.DataFrame(df['state'].tolist(), columns=['level', 'dist_to_cashier', 'dist_to_exit', 'orientation_x', 'orientation_y', 'left_product_1_id', 'left_product_1_count', 'left_product_2_id', 'left_product_2_count', 'left_product_3_id', 'left_product_3_count', 'left_product_4_id', 'left_product_4_count', 'right_product_1_id', 'right_product_1_count', 'right_product_2_id', 'right_product_2_count', 'right_product_3_id', 'right_product_3_count', 'right_product_4_id', 'right_product_4_count', 'tile_up', 'tile_down', 'tile_left', 'tile_right', 'tile_up_left', 'tile_down_right', 'tile_up_right', 'tile_down_left'])\n",
    "    # join 2 dfs\n",
    "    df = df.drop('state', axis=1)\n",
    "    df = df.join(state_df)\n",
    "    return df"
   ],
   "metadata": {
    "collapsed": false,
    "ExecuteTime": {
     "end_time": "2024-04-24T20:12:15.178180800Z",
     "start_time": "2024-04-24T20:12:15.168180500Z"
    }
   },
   "id": "842c9a102078d652",
   "execution_count": 56
  },
  {
   "cell_type": "code",
   "outputs": [
    {
     "data": {
      "text/plain": "      action reward  info       coords  level  dist_to_cashier  dist_to_exit  \\\n0          1   None  None    (1, 2, 0)      0               18            28   \n1          2   None  None    (1, 2, 0)      0               18            28   \n2          3   None  None    (1, 2, 0)      0               18            28   \n3          4   None  None    (1, 2, 0)      0               18            28   \n4          5   None  None    (1, 2, 0)      0               18            28   \n...      ...    ...   ...          ...    ...              ...           ...   \n55659     94   None  None  (16, 22, 3)      3               19            11   \n55660     95   None  None  (16, 22, 3)      3               19            11   \n55661     96   None  None  (16, 22, 3)      3               19            11   \n55662     97   None  None  (16, 22, 3)      3               19            11   \n55663     98   None  None  (16, 22, 3)      3               19            11   \n\n       orientation_x  orientation_y  left_product_1_id  ...  \\\n0                  1              0                 -1  ...   \n1                  1              0                 -1  ...   \n2                  1              0                 -1  ...   \n3                  1              0                 -1  ...   \n4                  1              0                 -1  ...   \n...              ...            ...                ...  ...   \n55659             -1              0                 -1  ...   \n55660             -1              0                 -1  ...   \n55661             -1              0                 -1  ...   \n55662             -1              0                 -1  ...   \n55663             -1              0                 -1  ...   \n\n       right_product_4_id  right_product_4_count  tile_up  tile_down  \\\n0                      37                     10        0          1   \n1                      37                     10        0          1   \n2                      37                     10        0          1   \n3                      37                     10        0          1   \n4                      37                     10        0          1   \n...                   ...                    ...      ...        ...   \n55659                  32                      5        1          0   \n55660                  32                      5        1          0   \n55661                  32                      5        1          0   \n55662                  32                      5        1          0   \n55663                  32                      5        1          0   \n\n       tile_left  tile_right  tile_up_left  tile_down_right  tile_up_right  \\\n0              0           2             0                1              0   \n1              0           2             0                1              0   \n2              0           2             0                1              0   \n3              0           2             0                1              0   \n4              0           2             0                1              0   \n...          ...         ...           ...              ...            ...   \n55659          2           0             1                0              2   \n55660          2           0             1                0              2   \n55661          2           0             1                0              2   \n55662          2           0             1                0              2   \n55663          2           0             1                0              2   \n\n       tile_down_left  \n0                   2  \n1                   2  \n2                   2  \n3                   2  \n4                   2  \n...               ...  \n55659               0  \n55660               0  \n55661               0  \n55662               0  \n55663               0  \n\n[55664 rows x 33 columns]",
      "text/html": "<div>\n<style scoped>\n    .dataframe tbody tr th:only-of-type {\n        vertical-align: middle;\n    }\n\n    .dataframe tbody tr th {\n        vertical-align: top;\n    }\n\n    .dataframe thead th {\n        text-align: right;\n    }\n</style>\n<table border=\"1\" class=\"dataframe\">\n  <thead>\n    <tr style=\"text-align: right;\">\n      <th></th>\n      <th>action</th>\n      <th>reward</th>\n      <th>info</th>\n      <th>coords</th>\n      <th>level</th>\n      <th>dist_to_cashier</th>\n      <th>dist_to_exit</th>\n      <th>orientation_x</th>\n      <th>orientation_y</th>\n      <th>left_product_1_id</th>\n      <th>...</th>\n      <th>right_product_4_id</th>\n      <th>right_product_4_count</th>\n      <th>tile_up</th>\n      <th>tile_down</th>\n      <th>tile_left</th>\n      <th>tile_right</th>\n      <th>tile_up_left</th>\n      <th>tile_down_right</th>\n      <th>tile_up_right</th>\n      <th>tile_down_left</th>\n    </tr>\n  </thead>\n  <tbody>\n    <tr>\n      <th>0</th>\n      <td>1</td>\n      <td>None</td>\n      <td>None</td>\n      <td>(1, 2, 0)</td>\n      <td>0</td>\n      <td>18</td>\n      <td>28</td>\n      <td>1</td>\n      <td>0</td>\n      <td>-1</td>\n      <td>...</td>\n      <td>37</td>\n      <td>10</td>\n      <td>0</td>\n      <td>1</td>\n      <td>0</td>\n      <td>2</td>\n      <td>0</td>\n      <td>1</td>\n      <td>0</td>\n      <td>2</td>\n    </tr>\n    <tr>\n      <th>1</th>\n      <td>2</td>\n      <td>None</td>\n      <td>None</td>\n      <td>(1, 2, 0)</td>\n      <td>0</td>\n      <td>18</td>\n      <td>28</td>\n      <td>1</td>\n      <td>0</td>\n      <td>-1</td>\n      <td>...</td>\n      <td>37</td>\n      <td>10</td>\n      <td>0</td>\n      <td>1</td>\n      <td>0</td>\n      <td>2</td>\n      <td>0</td>\n      <td>1</td>\n      <td>0</td>\n      <td>2</td>\n    </tr>\n    <tr>\n      <th>2</th>\n      <td>3</td>\n      <td>None</td>\n      <td>None</td>\n      <td>(1, 2, 0)</td>\n      <td>0</td>\n      <td>18</td>\n      <td>28</td>\n      <td>1</td>\n      <td>0</td>\n      <td>-1</td>\n      <td>...</td>\n      <td>37</td>\n      <td>10</td>\n      <td>0</td>\n      <td>1</td>\n      <td>0</td>\n      <td>2</td>\n      <td>0</td>\n      <td>1</td>\n      <td>0</td>\n      <td>2</td>\n    </tr>\n    <tr>\n      <th>3</th>\n      <td>4</td>\n      <td>None</td>\n      <td>None</td>\n      <td>(1, 2, 0)</td>\n      <td>0</td>\n      <td>18</td>\n      <td>28</td>\n      <td>1</td>\n      <td>0</td>\n      <td>-1</td>\n      <td>...</td>\n      <td>37</td>\n      <td>10</td>\n      <td>0</td>\n      <td>1</td>\n      <td>0</td>\n      <td>2</td>\n      <td>0</td>\n      <td>1</td>\n      <td>0</td>\n      <td>2</td>\n    </tr>\n    <tr>\n      <th>4</th>\n      <td>5</td>\n      <td>None</td>\n      <td>None</td>\n      <td>(1, 2, 0)</td>\n      <td>0</td>\n      <td>18</td>\n      <td>28</td>\n      <td>1</td>\n      <td>0</td>\n      <td>-1</td>\n      <td>...</td>\n      <td>37</td>\n      <td>10</td>\n      <td>0</td>\n      <td>1</td>\n      <td>0</td>\n      <td>2</td>\n      <td>0</td>\n      <td>1</td>\n      <td>0</td>\n      <td>2</td>\n    </tr>\n    <tr>\n      <th>...</th>\n      <td>...</td>\n      <td>...</td>\n      <td>...</td>\n      <td>...</td>\n      <td>...</td>\n      <td>...</td>\n      <td>...</td>\n      <td>...</td>\n      <td>...</td>\n      <td>...</td>\n      <td>...</td>\n      <td>...</td>\n      <td>...</td>\n      <td>...</td>\n      <td>...</td>\n      <td>...</td>\n      <td>...</td>\n      <td>...</td>\n      <td>...</td>\n      <td>...</td>\n      <td>...</td>\n    </tr>\n    <tr>\n      <th>55659</th>\n      <td>94</td>\n      <td>None</td>\n      <td>None</td>\n      <td>(16, 22, 3)</td>\n      <td>3</td>\n      <td>19</td>\n      <td>11</td>\n      <td>-1</td>\n      <td>0</td>\n      <td>-1</td>\n      <td>...</td>\n      <td>32</td>\n      <td>5</td>\n      <td>1</td>\n      <td>0</td>\n      <td>2</td>\n      <td>0</td>\n      <td>1</td>\n      <td>0</td>\n      <td>2</td>\n      <td>0</td>\n    </tr>\n    <tr>\n      <th>55660</th>\n      <td>95</td>\n      <td>None</td>\n      <td>None</td>\n      <td>(16, 22, 3)</td>\n      <td>3</td>\n      <td>19</td>\n      <td>11</td>\n      <td>-1</td>\n      <td>0</td>\n      <td>-1</td>\n      <td>...</td>\n      <td>32</td>\n      <td>5</td>\n      <td>1</td>\n      <td>0</td>\n      <td>2</td>\n      <td>0</td>\n      <td>1</td>\n      <td>0</td>\n      <td>2</td>\n      <td>0</td>\n    </tr>\n    <tr>\n      <th>55661</th>\n      <td>96</td>\n      <td>None</td>\n      <td>None</td>\n      <td>(16, 22, 3)</td>\n      <td>3</td>\n      <td>19</td>\n      <td>11</td>\n      <td>-1</td>\n      <td>0</td>\n      <td>-1</td>\n      <td>...</td>\n      <td>32</td>\n      <td>5</td>\n      <td>1</td>\n      <td>0</td>\n      <td>2</td>\n      <td>0</td>\n      <td>1</td>\n      <td>0</td>\n      <td>2</td>\n      <td>0</td>\n    </tr>\n    <tr>\n      <th>55662</th>\n      <td>97</td>\n      <td>None</td>\n      <td>None</td>\n      <td>(16, 22, 3)</td>\n      <td>3</td>\n      <td>19</td>\n      <td>11</td>\n      <td>-1</td>\n      <td>0</td>\n      <td>-1</td>\n      <td>...</td>\n      <td>32</td>\n      <td>5</td>\n      <td>1</td>\n      <td>0</td>\n      <td>2</td>\n      <td>0</td>\n      <td>1</td>\n      <td>0</td>\n      <td>2</td>\n      <td>0</td>\n    </tr>\n    <tr>\n      <th>55663</th>\n      <td>98</td>\n      <td>None</td>\n      <td>None</td>\n      <td>(16, 22, 3)</td>\n      <td>3</td>\n      <td>19</td>\n      <td>11</td>\n      <td>-1</td>\n      <td>0</td>\n      <td>-1</td>\n      <td>...</td>\n      <td>32</td>\n      <td>5</td>\n      <td>1</td>\n      <td>0</td>\n      <td>2</td>\n      <td>0</td>\n      <td>1</td>\n      <td>0</td>\n      <td>2</td>\n      <td>0</td>\n    </tr>\n  </tbody>\n</table>\n<p>55664 rows × 33 columns</p>\n</div>"
     },
     "execution_count": 57,
     "metadata": {},
     "output_type": "execute_result"
    }
   ],
   "source": [
    "data = generate_data_for_layout(layout)\n",
    "data"
   ],
   "metadata": {
    "collapsed": false,
    "ExecuteTime": {
     "end_time": "2024-04-24T20:12:16.385732500Z",
     "start_time": "2024-04-24T20:12:15.221699700Z"
    }
   },
   "id": "b2592dc44f0c4ace",
   "execution_count": 57
  },
  {
   "cell_type": "code",
   "outputs": [],
   "source": [
    "# fit without reward and coords\n",
    "X = np.array(data.drop(['reward', 'coords', 'info'], axis=1).values.tolist())\n",
    "\n",
    "#predict rewards\n",
    "y = model.predict(X)\n",
    "\n",
    "#add rewards to data\n",
    "data['reward'] = y"
   ],
   "metadata": {
    "collapsed": false,
    "ExecuteTime": {
     "end_time": "2024-04-24T20:12:17.215820200Z",
     "start_time": "2024-04-24T20:12:16.387732800Z"
    }
   },
   "id": "958be85d451dcea9",
   "execution_count": 58
  },
  {
   "cell_type": "code",
   "outputs": [],
   "source": [
    "# for each item in layout, select the one with the highest reward\n",
    "def select_best_item_for_layout(layout, data, rewards):\n",
    "    new_layout = layout.copy()\n",
    "    for i in trange(layout.shape[0]):\n",
    "        for j in range(layout.shape[1]):\n",
    "            if layout[i][j].type.name == 'RACK':\n",
    "                for level in range(layout.get_max_rack_level()):\n",
    "                    coords = (i, j, level)\n",
    "                    coords_df = data[data['coords'] == coords]\n",
    "                    #print(decoded_df)\n",
    "                    coords_df.sort_values(by='reward', ascending=False)\n",
    "                    #(coords_df)\n",
    "                    item = coords_df.iloc[random.randint(0, 4)]['action']\n",
    "                    #print(item, type(item))\n",
    "                    new_layout.set_item_to_rack(item, (i, j), level=level)\n",
    "    return new_layout"
   ],
   "metadata": {
    "collapsed": false,
    "ExecuteTime": {
     "end_time": "2024-04-24T20:12:17.238821100Z",
     "start_time": "2024-04-24T20:12:17.220820100Z"
    }
   },
   "id": "f2874b96739015b5",
   "execution_count": 59
  },
  {
   "cell_type": "code",
   "outputs": [],
   "source": [
    "layout = layout.reset_item_count().reset_path_count().copy()"
   ],
   "metadata": {
    "collapsed": false,
    "ExecuteTime": {
     "end_time": "2024-04-24T20:12:17.241820100Z",
     "start_time": "2024-04-24T20:12:17.225829100Z"
    }
   },
   "id": "9aa6902a14c09f14",
   "execution_count": 60
  },
  {
   "cell_type": "code",
   "outputs": [],
   "source": [
    "better_layout = layout.copy()"
   ],
   "metadata": {
    "collapsed": false,
    "ExecuteTime": {
     "end_time": "2024-04-24T20:12:17.272820200Z",
     "start_time": "2024-04-24T20:12:17.244819200Z"
    }
   },
   "id": "ab67a0cc20f57a03",
   "execution_count": 61
  },
  {
   "cell_type": "code",
   "outputs": [
    {
     "data": {
      "text/plain": "  0%|          | 0/18 [00:00<?, ?it/s]",
      "application/vnd.jupyter.widget-view+json": {
       "version_major": 2,
       "version_minor": 0,
       "model_id": "c561acf946e74b47906f3c97a2b42372"
      }
     },
     "metadata": {},
     "output_type": "display_data"
    },
    {
     "name": "stdout",
     "output_type": "stream",
     "text": [
      "{'missing_items': [['28'], ['41'], ['19'], ['33'], ['9'], ['9'], ['25'], ['33'], ['8'], ['20'], ['9'], ['48'], ['9'], ['36'], ['28'], ['44', '9'], ['8', '16'], ['30', '20'], ['43'], ['36', '20'], ['12', '68'], ['41', '26'], ['32', '28'], ['59'], ['36', '9'], ['9'], ['10', '36'], ['28', '19'], ['41', '48'], ['12', '71'], ['12', '10'], ['33', '9'], ['44', '48'], ['69'], ['9'], ['9', '44'], ['68'], ['68', '10'], ['14', '52'], ['33'], ['15', '19'], ['28', '27', '58'], ['20', '9', '33'], ['19', '51'], ['27', '9', '20'], ['9', '44'], ['67', '11', '10'], ['44', '33', '9'], ['75', '9', '41'], ['32', '77', '78'], ['53'], ['21', '24', '78'], ['9', '44'], ['34', '41'], ['10', '49'], ['17'], ['69', '16', '54'], ['10', '9', '68'], ['89', '10', '23'], ['45', '61', '25'], ['32', '83', '78'], ['53', '21'], ['90', '19', '17'], ['9', '8', '33'], ['78', '53', '9'], ['30', '66', '10'], ['20', '19', '30'], ['26', '9'], ['22', '9'], ['30', '20', '28', '58'], ['36', '9', '66', '10'], ['11', '36', '28', '9'], ['30', '34', '13'], ['19', '38'], ['9', '33', '12'], ['25', '32', '20', '55'], ['41', '28', '20'], ['35', '10', '26'], ['9', '65', '33', '38'], ['71', '17', '25'], ['47', '25', '9'], ['32', '33', '17'], ['26', '49', '10'], ['60', '9', '42', '12'], ['66', '31', '48', '44'], ['6', '9', '71', '11'], ['10', '20', '34', '17'], ['33', '9'], ['32', '33', '11'], ['59', '20', '26'], ['20', '33', '82'], ['9', '20', '17', '40'], ['9', '68', '33', '47'], ['23', '79', '53'], ['11', '9', '85', '30'], ['73', '28', '70'], ['38', '33', '9'], ['22', '38', '33'], ['20', '28', '53', '26'], ['17', '9', '18'], ['6', '43', '23', '60', '36'], ['9', '33', '26', '61'], ['44', '33', '9', '18'], ['21', '15', '74', '61'], ['13', '9', '45', '36'], ['28', '20', '8', '31', '30'], ['10', '9', '27'], ['20', '9', '19'], ['82', '47', '83', '62', '36'], ['36', '38', '23', '82'], ['20', '9', '26', '83', '36'], ['11', '9', '20', '71'], ['61', '28', '38', '33', '36'], ['33', '9', '17'], ['69', '10', '9', '63'], ['16', '63', '9', '27', '54'], ['9', '10', '22', '33'], ['40', '16', '83'], ['39', '75', '68', '13', '10'], ['67', '27', '15', '91'], ['26', '32', '48', '9'], ['41', '33', '38', '9'], ['28', '9', '48', '36'], ['58', '28', '63', '61', '62'], ['8', '20', '62', '80', '36'], ['6', '68', '38', '15'], ['20', '63', '22', '67', '18'], ['64', '9', '33', '11'], ['68', '38', '6', '36', '78'], ['9', '33', '49'], ['10', '61', '9'], ['17', '9', '51', '23'], ['69', '9', '44'], ['51', '20', '33', '11'], ['24', '25', '26', '9', '27'], ['29', '30', '31', '9', '32'], ['17', '9', '10', '45', '34'], ['12', '57', '17', '25', '20'], ['9', '38', '53', '23', '12'], ['17', '23', '48', '20', '33', '9'], ['20', '41', '27', '13', '10'], ['57', '36', '23', '67', '12'], ['17', '64', '65', '12'], ['9', '20', '12', '53', '78'], ['76', '17', '9', '33', '27'], ['9', '48', '41', '36'], ['89', '10', '86', '11', '26'], ['9', '81', '65', '15'], ['25', '78', '69', '8', '41', '9'], ['15', '25', '55', '62'], ['9', '35', '11', '64', '45'], ['9', '20', '33', '55', '38'], ['10', '20', '47', '33', '75', '49'], ['9', '20', '68', '26', '16'], ['33', '19', '47', '20'], ['93', '42', '9', '11'], ['33', '7', '9', '55', '57'], ['9', '10', '41', '69', '77'], ['10', '15', '48', '41', '49'], ['9', '7', '22', '10'], ['54', '55', '33', '8', '9'], ['61', '20', '41', '42', '9', '28'], ['56', '78', '15', '92', '54'], ['10', '36', '33', '75', '67'], ['6', '7'], ['8', '9', '10', '11', '12'], ['11', '25', '9', '16', '6'], ['50', '19', '56', '57', '12', '23'], ['33', '9', '24', '36', '67'], ['62', '20', '58', '9', '70', '8', '33'], ['33', '38', '17', '10', '6', '9'], ['9', '33', '28', '10'], ['36', '63', '62', '16', '9', '12'], ['23', '45', '53', '11', '69', '32'], ['6', '19', '9', '43', '32'], ['9', '11', '10', '32', '15', '62'], ['67', '8', '28', '48', '10', '17', '11'], ['9', '12', '75', '33', '48'], ['36', '63', '59', '11', '20', '33', '9'], ['13', '9', '53', '36', '16', '10'], ['9', '81', '11', '6', '45', '33'], ['29', '26', '76', '30', '41'], ['16', '11', '33', '50', '81'], ['71', '15', '82', '33', '9'], ['10', '37', '33', '82', '69'], ['23', '7', '32', '66', '54', '91'], ['10', '16', '12', '77', '9', '41'], ['33', '9', '89', '69', '17', '8', '32'], ['9', '48', '69', '16']], 'path': 23, 'invalid': 189, 'rack_uniformity': 799, 'tile_uniformity': 422}\n"
     ]
    }
   ],
   "source": [
    "for i  in range(1):\n",
    "    better_layout = better_layout.reset_item_count().reset_path_count()\n",
    "    better_layout = select_best_item_for_layout(better_layout, data, y)\n",
    "    res, l = thread_func(better_layout, check_list)\n",
    "    print(res)"
   ],
   "metadata": {
    "collapsed": false,
    "ExecuteTime": {
     "end_time": "2024-04-24T20:12:19.915797300Z",
     "start_time": "2024-04-24T20:12:17.261822100Z"
    }
   },
   "id": "23b85c71c3e79388",
   "execution_count": 62
  },
  {
   "cell_type": "code",
   "outputs": [],
   "source": [
    "eval = thread_func(layout, check_list)\n",
    "test = thread_func(better_layout, check_list)"
   ],
   "metadata": {
    "collapsed": false,
    "ExecuteTime": {
     "end_time": "2024-04-24T20:12:20.273913500Z",
     "start_time": "2024-04-24T20:12:19.909797500Z"
    }
   },
   "id": "2e1f5584110f0f36",
   "execution_count": 63
  },
  {
   "cell_type": "code",
   "outputs": [
    {
     "data": {
      "text/plain": "({'missing_items': [['28'],\n   ['28'],\n   ['28'],\n   ['28'],\n   ['28'],\n   ['9'],\n   ['9'],\n   ['9'],\n   ['9'],\n   ['9'],\n   ['9'],\n   ['9'],\n   ['9'],\n   ['9'],\n   ['9'],\n   ['9'],\n   ['9'],\n   ['9'],\n   ['9'],\n   ['9'],\n   ['9', '28'],\n   ['9'],\n   ['9'],\n   ['9'],\n   ['9'],\n   ['9'],\n   ['9', '28'],\n   ['9'],\n   ['9'],\n   ['9'],\n   ['28'],\n   ['9'],\n   ['9'],\n   ['9'],\n   ['9'],\n   ['4'],\n   ['4', '9'],\n   ['4'],\n   ['9'],\n   ['9'],\n   ['9', '4']],\n  'path': 7181,\n  'invalid': 41,\n  'rack_uniformity': 976,\n  'tile_uniformity': 562},\n <ui.python.Layout.Layout at 0x7fa14321ab00>)"
     },
     "execution_count": 64,
     "metadata": {},
     "output_type": "execute_result"
    }
   ],
   "source": [
    "eval"
   ],
   "metadata": {
    "collapsed": false,
    "ExecuteTime": {
     "end_time": "2024-04-24T20:12:20.289904300Z",
     "start_time": "2024-04-24T20:12:20.280905100Z"
    }
   },
   "id": "407948530ef2393f",
   "execution_count": 64
  },
  {
   "cell_type": "code",
   "outputs": [
    {
     "data": {
      "text/plain": "({'missing_items': [['28'],\n   ['41'],\n   ['19'],\n   ['33'],\n   ['9'],\n   ['9'],\n   ['25'],\n   ['33'],\n   ['8'],\n   ['20'],\n   ['9'],\n   ['48'],\n   ['9'],\n   ['36'],\n   ['28'],\n   ['44', '9'],\n   ['8', '16'],\n   ['30', '20'],\n   ['43'],\n   ['36', '20'],\n   ['12', '68'],\n   ['41', '26'],\n   ['32', '28'],\n   ['59'],\n   ['36', '9'],\n   ['9'],\n   ['10', '36'],\n   ['28', '19'],\n   ['41', '48'],\n   ['12', '71'],\n   ['12', '10'],\n   ['33', '9'],\n   ['44', '48'],\n   ['69'],\n   ['9'],\n   ['9', '44'],\n   ['68'],\n   ['68', '10'],\n   ['14', '52'],\n   ['33'],\n   ['15', '19'],\n   ['28', '27', '58'],\n   ['20', '9', '33'],\n   ['19', '51'],\n   ['27', '9', '20'],\n   ['9', '44'],\n   ['67', '11', '10'],\n   ['44', '33', '9'],\n   ['75', '9', '41'],\n   ['32', '77', '78'],\n   ['53'],\n   ['21', '24', '78'],\n   ['9', '44'],\n   ['34', '41'],\n   ['10', '49'],\n   ['17'],\n   ['69', '16', '54'],\n   ['10', '9', '68'],\n   ['89', '10', '23'],\n   ['45', '61', '25'],\n   ['32', '83', '78'],\n   ['53', '21'],\n   ['90', '19', '17'],\n   ['9', '8', '33'],\n   ['78', '53', '9'],\n   ['30', '66', '10'],\n   ['20', '19', '30'],\n   ['26', '9'],\n   ['22', '9'],\n   ['30', '20', '28', '58'],\n   ['36', '9', '66', '10'],\n   ['11', '36', '28', '9'],\n   ['30', '34', '13'],\n   ['19', '38'],\n   ['9', '33', '12'],\n   ['25', '32', '20', '55'],\n   ['41', '28', '20'],\n   ['35', '10', '26'],\n   ['9', '65', '33', '38'],\n   ['71', '17', '25'],\n   ['47', '25', '9'],\n   ['32', '33', '17'],\n   ['26', '49', '10'],\n   ['60', '9', '42', '12'],\n   ['66', '31', '48', '44'],\n   ['6', '9', '71', '11'],\n   ['10', '20', '34', '17'],\n   ['33', '9'],\n   ['32', '33', '11'],\n   ['59', '20', '26'],\n   ['20', '33', '82'],\n   ['9', '20', '17', '40'],\n   ['9', '68', '33', '47'],\n   ['23', '79', '53'],\n   ['11', '9', '85', '30'],\n   ['73', '28', '70'],\n   ['38', '33', '9'],\n   ['22', '38', '33'],\n   ['20', '28', '53', '26'],\n   ['17', '9', '18'],\n   ['6', '43', '23', '60', '36'],\n   ['9', '33', '26', '61'],\n   ['44', '33', '9', '18'],\n   ['21', '15', '74', '61'],\n   ['13', '9', '45', '36'],\n   ['28', '20', '8', '31', '30'],\n   ['10', '9', '27'],\n   ['20', '9', '19'],\n   ['82', '47', '83', '62', '36'],\n   ['36', '38', '23', '82'],\n   ['20', '9', '26', '83', '36'],\n   ['11', '9', '20', '71'],\n   ['61', '28', '38', '33', '36'],\n   ['33', '9', '17'],\n   ['69', '10', '9', '63'],\n   ['16', '63', '9', '27', '54'],\n   ['9', '10', '22', '33'],\n   ['40', '16', '83'],\n   ['39', '75', '68', '13', '10'],\n   ['67', '27', '15', '91'],\n   ['26', '32', '48', '9'],\n   ['41', '33', '38', '9'],\n   ['28', '9', '48', '36'],\n   ['58', '28', '63', '61', '62'],\n   ['8', '20', '62', '80', '36'],\n   ['6', '68', '38', '15'],\n   ['20', '63', '22', '67', '18'],\n   ['64', '9', '33', '11'],\n   ['68', '38', '6', '36', '78'],\n   ['9', '33', '49'],\n   ['10', '61', '9'],\n   ['17', '9', '51', '23'],\n   ['69', '9', '44'],\n   ['51', '20', '33', '11'],\n   ['24', '25', '26', '9', '27'],\n   ['29', '30', '31', '9', '32'],\n   ['17', '9', '10', '45', '34'],\n   ['12', '57', '17', '25', '20'],\n   ['9', '38', '53', '23', '12'],\n   ['17', '23', '48', '20', '33', '9'],\n   ['20', '41', '27', '13', '10'],\n   ['57', '36', '23', '67', '12'],\n   ['17', '64', '65', '12'],\n   ['9', '20', '12', '53', '78'],\n   ['76', '17', '9', '33', '27'],\n   ['9', '48', '41', '36'],\n   ['89', '10', '86', '11', '26'],\n   ['9', '81', '65', '15'],\n   ['25', '78', '69', '8', '41', '9'],\n   ['15', '25', '55', '62'],\n   ['9', '35', '11', '64', '45'],\n   ['9', '20', '33', '55', '38'],\n   ['10', '20', '47', '33', '75', '49'],\n   ['9', '20', '68', '26', '16'],\n   ['33', '19', '47', '20'],\n   ['93', '42', '9', '11'],\n   ['33', '7', '9', '55', '57'],\n   ['9', '10', '41', '69', '77'],\n   ['10', '15', '48', '41', '49'],\n   ['9', '7', '22', '10'],\n   ['54', '55', '33', '8', '9'],\n   ['61', '20', '41', '42', '9', '28'],\n   ['56', '78', '15', '92', '54'],\n   ['10', '36', '33', '75', '67'],\n   ['6', '7'],\n   ['8', '9', '10', '11', '12'],\n   ['11', '25', '9', '16', '6'],\n   ['50', '19', '56', '57', '12', '23'],\n   ['33', '9', '24', '36', '67'],\n   ['62', '20', '58', '9', '70', '8', '33'],\n   ['33', '38', '17', '10', '6', '9'],\n   ['9', '33', '28', '10'],\n   ['36', '63', '62', '16', '9', '12'],\n   ['23', '45', '53', '11', '69', '32'],\n   ['6', '19', '9', '43', '32'],\n   ['9', '11', '10', '32', '15', '62'],\n   ['67', '8', '28', '48', '10', '17', '11'],\n   ['9', '12', '75', '33', '48'],\n   ['36', '63', '59', '11', '20', '33', '9'],\n   ['13', '9', '53', '36', '16', '10'],\n   ['9', '81', '11', '6', '45', '33'],\n   ['29', '26', '76', '30', '41'],\n   ['16', '11', '33', '50', '81'],\n   ['71', '15', '82', '33', '9'],\n   ['10', '37', '33', '82', '69'],\n   ['23', '7', '32', '66', '54', '91'],\n   ['10', '16', '12', '77', '9', '41'],\n   ['33', '9', '89', '69', '17', '8', '32'],\n   ['9', '48', '69', '16']],\n  'path': 26,\n  'invalid': 189,\n  'rack_uniformity': 799,\n  'tile_uniformity': 422},\n <ui.python.Layout.Layout at 0x7fa14321a590>)"
     },
     "execution_count": 65,
     "metadata": {},
     "output_type": "execute_result"
    }
   ],
   "source": [
    "test"
   ],
   "metadata": {
    "collapsed": false,
    "ExecuteTime": {
     "end_time": "2024-04-24T20:12:20.331947100Z",
     "start_time": "2024-04-24T20:12:20.295423100Z"
    }
   },
   "id": "8f4db9e166e8e8db",
   "execution_count": 65
  },
  {
   "cell_type": "code",
   "outputs": [],
   "source": [
    "dir = str(Path(os.getcwd()).parent)"
   ],
   "metadata": {
    "collapsed": false,
    "ExecuteTime": {
     "end_time": "2024-04-24T20:12:20.332948400Z",
     "start_time": "2024-04-24T20:12:20.303419500Z"
    }
   },
   "id": "6692cdc2cb48c4d8",
   "execution_count": 66
  },
  {
   "cell_type": "code",
   "outputs": [],
   "source": [
    "better_layout.display_in_window(home_dir=dir)"
   ],
   "metadata": {
    "collapsed": false,
    "ExecuteTime": {
     "end_time": "2024-04-24T20:29:17.732779Z",
     "start_time": "2024-04-24T20:29:08.321067100Z"
    }
   },
   "id": "5027ea8840c473f0",
   "execution_count": 68
  }
 ],
 "metadata": {
  "kernelspec": {
   "display_name": "Python 3",
   "language": "python",
   "name": "python3"
  },
  "language_info": {
   "codemirror_mode": {
    "name": "ipython",
    "version": 2
   },
   "file_extension": ".py",
   "mimetype": "text/x-python",
   "name": "python",
   "nbconvert_exporter": "python",
   "pygments_lexer": "ipython2",
   "version": "2.7.6"
  }
 },
 "nbformat": 4,
 "nbformat_minor": 5
}
