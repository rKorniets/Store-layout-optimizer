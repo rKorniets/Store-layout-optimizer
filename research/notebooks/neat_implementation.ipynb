{
 "cells": [
  {
   "cell_type": "code",
   "execution_count": 1,
   "id": "initial_id",
   "metadata": {
    "collapsed": true,
    "ExecuteTime": {
     "end_time": "2024-03-08T14:51:16.663773800Z",
     "start_time": "2024-03-08T14:51:15.738773900Z"
    }
   },
   "outputs": [],
   "source": [
    "import random\n",
    "import os\n",
    "\n",
    "from neat import DistributedEvaluator, ParallelEvaluator\n",
    "from tqdm.notebook import tqdm, trange\n",
    "from pathlib import Path\n",
    "from random import randint\n",
    "from ui.python.Layout import Layout\n",
    "import numpy as np\n",
    "\n",
    "from helpers.estimation_helpers import *"
   ]
  },
  {
   "cell_type": "code",
   "outputs": [],
   "source": [
    "import pandas as pd"
   ],
   "metadata": {
    "collapsed": false,
    "ExecuteTime": {
     "end_time": "2024-03-08T14:51:16.894773Z",
     "start_time": "2024-03-08T14:51:16.663773800Z"
    }
   },
   "id": "39ebe225ab40bf4",
   "execution_count": 2
  },
  {
   "cell_type": "code",
   "outputs": [],
   "source": [],
   "metadata": {
    "collapsed": false,
    "ExecuteTime": {
     "end_time": "2024-03-08T14:51:16.910772700Z",
     "start_time": "2024-03-08T14:51:16.895773400Z"
    }
   },
   "id": "4aa38cdd7a1f679e",
   "execution_count": 2
  },
  {
   "cell_type": "code",
   "outputs": [],
   "source": [
    "MAX_WORKERS = 24\n",
    "SLICE_SIZE = 1000\n",
    "EPOCHS = 40\n",
    "SCORE_COEFFICIENTS = (1000, 0, 0)"
   ],
   "metadata": {
    "collapsed": false,
    "ExecuteTime": {
     "end_time": "2024-03-08T14:51:16.942781200Z",
     "start_time": "2024-03-08T14:51:16.912774200Z"
    }
   },
   "id": "c0d6284b9167d620",
   "execution_count": 3
  },
  {
   "cell_type": "markdown",
   "source": [
    "# Preprocessing"
   ],
   "metadata": {
    "collapsed": false
   },
   "id": "b3fdde91da8d2756"
  },
  {
   "cell_type": "code",
   "outputs": [
    {
     "data": {
      "text/plain": "         order_id  user_id  order_number  order_dow  order_hour_of_day  \\\n0         2425083    49125             1          2                 18   \n1         2425083    49125             1          2                 18   \n2         2425083    49125             1          2                 18   \n3         2425083    49125             1          2                 18   \n4         2425083    49125             1          2                 18   \n...           ...      ...           ...        ...                ...   \n2019496   3390742   199430            16          3                 18   \n2019497    458285   128787            42          2                 19   \n2019498    458285   128787            42          2                 19   \n2019499    458285   128787            42          2                 19   \n2019500    458285   128787            42          2                 19   \n\n         days_since_prior_order  product_id  add_to_cart_order  reordered  \\\n0                           NaN          17                  1          0   \n1                           NaN          91                  2          0   \n2                           NaN          36                  3          0   \n3                           NaN          83                  4          0   \n4                           NaN          83                  5          0   \n...                         ...         ...                ...        ...   \n2019496                     5.0          83                  8          0   \n2019497                     3.0         115                  1          1   \n2019498                     3.0          32                  2          1   \n2019499                     3.0          32                  3          1   \n2019500                     3.0         123                  4          1   \n\n         department_id  department                   product_name  \n0                   13      pantry             baking ingredients  \n1                   16  dairy eggs                soy lactosefree  \n2                   16  dairy eggs                         butter  \n3                    4     produce               fresh vegetables  \n4                    4     produce               fresh vegetables  \n...                ...         ...                            ...  \n2019496              4     produce               fresh vegetables  \n2019497              7   beverages  water seltzer sparkling water  \n2019498              4     produce               packaged produce  \n2019499              4     produce               packaged produce  \n2019500              4     produce     packaged vegetables fruits  \n\n[2019501 rows x 12 columns]",
      "text/html": "<div>\n<style scoped>\n    .dataframe tbody tr th:only-of-type {\n        vertical-align: middle;\n    }\n\n    .dataframe tbody tr th {\n        vertical-align: top;\n    }\n\n    .dataframe thead th {\n        text-align: right;\n    }\n</style>\n<table border=\"1\" class=\"dataframe\">\n  <thead>\n    <tr style=\"text-align: right;\">\n      <th></th>\n      <th>order_id</th>\n      <th>user_id</th>\n      <th>order_number</th>\n      <th>order_dow</th>\n      <th>order_hour_of_day</th>\n      <th>days_since_prior_order</th>\n      <th>product_id</th>\n      <th>add_to_cart_order</th>\n      <th>reordered</th>\n      <th>department_id</th>\n      <th>department</th>\n      <th>product_name</th>\n    </tr>\n  </thead>\n  <tbody>\n    <tr>\n      <th>0</th>\n      <td>2425083</td>\n      <td>49125</td>\n      <td>1</td>\n      <td>2</td>\n      <td>18</td>\n      <td>NaN</td>\n      <td>17</td>\n      <td>1</td>\n      <td>0</td>\n      <td>13</td>\n      <td>pantry</td>\n      <td>baking ingredients</td>\n    </tr>\n    <tr>\n      <th>1</th>\n      <td>2425083</td>\n      <td>49125</td>\n      <td>1</td>\n      <td>2</td>\n      <td>18</td>\n      <td>NaN</td>\n      <td>91</td>\n      <td>2</td>\n      <td>0</td>\n      <td>16</td>\n      <td>dairy eggs</td>\n      <td>soy lactosefree</td>\n    </tr>\n    <tr>\n      <th>2</th>\n      <td>2425083</td>\n      <td>49125</td>\n      <td>1</td>\n      <td>2</td>\n      <td>18</td>\n      <td>NaN</td>\n      <td>36</td>\n      <td>3</td>\n      <td>0</td>\n      <td>16</td>\n      <td>dairy eggs</td>\n      <td>butter</td>\n    </tr>\n    <tr>\n      <th>3</th>\n      <td>2425083</td>\n      <td>49125</td>\n      <td>1</td>\n      <td>2</td>\n      <td>18</td>\n      <td>NaN</td>\n      <td>83</td>\n      <td>4</td>\n      <td>0</td>\n      <td>4</td>\n      <td>produce</td>\n      <td>fresh vegetables</td>\n    </tr>\n    <tr>\n      <th>4</th>\n      <td>2425083</td>\n      <td>49125</td>\n      <td>1</td>\n      <td>2</td>\n      <td>18</td>\n      <td>NaN</td>\n      <td>83</td>\n      <td>5</td>\n      <td>0</td>\n      <td>4</td>\n      <td>produce</td>\n      <td>fresh vegetables</td>\n    </tr>\n    <tr>\n      <th>...</th>\n      <td>...</td>\n      <td>...</td>\n      <td>...</td>\n      <td>...</td>\n      <td>...</td>\n      <td>...</td>\n      <td>...</td>\n      <td>...</td>\n      <td>...</td>\n      <td>...</td>\n      <td>...</td>\n      <td>...</td>\n    </tr>\n    <tr>\n      <th>2019496</th>\n      <td>3390742</td>\n      <td>199430</td>\n      <td>16</td>\n      <td>3</td>\n      <td>18</td>\n      <td>5.0</td>\n      <td>83</td>\n      <td>8</td>\n      <td>0</td>\n      <td>4</td>\n      <td>produce</td>\n      <td>fresh vegetables</td>\n    </tr>\n    <tr>\n      <th>2019497</th>\n      <td>458285</td>\n      <td>128787</td>\n      <td>42</td>\n      <td>2</td>\n      <td>19</td>\n      <td>3.0</td>\n      <td>115</td>\n      <td>1</td>\n      <td>1</td>\n      <td>7</td>\n      <td>beverages</td>\n      <td>water seltzer sparkling water</td>\n    </tr>\n    <tr>\n      <th>2019498</th>\n      <td>458285</td>\n      <td>128787</td>\n      <td>42</td>\n      <td>2</td>\n      <td>19</td>\n      <td>3.0</td>\n      <td>32</td>\n      <td>2</td>\n      <td>1</td>\n      <td>4</td>\n      <td>produce</td>\n      <td>packaged produce</td>\n    </tr>\n    <tr>\n      <th>2019499</th>\n      <td>458285</td>\n      <td>128787</td>\n      <td>42</td>\n      <td>2</td>\n      <td>19</td>\n      <td>3.0</td>\n      <td>32</td>\n      <td>3</td>\n      <td>1</td>\n      <td>4</td>\n      <td>produce</td>\n      <td>packaged produce</td>\n    </tr>\n    <tr>\n      <th>2019500</th>\n      <td>458285</td>\n      <td>128787</td>\n      <td>42</td>\n      <td>2</td>\n      <td>19</td>\n      <td>3.0</td>\n      <td>123</td>\n      <td>4</td>\n      <td>1</td>\n      <td>4</td>\n      <td>produce</td>\n      <td>packaged vegetables fruits</td>\n    </tr>\n  </tbody>\n</table>\n<p>2019501 rows × 12 columns</p>\n</div>"
     },
     "execution_count": 4,
     "metadata": {},
     "output_type": "execute_result"
    }
   ],
   "source": [
    "df = pd.read_csv('./../data/datasets/ECommerce_consumer behaviour.csv')\n",
    "df"
   ],
   "metadata": {
    "collapsed": false,
    "ExecuteTime": {
     "end_time": "2024-03-08T14:51:18.545783200Z",
     "start_time": "2024-03-08T14:51:16.927773800Z"
    }
   },
   "id": "dc022f70bd5f3641",
   "execution_count": 4
  },
  {
   "cell_type": "code",
   "outputs": [
    {
     "data": {
      "text/plain": "         order_id  user_id  order_number  department  product_id  \\\n0         2425083    49125             1      pantry          17   \n1         2425083    49125             1  dairy eggs          91   \n2         2425083    49125             1  dairy eggs          36   \n3         2425083    49125             1     produce          83   \n4         2425083    49125             1     produce          83   \n...           ...      ...           ...         ...         ...   \n2019496   3390742   199430            16     produce          83   \n2019497    458285   128787            42   beverages         115   \n2019498    458285   128787            42     produce          32   \n2019499    458285   128787            42     produce          32   \n2019500    458285   128787            42     produce         123   \n\n                          product_name  \n0                   baking ingredients  \n1                      soy lactosefree  \n2                               butter  \n3                     fresh vegetables  \n4                     fresh vegetables  \n...                                ...  \n2019496               fresh vegetables  \n2019497  water seltzer sparkling water  \n2019498               packaged produce  \n2019499               packaged produce  \n2019500     packaged vegetables fruits  \n\n[2019501 rows x 6 columns]",
      "text/html": "<div>\n<style scoped>\n    .dataframe tbody tr th:only-of-type {\n        vertical-align: middle;\n    }\n\n    .dataframe tbody tr th {\n        vertical-align: top;\n    }\n\n    .dataframe thead th {\n        text-align: right;\n    }\n</style>\n<table border=\"1\" class=\"dataframe\">\n  <thead>\n    <tr style=\"text-align: right;\">\n      <th></th>\n      <th>order_id</th>\n      <th>user_id</th>\n      <th>order_number</th>\n      <th>department</th>\n      <th>product_id</th>\n      <th>product_name</th>\n    </tr>\n  </thead>\n  <tbody>\n    <tr>\n      <th>0</th>\n      <td>2425083</td>\n      <td>49125</td>\n      <td>1</td>\n      <td>pantry</td>\n      <td>17</td>\n      <td>baking ingredients</td>\n    </tr>\n    <tr>\n      <th>1</th>\n      <td>2425083</td>\n      <td>49125</td>\n      <td>1</td>\n      <td>dairy eggs</td>\n      <td>91</td>\n      <td>soy lactosefree</td>\n    </tr>\n    <tr>\n      <th>2</th>\n      <td>2425083</td>\n      <td>49125</td>\n      <td>1</td>\n      <td>dairy eggs</td>\n      <td>36</td>\n      <td>butter</td>\n    </tr>\n    <tr>\n      <th>3</th>\n      <td>2425083</td>\n      <td>49125</td>\n      <td>1</td>\n      <td>produce</td>\n      <td>83</td>\n      <td>fresh vegetables</td>\n    </tr>\n    <tr>\n      <th>4</th>\n      <td>2425083</td>\n      <td>49125</td>\n      <td>1</td>\n      <td>produce</td>\n      <td>83</td>\n      <td>fresh vegetables</td>\n    </tr>\n    <tr>\n      <th>...</th>\n      <td>...</td>\n      <td>...</td>\n      <td>...</td>\n      <td>...</td>\n      <td>...</td>\n      <td>...</td>\n    </tr>\n    <tr>\n      <th>2019496</th>\n      <td>3390742</td>\n      <td>199430</td>\n      <td>16</td>\n      <td>produce</td>\n      <td>83</td>\n      <td>fresh vegetables</td>\n    </tr>\n    <tr>\n      <th>2019497</th>\n      <td>458285</td>\n      <td>128787</td>\n      <td>42</td>\n      <td>beverages</td>\n      <td>115</td>\n      <td>water seltzer sparkling water</td>\n    </tr>\n    <tr>\n      <th>2019498</th>\n      <td>458285</td>\n      <td>128787</td>\n      <td>42</td>\n      <td>produce</td>\n      <td>32</td>\n      <td>packaged produce</td>\n    </tr>\n    <tr>\n      <th>2019499</th>\n      <td>458285</td>\n      <td>128787</td>\n      <td>42</td>\n      <td>produce</td>\n      <td>32</td>\n      <td>packaged produce</td>\n    </tr>\n    <tr>\n      <th>2019500</th>\n      <td>458285</td>\n      <td>128787</td>\n      <td>42</td>\n      <td>produce</td>\n      <td>123</td>\n      <td>packaged vegetables fruits</td>\n    </tr>\n  </tbody>\n</table>\n<p>2019501 rows × 6 columns</p>\n</div>"
     },
     "execution_count": 5,
     "metadata": {},
     "output_type": "execute_result"
    }
   ],
   "source": [
    "df = df[['order_id', 'user_id', 'order_number', 'department', 'product_id', 'product_name']]\n",
    "df"
   ],
   "metadata": {
    "collapsed": false,
    "ExecuteTime": {
     "end_time": "2024-03-08T14:51:18.651773800Z",
     "start_time": "2024-03-08T14:51:18.541775200Z"
    }
   },
   "id": "fab6c733ee4bdd38",
   "execution_count": 5
  },
  {
   "cell_type": "code",
   "outputs": [
    {
     "data": {
      "text/plain": "array(['baking ingredients', 'soy lactosefree', 'butter',\n       'fresh vegetables', 'yogurt', 'canned meals beans',\n       'poultry counter', 'ice cream ice', 'fresh fruits', 'milk',\n       'packaged cheese', 'bread', 'tea', 'bakery desserts',\n       'frozen breakfast', 'cereal', 'eggs', 'buns rolls', 'cream',\n       'water seltzer sparkling water', 'pickled goods olives',\n       'packaged poultry', 'other creams cheeses',\n       'honeys syrups nectars', 'coffee', 'refrigerated',\n       'energy granola bars', 'soft drinks', 'latino foods',\n       'plates bowls cups flatware', 'paper goods', 'oral hygiene',\n       'diapers wipes', 'food storage', 'nuts seeds dried fruit', 'soap',\n       'packaged vegetables fruits', 'hot dogs bacon sausage',\n       'lunch meat', 'chips pretzels', 'meat counter',\n       'fresh dips tapenades', 'prepared soups salads', 'condiments',\n       'juice nectars', 'canned fruit applesauce',\n       'preserved dips spreads', 'packaged produce',\n       'canned jarred vegetables', 'fresh pasta', 'pasta sauce',\n       'frozen produce', 'frozen appetizers sides', 'soup broth bouillon',\n       'dry pasta', 'prepared meals', 'fresh herbs',\n       'hot cereal pancake mixes', 'spices seasonings',\n       'grains rice dried goods', 'frozen breads doughs', 'missing',\n       'popcorn jerky', 'granola', 'muscles joints pain relief',\n       'energy sports drinks', 'crackers', 'candy chocolate',\n       'fruit vegetable snacks', 'tortillas flat bread',\n       'tofu meat alternatives', 'beers coolers', 'laundry',\n       'asian foods', 'frozen meat seafood', 'frozen meals', 'spreads',\n       'mint gum', 'cold flu allergy', 'breakfast bakery',\n       'trail mix snack mix', 'air fresheners candles', 'feminine care',\n       'breakfast bars pastries', 'instant foods', 'spirits',\n       'salad dressing toppings', 'doughs gelatins bake mixes',\n       'oils vinegars', 'baby food formula', 'eye ear care',\n       'dog food care', 'baby accessories', 'frozen pizza',\n       'marinades meat preparation', 'frozen vegan vegetarian',\n       'shave needs', 'specialty wines champagnes', 'cookies cakes',\n       'cleaning products', 'packaged seafood',\n       'bulk grains rice dried goods', 'frozen dessert', 'skin care',\n       'deodorants', 'white wines', 'protein meal replacements',\n       'canned meat seafood', 'digestion', 'trash bags liners',\n       'refrigerated pudding desserts', 'specialty cheeses',\n       'bulk dried fruits vegetables', 'red wines', 'body lotions soap',\n       'hair care', 'vitamins supplements', 'cocoa drink mixes',\n       'first aid', 'dish detergents', 'packaged meat', 'other',\n       'cat food care', 'indian foods', 'baking supplies decor',\n       'seafood counter', 'ice cream toppings', 'baby bath body care',\n       'more household', 'kosher foods', 'facial care',\n       'kitchen supplies', 'beauty', 'frozen juice'], dtype=object)"
     },
     "execution_count": 6,
     "metadata": {},
     "output_type": "execute_result"
    }
   ],
   "source": [
    "df['product_name'].unique()"
   ],
   "metadata": {
    "collapsed": false,
    "ExecuteTime": {
     "end_time": "2024-03-08T14:51:18.782774200Z",
     "start_time": "2024-03-08T14:51:18.604773700Z"
    }
   },
   "id": "2055f36c25e13cbf",
   "execution_count": 6
  },
  {
   "cell_type": "code",
   "outputs": [
    {
     "data": {
      "text/plain": "array(['pantry', 'dairy eggs', 'produce', 'canned goods', 'meat seafood',\n       'frozen', 'bakery', 'beverages', 'breakfast', 'snacks',\n       'international', 'household', 'personal care', 'babies', 'deli',\n       'dry goods pasta', 'missing', 'alcohol', 'pets', 'bulk', 'other'],\n      dtype=object)"
     },
     "execution_count": 7,
     "metadata": {},
     "output_type": "execute_result"
    }
   ],
   "source": [
    "df['department'].unique()"
   ],
   "metadata": {
    "collapsed": false,
    "ExecuteTime": {
     "end_time": "2024-03-08T14:51:18.860780900Z",
     "start_time": "2024-03-08T14:51:18.728774Z"
    }
   },
   "id": "e32ee11b215632f9",
   "execution_count": 7
  },
  {
   "cell_type": "code",
   "outputs": [
    {
     "data": {
      "text/plain": "[17,\n 91,\n 36,\n 83,\n 120,\n 59,\n 35,\n 37,\n 24,\n 84,\n 21,\n 112,\n 94,\n 8,\n 52,\n 121,\n 86,\n 43,\n 53,\n 115,\n 110,\n 49,\n 108,\n 29,\n 26,\n 31,\n 3,\n 77,\n 30,\n 111,\n 54,\n 20,\n 56,\n 85,\n 117,\n 25,\n 123,\n 106,\n 96,\n 107,\n 122,\n 67,\n 1,\n 72,\n 98,\n 99,\n 51,\n 32,\n 81,\n 12,\n 9,\n 116,\n 129,\n 69,\n 131,\n 13,\n 16,\n 130,\n 104,\n 63,\n 58,\n 100,\n 23,\n 57,\n 133,\n 64,\n 78,\n 45,\n 50,\n 128,\n 14,\n 27,\n 75,\n 66,\n 34,\n 38,\n 88,\n 46,\n 11,\n 93,\n 125,\n 101,\n 126,\n 48,\n 4,\n 124,\n 89,\n 105,\n 19,\n 92,\n 44,\n 40,\n 82,\n 79,\n 5,\n 42,\n 55,\n 134,\n 61,\n 114,\n 15,\n 68,\n 119,\n 109,\n 80,\n 62,\n 65,\n 95,\n 70,\n 60,\n 71,\n 2,\n 18,\n 28,\n 127,\n 22,\n 47,\n 90,\n 118,\n 74,\n 7,\n 6,\n 41,\n 76,\n 97,\n 39,\n 103,\n 102,\n 87,\n 33,\n 73,\n 10,\n 132,\n 113]"
     },
     "execution_count": 8,
     "metadata": {},
     "output_type": "execute_result"
    }
   ],
   "source": [
    "item_list = df['product_id'].unique().tolist()\n",
    "item_list"
   ],
   "metadata": {
    "collapsed": false,
    "ExecuteTime": {
     "end_time": "2024-03-08T14:51:18.904773500Z",
     "start_time": "2024-03-08T14:51:18.837775Z"
    }
   },
   "id": "8123c5d36443dbd0",
   "execution_count": 8
  },
  {
   "cell_type": "code",
   "outputs": [],
   "source": [
    "# return tuple {orderId, list(str(items_ids))} for single check\n",
    "def get_order_items(order_id):\n",
    "    return order_id, list(map(str, df[df['order_id'] == order_id]['product_id'].tolist()))"
   ],
   "metadata": {
    "collapsed": false,
    "ExecuteTime": {
     "end_time": "2024-03-08T14:51:18.924773200Z",
     "start_time": "2024-03-08T14:51:18.870775400Z"
    }
   },
   "id": "89473fbcbc4d5c2e",
   "execution_count": 9
  },
  {
   "cell_type": "code",
   "outputs": [
    {
     "data": {
      "text/plain": "  0%|          | 0/2000 [00:00<?, ?it/s]",
      "application/vnd.jupyter.widget-view+json": {
       "version_major": 2,
       "version_minor": 0,
       "model_id": "7886cd78d24e4632ab06ab455dd34dd9"
      }
     },
     "metadata": {},
     "output_type": "display_data"
    }
   ],
   "source": [
    "check_ids = df['order_id'].unique().tolist()\n",
    "check_list = []\n",
    "for check_id in tqdm(check_ids[:2000]):\n",
    "    check_list.append(get_order_items(check_id))"
   ],
   "metadata": {
    "collapsed": false,
    "ExecuteTime": {
     "end_time": "2024-03-08T14:51:23.727847100Z",
     "start_time": "2024-03-08T14:51:18.885773500Z"
    }
   },
   "id": "4ca54cba919f4dc8",
   "execution_count": 10
  },
  {
   "cell_type": "markdown",
   "source": [
    "# Layout functions"
   ],
   "metadata": {
    "collapsed": false
   },
   "id": "bbadd52c3edbc716"
  },
  {
   "cell_type": "code",
   "outputs": [],
   "source": [
    "def random_layout():\n",
    "    layout = Layout('./../data/layout 18x25_6.json')\n",
    "    layout.set_item_list(df['product_id'].unique().tolist())\n",
    "    for row in range(layout.shape[0]):\n",
    "        for col in range(layout.shape[1]):\n",
    "            if layout[row][col].type.name == 'RACK':\n",
    "                for lev in range(layout.get_max_rack_level()):\n",
    "                    layout.set_item_to_rack(random.choice(layout.get_item_list()), (row, col), level=lev)\n",
    "    return layout"
   ],
   "metadata": {
    "collapsed": false,
    "ExecuteTime": {
     "end_time": "2024-03-08T14:51:23.754804700Z",
     "start_time": "2024-03-08T14:51:23.729797900Z"
    }
   },
   "id": "2d2d7585f5ff4841",
   "execution_count": 11
  },
  {
   "cell_type": "code",
   "outputs": [],
   "source": [
    "layout = Layout('./../data/layout 18x25_6.json').get_empty_rack_layout()\n",
    "items = df['product_id'].unique().tolist()\n",
    "str_item = [str(i) for i in items]\n",
    "layout.set_item_list(str_item)"
   ],
   "metadata": {
    "collapsed": false,
    "ExecuteTime": {
     "end_time": "2024-03-08T14:51:23.780797100Z",
     "start_time": "2024-03-08T14:51:23.743798Z"
    }
   },
   "id": "f7ad6fe3a8099a97",
   "execution_count": 12
  },
  {
   "cell_type": "markdown",
   "source": [
    "# NEAT functions"
   ],
   "metadata": {
    "collapsed": false
   },
   "id": "c2472c0072e8574f"
  },
  {
   "cell_type": "code",
   "outputs": [],
   "source": [
    "import neat"
   ],
   "metadata": {
    "collapsed": false,
    "ExecuteTime": {
     "end_time": "2024-03-08T14:51:23.792797300Z",
     "start_time": "2024-03-08T14:51:23.773798400Z"
    }
   },
   "id": "2fd577c15d704eae",
   "execution_count": 13
  },
  {
   "cell_type": "markdown",
   "source": [],
   "metadata": {
    "collapsed": false
   },
   "id": "c1663dad8bb4f608"
  },
  {
   "cell_type": "code",
   "outputs": [],
   "source": [
    "def create_input_for_genome(layout, i, j, level):\n",
    "    def tile_enum_to_int(tile):\n",
    "        if tile.type.value == 'wall':\n",
    "            return 0\n",
    "        if tile.type.value == 'floor':\n",
    "            return 1\n",
    "        if tile.type.value == 'rack':\n",
    "            return 2\n",
    "        if tile.type.value == 'door':\n",
    "            return 3\n",
    "        if tile.type.value == 'cashier':\n",
    "            return 4\n",
    "        return 0\n",
    "    \n",
    "    def convert_items_to_int(items):\n",
    "        ids = []\n",
    "        if len(items) == 0:\n",
    "            return [(-1, -1), (-1, -1), (-1, -1), (-1, -1)]\n",
    "        for item in items:\n",
    "            if item[0] == '':\n",
    "                ids.append((-1, 0))\n",
    "            else:\n",
    "                ids.append((int(item[0]), int(item[1])))\n",
    "        return ids\n",
    "    \n",
    "    tile_info = get_tile_info(layout, i, j)\n",
    "    if tile_info is None:\n",
    "        return None\n",
    "    \n",
    "    left_products = convert_items_to_int(tile_info['left_products'])\n",
    "    right_products = convert_items_to_int(tile_info['right_products'])\n",
    "    \n",
    "    return [\n",
    "        level,\n",
    "        tile_info['dist_to_cashier'], \n",
    "        tile_info['dist_to_exit'], \n",
    "        tile_info['orientation'][0],\n",
    "        tile_info['orientation'][1],\n",
    "        left_products[0][0],\n",
    "        left_products[0][1],\n",
    "        left_products[1][0],\n",
    "        left_products[1][1],\n",
    "        left_products[2][0],\n",
    "        left_products[2][1],\n",
    "        left_products[3][0],\n",
    "        left_products[3][1],\n",
    "        right_products[0][0],\n",
    "        right_products[0][1],\n",
    "        right_products[1][0],\n",
    "        right_products[1][1],\n",
    "        right_products[2][0],\n",
    "        right_products[2][1],\n",
    "        right_products[3][0],\n",
    "        right_products[3][1],\n",
    "        tile_enum_to_int(layout[i-1][j]),\n",
    "        tile_enum_to_int(layout[i+1][j]),\n",
    "        tile_enum_to_int(layout[i][j-1]),\n",
    "        tile_enum_to_int(layout[i][j+1]),\n",
    "        tile_enum_to_int(layout[i-1][j-1]),\n",
    "        tile_enum_to_int(layout[i+1][j+1]),\n",
    "        tile_enum_to_int(layout[i-1][j+1]),\n",
    "        tile_enum_to_int(layout[i+1][j-1]),\n",
    "    ]"
   ],
   "metadata": {
    "collapsed": false,
    "ExecuteTime": {
     "end_time": "2024-03-08T14:51:23.817797Z",
     "start_time": "2024-03-08T14:51:23.792797300Z"
    }
   },
   "id": "5b1ab3674ccce016",
   "execution_count": 14
  },
  {
   "cell_type": "code",
   "outputs": [],
   "source": [
    "def eval_genomes(genomes, config):\n",
    "    _layout = layout.copy()\n",
    "    for genome_id, genome in genomes:\n",
    "        genome.fitness = 0\n",
    "        net = neat.nn.FeedForwardNetwork.create(genome, config)\n",
    "        for i in range(_layout.shape[0]):\n",
    "            for j in range(_layout.shape[1]):\n",
    "                for level in range(_layout.get_max_rack_level()):\n",
    "                    inputs = create_input_for_genome(_layout, i, j, level)\n",
    "                    if inputs is not None:\n",
    "                        output = net.activate(inputs)\n",
    "                        _layout.set_item_to_rack(str(np.argmax(output)+1), (i, j), level)\n",
    "        res_dict, processed_layout = thread_func(_layout, check_list[:SLICE_SIZE], use_item_count=True)\n",
    "        estimation = calculate_score(res_dict, processed_layout, check_list[:SLICE_SIZE], SCORE_COEFFICIENTS)\n",
    "        genome.fitness = estimation"
   ],
   "metadata": {
    "collapsed": false,
    "ExecuteTime": {
     "end_time": "2024-03-08T14:51:23.819798900Z",
     "start_time": "2024-03-08T14:51:23.805796900Z"
    }
   },
   "id": "eeb6467dd4f2760c",
   "execution_count": 15
  },
  {
   "cell_type": "code",
   "outputs": [],
   "source": [
    "def eval_genome(genome, config):\n",
    "    _layout = layout.copy()\n",
    "    genome.fitness = 0\n",
    "    net = neat.nn.FeedForwardNetwork.create(genome, config)\n",
    "    for i in range(_layout.shape[0]):\n",
    "        for j in range(_layout.shape[1]):\n",
    "            for level in range(_layout.get_max_rack_level()):\n",
    "                inputs = create_input_for_genome(_layout, i, j, level)\n",
    "                if inputs is not None:\n",
    "                    output = net.activate(inputs)\n",
    "                    _layout.set_item_to_rack(str(np.argmax(output)+1), (i, j), level)\n",
    "    res_dict, processed_layout = thread_func(_layout, check_list[:SLICE_SIZE], use_item_count=True)\n",
    "    estimation = calculate_score(res_dict, processed_layout, check_list[:SLICE_SIZE], SCORE_COEFFICIENTS)\n",
    "    return estimation"
   ],
   "metadata": {
    "collapsed": false,
    "ExecuteTime": {
     "end_time": "2024-03-08T14:51:23.842803900Z",
     "start_time": "2024-03-08T14:51:23.822800100Z"
    }
   },
   "id": "191f9bb36595af44",
   "execution_count": 16
  },
  {
   "cell_type": "code",
   "outputs": [],
   "source": [
    "best = None"
   ],
   "metadata": {
    "collapsed": false,
    "ExecuteTime": {
     "end_time": "2024-03-08T14:51:23.854798800Z",
     "start_time": "2024-03-08T14:51:23.835798Z"
    }
   },
   "id": "e9786ac7c35c0f9a",
   "execution_count": 17
  },
  {
   "cell_type": "code",
   "outputs": [],
   "source": [
    "def run(config_file):\n",
    "    # Load configuration.\n",
    "    config = neat.Config(neat.DefaultGenome, neat.DefaultReproduction,\n",
    "                         neat.DefaultSpeciesSet, neat.DefaultStagnation,\n",
    "                         config_file)\n",
    "\n",
    "    # Create the population, which is the top-level object for a NEAT run.\n",
    "    p = neat.Population(config)\n",
    "\n",
    "    # Add a stdout reporter to show progress in the terminal.\n",
    "    p.add_reporter(neat.StdOutReporter(True))\n",
    "    stats = neat.StatisticsReporter()\n",
    "    p.add_reporter(stats)\n",
    "    p.add_reporter(neat.Checkpointer(5))\n",
    "    \n",
    "    #pe = ParallelEvaluator(MAX_WORKERS, eval_genome)\n",
    "\n",
    "    # Run for up to 300 generations.\n",
    "    winner = p.run(eval_genomes, EPOCHS)\n",
    "    global best \n",
    "    best = winner\n"
   ],
   "metadata": {
    "collapsed": false,
    "ExecuteTime": {
     "end_time": "2024-03-08T14:51:23.873803700Z",
     "start_time": "2024-03-08T14:51:23.852798400Z"
    }
   },
   "id": "7359753715abbd3e",
   "execution_count": 18
  },
  {
   "cell_type": "code",
   "outputs": [],
   "source": [
    "config_file = './neat_config.cfg'"
   ],
   "metadata": {
    "collapsed": false,
    "ExecuteTime": {
     "end_time": "2024-03-08T14:51:23.887796900Z",
     "start_time": "2024-03-08T14:51:23.866798200Z"
    }
   },
   "id": "5fba9cbe136ce073",
   "execution_count": 19
  },
  {
   "cell_type": "markdown",
   "source": [
    "# Run NEAT"
   ],
   "metadata": {
    "collapsed": false
   },
   "id": "29a0c1cb4e8a15"
  },
  {
   "cell_type": "code",
   "outputs": [
    {
     "name": "stdout",
     "output_type": "stream",
     "text": [
      "\n",
      " ****** Running generation 0 ****** \n"
     ]
    }
   ],
   "source": [
    "if __name__ == '__main__':\n",
    "    run(config_file)"
   ],
   "metadata": {
    "collapsed": false,
    "is_executing": true,
    "ExecuteTime": {
     "start_time": "2024-03-06T18:40:00.006728700Z"
    }
   },
   "id": "d9fc7a3c0589220e",
   "execution_count": null
  },
  {
   "cell_type": "code",
   "outputs": [
    {
     "name": "stdout",
     "output_type": "stream",
     "text": [
      "Mean genetic distance 2.017, standard deviation 0.213\n"
     ]
    }
   ],
   "source": [
    "# load state from checkpoint 99\n",
    "p = neat.Checkpointer.restore_checkpoint('neat-checkpoint-99')\n",
    "\n",
    "# get the winner\n",
    "best = p.run(eval_genomes, 1)\n"
   ],
   "metadata": {
    "collapsed": false,
    "ExecuteTime": {
     "end_time": "2024-03-08T14:52:56.751989300Z",
     "start_time": "2024-03-08T14:51:23.882798600Z"
    }
   },
   "id": "6c61fbdce7308f40",
   "execution_count": 20
  },
  {
   "cell_type": "code",
   "outputs": [],
   "source": [
    "def generate_best_layout(layout, genome, config_file):\n",
    "    _layout = layout.copy()\n",
    "    config = neat.Config(neat.DefaultGenome, neat.DefaultReproduction,\n",
    "                         neat.DefaultSpeciesSet, neat.DefaultStagnation,\n",
    "                         config_file)\n",
    "    net = neat.nn.FeedForwardNetwork.create(genome, config)\n",
    "    for i in range(_layout.shape[0]):\n",
    "        for j in range(_layout.shape[1]):\n",
    "            for level in range(_layout.get_max_rack_level()):\n",
    "                inputs = create_input_for_genome(_layout, i, j, level)\n",
    "                if inputs is not None:\n",
    "                    output = net.activate(inputs)\n",
    "                    _layout.set_item_to_rack(str(np.argmax(output)+1), (i, j), level)\n",
    "    return _layout"
   ],
   "metadata": {
    "collapsed": false,
    "ExecuteTime": {
     "end_time": "2024-03-08T14:52:56.771976600Z",
     "start_time": "2024-03-08T14:52:56.754979900Z"
    }
   },
   "id": "c87cbcccd5aa7ab6",
   "execution_count": 21
  },
  {
   "cell_type": "code",
   "outputs": [
    {
     "ename": "AttributeError",
     "evalue": "'DefaultGenome' object has no attribute 'get_pruned_copy'",
     "output_type": "error",
     "traceback": [
      "\u001B[1;31m---------------------------------------------------------------------------\u001B[0m",
      "\u001B[1;31mAttributeError\u001B[0m                            Traceback (most recent call last)",
      "Cell \u001B[1;32mIn [22], line 1\u001B[0m\n\u001B[1;32m----> 1\u001B[0m best_layout \u001B[38;5;241m=\u001B[39m \u001B[43mgenerate_best_layout\u001B[49m\u001B[43m(\u001B[49m\u001B[43mlayout\u001B[49m\u001B[43m,\u001B[49m\u001B[43m \u001B[49m\u001B[43mbest\u001B[49m\u001B[43m,\u001B[49m\u001B[43m \u001B[49m\u001B[43mconfig_file\u001B[49m\u001B[43m)\u001B[49m\n",
      "Cell \u001B[1;32mIn [21], line 15\u001B[0m, in \u001B[0;36mgenerate_best_layout\u001B[1;34m(layout, genome, config_file)\u001B[0m\n\u001B[0;32m     13\u001B[0m                 _layout\u001B[38;5;241m.\u001B[39mset_item_to_rack(\u001B[38;5;28mstr\u001B[39m(np\u001B[38;5;241m.\u001B[39margmax(output)\u001B[38;5;241m+\u001B[39m\u001B[38;5;241m1\u001B[39m), (i, j), level)\n\u001B[0;32m     14\u001B[0m visualize\u001B[38;5;241m.\u001B[39mdraw_net(config, genome, \u001B[38;5;28;01mTrue\u001B[39;00m)\n\u001B[1;32m---> 15\u001B[0m \u001B[43mvisualize\u001B[49m\u001B[38;5;241;43m.\u001B[39;49m\u001B[43mdraw_net\u001B[49m\u001B[43m(\u001B[49m\u001B[43mconfig\u001B[49m\u001B[43m,\u001B[49m\u001B[43m \u001B[49m\u001B[43mgenome\u001B[49m\u001B[43m,\u001B[49m\u001B[43m \u001B[49m\u001B[38;5;28;43;01mTrue\u001B[39;49;00m\u001B[43m,\u001B[49m\u001B[43m \u001B[49m\u001B[43mprune_unused\u001B[49m\u001B[38;5;241;43m=\u001B[39;49m\u001B[38;5;28;43;01mTrue\u001B[39;49;00m\u001B[43m)\u001B[49m\n\u001B[0;32m     16\u001B[0m \u001B[38;5;28;01mreturn\u001B[39;00m _layout\n",
      "File \u001B[1;32mD:\\labs 2023 s1\\Store layout optimizator\\helpers\\visualize.py:123\u001B[0m, in \u001B[0;36mdraw_net\u001B[1;34m(config, genome, view, filename, node_names, show_disabled, prune_unused, node_colors, fmt)\u001B[0m\n\u001B[0;32m    121\u001B[0m \u001B[38;5;66;03m# If requested, use a copy of the genome which omits all components that won't affect the output.\u001B[39;00m\n\u001B[0;32m    122\u001B[0m \u001B[38;5;28;01mif\u001B[39;00m prune_unused:\n\u001B[1;32m--> 123\u001B[0m     genome \u001B[38;5;241m=\u001B[39m \u001B[43mgenome\u001B[49m\u001B[38;5;241;43m.\u001B[39;49m\u001B[43mget_pruned_copy\u001B[49m(config\u001B[38;5;241m.\u001B[39mgenome_config)\n\u001B[0;32m    125\u001B[0m \u001B[38;5;28;01mif\u001B[39;00m node_names \u001B[38;5;129;01mis\u001B[39;00m \u001B[38;5;28;01mNone\u001B[39;00m:\n\u001B[0;32m    126\u001B[0m     node_names \u001B[38;5;241m=\u001B[39m {}\n",
      "\u001B[1;31mAttributeError\u001B[0m: 'DefaultGenome' object has no attribute 'get_pruned_copy'"
     ]
    }
   ],
   "source": [
    "best_layout = generate_best_layout(layout, best, config_file)"
   ],
   "metadata": {
    "collapsed": false,
    "ExecuteTime": {
     "end_time": "2024-03-08T14:53:01.064006900Z",
     "start_time": "2024-03-08T14:52:56.766978300Z"
    }
   },
   "id": "708b3d76f926d9b2",
   "execution_count": 22
  },
  {
   "cell_type": "code",
   "outputs": [],
   "source": [
    "curr_dir = Path(os.getcwd()).parent\n",
    "best_layout.display_in_window(home_dir=str(curr_dir), debug=False)"
   ],
   "metadata": {
    "collapsed": false,
    "ExecuteTime": {
     "end_time": "2024-03-06T16:03:40.059519500Z",
     "start_time": "2024-03-06T16:03:36.284662200Z"
    }
   },
   "id": "cd7492253231b26c",
   "execution_count": 433
  },
  {
   "cell_type": "code",
   "outputs": [],
   "source": [
    "score, tested_layout = thread_func(best_layout, check_list, use_item_count=True)"
   ],
   "metadata": {
    "collapsed": false,
    "ExecuteTime": {
     "end_time": "2024-03-06T16:03:41.681198800Z",
     "start_time": "2024-03-06T16:03:40.097517300Z"
    }
   },
   "id": "59f25d385b77445e",
   "execution_count": 434
  },
  {
   "cell_type": "code",
   "outputs": [
    {
     "data": {
      "text/plain": "{'path': 18, 'invalid': 1999, 'rack_uniformity': 2, 'tile_uniformity': 5}"
     },
     "execution_count": 435,
     "metadata": {},
     "output_type": "execute_result"
    }
   ],
   "source": [
    "score"
   ],
   "metadata": {
    "collapsed": false,
    "ExecuteTime": {
     "end_time": "2024-03-06T16:03:41.682198900Z",
     "start_time": "2024-03-06T16:03:41.676200100Z"
    }
   },
   "id": "38149e1d6ce8a7cf",
   "execution_count": 435
  },
  {
   "cell_type": "code",
   "outputs": [
    {
     "data": {
      "text/plain": "751.6056338028169"
     },
     "execution_count": 436,
     "metadata": {},
     "output_type": "execute_result"
    }
   ],
   "source": [
    "calculated_score = calculate_score(score, tested_layout, check_list)\n",
    "calculated_score"
   ],
   "metadata": {
    "collapsed": false,
    "ExecuteTime": {
     "end_time": "2024-03-06T16:03:41.685207600Z",
     "start_time": "2024-03-06T16:03:41.681198800Z"
    }
   },
   "id": "5c05dc8f0cb6388",
   "execution_count": 436
  },
  {
   "cell_type": "code",
   "outputs": [],
   "source": [
    "tested_layout.display_in_window(home_dir=str(curr_dir), debug=False)"
   ],
   "metadata": {
    "collapsed": false,
    "ExecuteTime": {
     "end_time": "2024-03-06T16:04:20.020528Z",
     "start_time": "2024-03-06T16:03:41.689198600Z"
    }
   },
   "id": "a8209846c480028",
   "execution_count": 437
  }
 ],
 "metadata": {
  "kernelspec": {
   "display_name": "Python 3",
   "language": "python",
   "name": "python3"
  },
  "language_info": {
   "codemirror_mode": {
    "name": "ipython",
    "version": 2
   },
   "file_extension": ".py",
   "mimetype": "text/x-python",
   "name": "python",
   "nbconvert_exporter": "python",
   "pygments_lexer": "ipython2",
   "version": "2.7.6"
  }
 },
 "nbformat": 4,
 "nbformat_minor": 5
}
