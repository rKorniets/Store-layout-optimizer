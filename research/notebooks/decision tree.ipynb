{
 "cells": [
  {
   "cell_type": "code",
   "outputs": [],
   "source": [
    "import random\n",
    "import os\n",
    "\n",
    "import neat\n",
    "from neat import DistributedEvaluator, ParallelEvaluator\n",
    "from tqdm.notebook import tqdm, trange\n",
    "from pathlib import Path\n",
    "from random import randint\n",
    "from ui.python.Layout import Layout\n",
    "import numpy as np\n",
    "\n",
    "from helpers.estimation_helpers import *\n",
    "import helpers.visualize as visualize\n",
    "\n",
    "import pandas as pd"
   ],
   "metadata": {
    "collapsed": false,
    "ExecuteTime": {
     "end_time": "2024-04-24T19:34:07.163815300Z",
     "start_time": "2024-04-24T19:34:05.736221700Z"
    }
   },
   "id": "4f889f2d82463d94",
   "execution_count": 1
  },
  {
   "cell_type": "code",
   "outputs": [],
   "source": [
    "MAX_WORKERS = 10\n",
    "SLICE_SIZE = 400\n",
    "EPOCHS = 100\n",
    "SCORE_COEFFICIENTS = (500, 350, 150)\n",
    "layout = Layout('./../data/layouts/genetic/step1-max/layout_4_racks.json').reset_item_count().reset_path_count()\n",
    "item_list = None\n",
    "check_list = None\n",
    "check_ids = None\n",
    "df = None\n",
    "best = None\n",
    "str_item = None\n",
    "selected_categories = [\n",
    " 'bakery',\n",
    " 'beverages',\n",
    " 'breakfast',\n",
    " 'canned goods',\n",
    " 'dairy eggs',\n",
    " 'deli',\n",
    " 'dry goods pasta',\n",
    " 'frozen',\n",
    " 'household',\n",
    " 'meat seafood',\n",
    " 'pantry',\n",
    " 'produce',\n",
    " 'snacks']"
   ],
   "metadata": {
    "collapsed": false,
    "ExecuteTime": {
     "end_time": "2024-04-24T19:34:07.165806600Z",
     "start_time": "2024-04-24T19:34:07.064295100Z"
    }
   },
   "id": "4e736ea276fce4e0",
   "execution_count": 2
  },
  {
   "cell_type": "code",
   "outputs": [],
   "source": [
    "check_config = {\n",
    "    1: 15,\n",
    "    2: 25,\n",
    "    3: 30,\n",
    "    4: 30,\n",
    "    5: 35,\n",
    "    6: 30,\n",
    "    7: 25,\n",
    "}"
   ],
   "metadata": {
    "collapsed": false,
    "ExecuteTime": {
     "end_time": "2024-04-24T19:34:07.286805900Z",
     "start_time": "2024-04-24T19:34:07.127807900Z"
    }
   },
   "id": "da8b4cf7938035a8",
   "execution_count": 3
  },
  {
   "cell_type": "code",
   "outputs": [],
   "source": [
    "def get_order_items(order_id):\n",
    "    return order_id, list(map(str, df[df['order_id'] == order_id]['product_id'].tolist()))\n",
    "\n",
    "def create_input_for_genome(layout, i, j, level):\n",
    "    def tile_enum_to_int(tile):\n",
    "        if tile.type.value == 'wall':\n",
    "            return 0\n",
    "        if tile.type.value == 'floor':\n",
    "            return 1\n",
    "        if tile.type.value == 'rack':\n",
    "            return 2\n",
    "        if tile.type.value == 'door':\n",
    "            return 3\n",
    "        if tile.type.value == 'cashier':\n",
    "            return 4\n",
    "        return 0\n",
    "\n",
    "    def convert_items_to_int(items):\n",
    "        ids = []\n",
    "        if len(items) == 0:\n",
    "            return [(-1, -1), (-1, -1), (-1, -1), (-1, -1)]\n",
    "        for item in items:\n",
    "            if item[0] == '':\n",
    "                ids.append((-1, 0))\n",
    "            else:\n",
    "                ids.append((int(item[0]), int(item[1])))\n",
    "        return ids\n",
    "\n",
    "    tile_info = get_tile_info(layout, i, j)\n",
    "    if tile_info is None:\n",
    "        return None\n",
    "\n",
    "    left_products = convert_items_to_int(tile_info['left_products'])\n",
    "    right_products = convert_items_to_int(tile_info['right_products'])\n",
    "\n",
    "    return [\n",
    "        level,\n",
    "        tile_info['dist_to_cashier'],\n",
    "        tile_info['dist_to_exit'],\n",
    "        tile_info['orientation'][0],\n",
    "        tile_info['orientation'][1],\n",
    "        left_products[0][0],\n",
    "        left_products[0][1],\n",
    "        left_products[1][0],\n",
    "        left_products[1][1],\n",
    "        left_products[2][0],\n",
    "        left_products[2][1],\n",
    "        left_products[3][0],\n",
    "        left_products[3][1],\n",
    "        right_products[0][0],\n",
    "        right_products[0][1],\n",
    "        right_products[1][0],\n",
    "        right_products[1][1],\n",
    "        right_products[2][0],\n",
    "        right_products[2][1],\n",
    "        right_products[3][0],\n",
    "        right_products[3][1],\n",
    "        tile_enum_to_int(layout[i - 1][j]),\n",
    "        tile_enum_to_int(layout[i + 1][j]),\n",
    "        tile_enum_to_int(layout[i][j - 1]),\n",
    "        tile_enum_to_int(layout[i][j + 1]),\n",
    "        tile_enum_to_int(layout[i - 1][j - 1]),\n",
    "        tile_enum_to_int(layout[i + 1][j + 1]),\n",
    "        tile_enum_to_int(layout[i - 1][j + 1]),\n",
    "        tile_enum_to_int(layout[i + 1][j - 1]),\n",
    "    ]\n"
   ],
   "metadata": {
    "collapsed": false,
    "ExecuteTime": {
     "end_time": "2024-04-24T19:34:07.298808Z",
     "start_time": "2024-04-24T19:34:07.135807600Z"
    }
   },
   "id": "520cfdc9642824ec",
   "execution_count": 4
  },
  {
   "cell_type": "code",
   "outputs": [],
   "source": [
    "def random_layout(items_list):\n",
    "    layout = Layout('./../data/layout 18x25_6.json')\n",
    "    layout.set_item_list(items_list)\n",
    "    for row in range(layout.shape[0]):\n",
    "        for col in range(layout.shape[1]):\n",
    "            if layout[row][col].type.name == 'RACK':\n",
    "                for lev in range(layout.get_max_rack_level()):\n",
    "                    layout.set_item_to_rack(random.choice(layout.get_item_list()), (row, col), level=lev)\n",
    "    return layout"
   ],
   "metadata": {
    "collapsed": false,
    "ExecuteTime": {
     "end_time": "2024-04-24T19:34:07.301806400Z",
     "start_time": "2024-04-24T19:34:07.145807600Z"
    }
   },
   "id": "f6639d5d32bd45e0",
   "execution_count": 5
  },
  {
   "cell_type": "code",
   "outputs": [
    {
     "data": {
      "text/plain": "  0%|          | 0/10000 [00:00<?, ?it/s]",
      "application/vnd.jupyter.widget-view+json": {
       "version_major": 2,
       "version_minor": 0,
       "model_id": "82c7c64637b4438daed420aa034b031b"
      }
     },
     "metadata": {},
     "output_type": "display_data"
    },
    {
     "data": {
      "text/plain": "  0%|          | 0/7 [00:00<?, ?it/s]",
      "application/vnd.jupyter.widget-view+json": {
       "version_major": 2,
       "version_minor": 0,
       "model_id": "273f1739adf34de0b451770970130b6a"
      }
     },
     "metadata": {},
     "output_type": "display_data"
    }
   ],
   "source": [
    "df = pd.read_csv('./../data/datasets/ECommerce_consumer behaviour.csv')\n",
    "df = df[['order_id', 'user_id', 'order_number', 'department', 'product_id', 'product_name']]\n",
    "check_list = []\n",
    "\n",
    "df = df[df['department'].isin(selected_categories)]\n",
    "\n",
    "\n",
    "def get_order_items(order_id):\n",
    "    order = df[df['order_id'] == order_id]\n",
    "    is_in_category = order['department'].apply(lambda x: x in selected_categories)\n",
    "    return order_id, order[is_in_category]['product_name'].unique().tolist()\\\n",
    "\n",
    "# Create check list\n",
    "check_ids = df['order_id'].unique().tolist()\n",
    "check_list = []\n",
    "for check_id in tqdm(check_ids[:10000]):\n",
    "    check = get_order_items(check_id)\n",
    "    check_list.append(check)\n",
    "\n",
    "def get_checks_of_specific_length(check_list, length):\n",
    "    return [x for x in check_list if len(x[1]) == length]\n",
    "\n",
    "def get_checks_of_specific_length_range(check_list, range_dict):\n",
    "    # range dict: length - n_of_checks\n",
    "    res = []\n",
    "    for key in tqdm(range_dict.keys()):\n",
    "        res += get_checks_of_specific_length(check_list, key)[:range_dict[key]]\n",
    "    return res\n",
    "\n",
    "tuned_checks = get_checks_of_specific_length_range(check_list, check_config)\n",
    "\n",
    "# convert tuned checks item names to item ids\n",
    "check_list = []\n",
    "name_id_df = df[['product_name', 'product_id']].drop_duplicates()\n",
    "# ids are not sequential numbers, so we need to map them to sequential numbers\n",
    "name_id_df['product_id_norm'] = range(1, len(name_id_df) + 1)\n",
    "for check in tuned_checks:\n",
    "    check_list.append((check[0], [str(name_id_df[name_id_df['product_name'] == x]['product_id_norm'].values[0]) for x in check[1]]))\n",
    "\n",
    "#convert layout items to item ids\n",
    "str_items = name_id_df['product_id_norm'].unique().tolist()\n",
    "str_items = [str(x) for x in str_items]\n",
    "layout.set_item_list(str_items, reset_items=False)\n",
    "for i in range(layout.shape[0]):\n",
    "    for j in range(layout.shape[1]):\n",
    "        if layout[i][j].type.name == 'RACK':\n",
    "            items = layout[i][j].items\n",
    "            for level in range(layout.get_max_rack_level()):\n",
    "                item = items[level]\n",
    "                new_item = name_id_df[name_id_df['product_name'] == item[0]]['product_id_norm'].values[0]\n",
    "                layout.set_item_to_rack(str(new_item), (i, j), level=level)\n",
    "layout = random_layout(str_items)\n",
    "best = None"
   ],
   "metadata": {
    "collapsed": false,
    "ExecuteTime": {
     "end_time": "2024-04-24T19:34:33.881237700Z",
     "start_time": "2024-04-24T19:34:07.152807300Z"
    }
   },
   "id": "8d1ea4bc0a52b21d",
   "execution_count": 6
  },
  {
   "cell_type": "markdown",
   "source": [
    "# Data preparation"
   ],
   "metadata": {
    "collapsed": false
   },
   "id": "cd536f56532aab64"
  },
  {
   "cell_type": "markdown",
   "source": [
    "idea - take a layout, generate all possible changes for every rack, evaluate them and feed it to decision tree: state-action as X, reward diff as Y"
   ],
   "metadata": {
    "collapsed": false
   },
   "id": "d840887ae8fa6738"
  },
  {
   "cell_type": "code",
   "outputs": [],
   "source": [
    "data = {\n",
    "    \"state\": [],\n",
    "    \"action\": [],\n",
    "    \"reward\": [], \n",
    "    \"info\": []\n",
    "}"
   ],
   "metadata": {
    "collapsed": false,
    "ExecuteTime": {
     "end_time": "2024-04-24T19:34:33.884238800Z",
     "start_time": "2024-04-24T19:34:33.808202600Z"
    }
   },
   "id": "10b64a1dc278aa7c",
   "execution_count": 7
  },
  {
   "cell_type": "code",
   "outputs": [],
   "source": [
    "curr_info, _ = thread_func(layout, check_list)\n",
    "current_reward = calculate_score(curr_info, layout, check_list, SCORE_COEFFICIENTS)"
   ],
   "metadata": {
    "collapsed": false,
    "ExecuteTime": {
     "end_time": "2024-04-24T19:34:34.202812800Z",
     "start_time": "2024-04-24T19:34:33.814204400Z"
    }
   },
   "id": "d74e5a55a6fb3a24",
   "execution_count": 8
  },
  {
   "cell_type": "code",
   "outputs": [
    {
     "data": {
      "text/plain": "<ui.python.Layout.Layout at 0x7f5c3a0b4880>"
     },
     "execution_count": 9,
     "metadata": {},
     "output_type": "execute_result"
    }
   ],
   "source": [
    "layout.reset_item_count()\n",
    "layout.reset_path_count()"
   ],
   "metadata": {
    "collapsed": false,
    "ExecuteTime": {
     "end_time": "2024-04-24T19:34:34.205815300Z",
     "start_time": "2024-04-24T19:34:34.047755500Z"
    }
   },
   "id": "89da390d5ef80ac9",
   "execution_count": 9
  },
  {
   "cell_type": "code",
   "outputs": [],
   "source": [
    "_, layout = thread_func(layout, check_list)"
   ],
   "metadata": {
    "collapsed": false,
    "ExecuteTime": {
     "end_time": "2024-04-24T19:34:34.404352600Z",
     "start_time": "2024-04-24T19:34:34.092262600Z"
    }
   },
   "id": "3d382a85fbb3c729",
   "execution_count": 10
  },
  {
   "cell_type": "code",
   "outputs": [
    {
     "data": {
      "text/plain": "  0%|          | 0/18 [00:00<?, ?it/s]",
      "application/vnd.jupyter.widget-view+json": {
       "version_major": 2,
       "version_minor": 0,
       "model_id": "acfb3592fa4e4606a45e2d14d3e13691"
      }
     },
     "metadata": {},
     "output_type": "display_data"
    },
    {
     "data": {
      "text/plain": "  0%|          | 0/25 [00:00<?, ?it/s]",
      "application/vnd.jupyter.widget-view+json": {
       "version_major": 2,
       "version_minor": 0,
       "model_id": "28941be747c14f3d99497cf8105f27e8"
      }
     },
     "metadata": {},
     "output_type": "display_data"
    },
    {
     "data": {
      "text/plain": "  0%|          | 0/25 [00:00<?, ?it/s]",
      "application/vnd.jupyter.widget-view+json": {
       "version_major": 2,
       "version_minor": 0,
       "model_id": "09f38e10351b49e58676382bc8655ef8"
      }
     },
     "metadata": {},
     "output_type": "display_data"
    },
    {
     "ename": "KeyboardInterrupt",
     "evalue": "",
     "output_type": "error",
     "traceback": [
      "\u001B[0;31m---------------------------------------------------------------------------\u001B[0m",
      "\u001B[0;31mKeyboardInterrupt\u001B[0m                         Traceback (most recent call last)",
      "Cell \u001B[0;32mIn[11], line 19\u001B[0m\n\u001B[1;32m     17\u001B[0m     data[\u001B[38;5;124m'\u001B[39m\u001B[38;5;124mstate\u001B[39m\u001B[38;5;124m'\u001B[39m]\u001B[38;5;241m.\u001B[39mappend(input_data)\n\u001B[1;32m     18\u001B[0m \u001B[38;5;28;01mfor\u001B[39;00m future \u001B[38;5;129;01min\u001B[39;00m futures:\n\u001B[0;32m---> 19\u001B[0m     new_info, _ \u001B[38;5;241m=\u001B[39m \u001B[43mfuture\u001B[49m\u001B[38;5;241;43m.\u001B[39;49m\u001B[43mresult\u001B[49m\u001B[43m(\u001B[49m\u001B[43m)\u001B[49m\n\u001B[1;32m     20\u001B[0m     new_reward \u001B[38;5;241m=\u001B[39m calculate_score(new_info, l, check_list, SCORE_COEFFICIENTS)\n\u001B[1;32m     21\u001B[0m     data[\u001B[38;5;124m'\u001B[39m\u001B[38;5;124mreward\u001B[39m\u001B[38;5;124m'\u001B[39m]\u001B[38;5;241m.\u001B[39mappend(new_reward \u001B[38;5;241m-\u001B[39m current_reward)\n",
      "File \u001B[0;32m/usr/lib/python3.10/concurrent/futures/_base.py:453\u001B[0m, in \u001B[0;36mFuture.result\u001B[0;34m(self, timeout)\u001B[0m\n\u001B[1;32m    450\u001B[0m \u001B[38;5;28;01melif\u001B[39;00m \u001B[38;5;28mself\u001B[39m\u001B[38;5;241m.\u001B[39m_state \u001B[38;5;241m==\u001B[39m FINISHED:\n\u001B[1;32m    451\u001B[0m     \u001B[38;5;28;01mreturn\u001B[39;00m \u001B[38;5;28mself\u001B[39m\u001B[38;5;241m.\u001B[39m__get_result()\n\u001B[0;32m--> 453\u001B[0m \u001B[38;5;28;43mself\u001B[39;49m\u001B[38;5;241;43m.\u001B[39;49m\u001B[43m_condition\u001B[49m\u001B[38;5;241;43m.\u001B[39;49m\u001B[43mwait\u001B[49m\u001B[43m(\u001B[49m\u001B[43mtimeout\u001B[49m\u001B[43m)\u001B[49m\n\u001B[1;32m    455\u001B[0m \u001B[38;5;28;01mif\u001B[39;00m \u001B[38;5;28mself\u001B[39m\u001B[38;5;241m.\u001B[39m_state \u001B[38;5;129;01min\u001B[39;00m [CANCELLED, CANCELLED_AND_NOTIFIED]:\n\u001B[1;32m    456\u001B[0m     \u001B[38;5;28;01mraise\u001B[39;00m CancelledError()\n",
      "File \u001B[0;32m/usr/lib/python3.10/threading.py:320\u001B[0m, in \u001B[0;36mCondition.wait\u001B[0;34m(self, timeout)\u001B[0m\n\u001B[1;32m    318\u001B[0m \u001B[38;5;28;01mtry\u001B[39;00m:    \u001B[38;5;66;03m# restore state no matter what (e.g., KeyboardInterrupt)\u001B[39;00m\n\u001B[1;32m    319\u001B[0m     \u001B[38;5;28;01mif\u001B[39;00m timeout \u001B[38;5;129;01mis\u001B[39;00m \u001B[38;5;28;01mNone\u001B[39;00m:\n\u001B[0;32m--> 320\u001B[0m         \u001B[43mwaiter\u001B[49m\u001B[38;5;241;43m.\u001B[39;49m\u001B[43macquire\u001B[49m\u001B[43m(\u001B[49m\u001B[43m)\u001B[49m\n\u001B[1;32m    321\u001B[0m         gotit \u001B[38;5;241m=\u001B[39m \u001B[38;5;28;01mTrue\u001B[39;00m\n\u001B[1;32m    322\u001B[0m     \u001B[38;5;28;01melse\u001B[39;00m:\n",
      "\u001B[0;31mKeyboardInterrupt\u001B[0m: "
     ]
    }
   ],
   "source": [
    "from concurrent.futures import ProcessPoolExecutor\n",
    "\n",
    "for i in trange(layout.shape[0]):\n",
    "    for j in trange(layout.shape[1]):\n",
    "        if layout[i][j].type.name == 'RACK':\n",
    "            for level in range(layout.get_max_rack_level()):\n",
    "                input_data = create_input_for_genome(layout, i, j, level)\n",
    "                if input_data is None:\n",
    "                    continue\n",
    "                futures = []\n",
    "                with ProcessPoolExecutor(max_workers=MAX_WORKERS) as executor:\n",
    "                    for item in str_items:\n",
    "                        l = layout.copy()\n",
    "                        l.set_item_to_rack(item, (i, j), level=level)\n",
    "                        futures.append(executor.submit(thread_func, l, check_list))\n",
    "                        data['action'].append(item)\n",
    "                        data['state'].append(input_data)\n",
    "                    for future in futures:\n",
    "                        new_info, _ = future.result()\n",
    "                        new_reward = calculate_score(new_info, l, check_list, SCORE_COEFFICIENTS)\n",
    "                        data['reward'].append(new_reward - current_reward)\n",
    "                        data['info'].append(new_info)"
   ],
   "metadata": {
    "collapsed": false,
    "ExecuteTime": {
     "end_time": "2024-04-20T19:05:58.789306300Z",
     "start_time": "2024-04-20T19:05:40.181673100Z"
    }
   },
   "id": "708a03561b182789",
   "execution_count": 11
  },
  {
   "cell_type": "code",
   "outputs": [
    {
     "name": "stdout",
     "output_type": "stream",
     "text": [
      "state 0\n",
      "action 0\n",
      "reward 0\n",
      "info 0\n"
     ]
    }
   ],
   "source": [
    "for k in data.keys():\n",
    "    print(k, len(data[k]))"
   ],
   "metadata": {
    "collapsed": false,
    "ExecuteTime": {
     "end_time": "2024-04-24T19:34:34.406355700Z",
     "start_time": "2024-04-24T19:34:34.306323100Z"
    }
   },
   "id": "72e454fc6fab74a5",
   "execution_count": 11
  },
  {
   "cell_type": "code",
   "outputs": [],
   "source": [
    "# save data to file\n",
    "import pickle"
   ],
   "metadata": {
    "collapsed": false,
    "ExecuteTime": {
     "end_time": "2024-04-24T19:34:34.408353300Z",
     "start_time": "2024-04-24T19:34:34.315325700Z"
    }
   },
   "id": "31334dd06fead022",
   "execution_count": 12
  },
  {
   "cell_type": "code",
   "outputs": [],
   "source": [
    "#with open('./../data/datasets/data.pkl', 'wb') as f:\n",
    "#    pickle.dump(data, f)"
   ],
   "metadata": {
    "collapsed": false,
    "ExecuteTime": {
     "start_time": "2024-04-20T19:05:58.795494700Z"
    }
   },
   "id": "7b649e4a2bd84da1",
   "execution_count": null
  },
  {
   "cell_type": "code",
   "outputs": [],
   "source": [
    "# load data from file\n",
    "with open('./../data/datasets/data1.pkl', 'rb') as f:\n",
    "    data = pickle.load(f)"
   ],
   "metadata": {
    "collapsed": false,
    "ExecuteTime": {
     "end_time": "2024-04-24T19:38:31.133765400Z",
     "start_time": "2024-04-24T19:38:30.766221Z"
    }
   },
   "id": "19e140abd644f69b",
   "execution_count": 39
  },
  {
   "cell_type": "code",
   "outputs": [
    {
     "data": {
      "text/plain": "                                                   state action    reward  \\\n0      [0, 18, 28, 1, 0, -1, -1, -1, -1, -1, -1, -1, ...      1  0.000000   \n1      [0, 18, 28, 1, 0, -1, -1, -1, -1, -1, -1, -1, ...      2  0.000000   \n2      [0, 18, 28, 1, 0, -1, -1, -1, -1, -1, -1, -1, ...      3 -0.264085   \n3      [0, 18, 28, 1, 0, -1, -1, -1, -1, -1, -1, -1, ...      4  0.000000   \n4      [0, 18, 28, 1, 0, -1, -1, -1, -1, -1, -1, -1, ...      5  0.000000   \n...                                                  ...    ...       ...   \n55659  [3, 19, 11, -1, 0, -1, -1, -1, -1, -1, -1, -1,...     94  0.880282   \n55660  [3, 19, 11, -1, 0, -1, -1, -1, -1, -1, -1, -1,...     95  0.880282   \n55661  [3, 19, 11, -1, 0, -1, -1, -1, -1, -1, -1, -1,...     96  0.880282   \n55662  [3, 19, 11, -1, 0, -1, -1, -1, -1, -1, -1, -1,...     97  0.880282   \n55663  [3, 19, 11, -1, 0, -1, -1, -1, -1, -1, -1, -1,...     98  0.880282   \n\n                                                    info  \n0      {'missing_items': [], 'path': 11338, 'invalid'...  \n1      {'missing_items': [], 'path': 11182, 'invalid'...  \n2      {'missing_items': [], 'path': 11320, 'invalid'...  \n3      {'missing_items': [], 'path': 11476, 'invalid'...  \n4      {'missing_items': [], 'path': 11346, 'invalid'...  \n...                                                  ...  \n55659  {'missing_items': [], 'path': 11075, 'invalid'...  \n55660  {'missing_items': [], 'path': 11194, 'invalid'...  \n55661  {'missing_items': [], 'path': 11149, 'invalid'...  \n55662  {'missing_items': [], 'path': 11124, 'invalid'...  \n55663  {'missing_items': [], 'path': 11125, 'invalid'...  \n\n[55664 rows x 4 columns]",
      "text/html": "<div>\n<style scoped>\n    .dataframe tbody tr th:only-of-type {\n        vertical-align: middle;\n    }\n\n    .dataframe tbody tr th {\n        vertical-align: top;\n    }\n\n    .dataframe thead th {\n        text-align: right;\n    }\n</style>\n<table border=\"1\" class=\"dataframe\">\n  <thead>\n    <tr style=\"text-align: right;\">\n      <th></th>\n      <th>state</th>\n      <th>action</th>\n      <th>reward</th>\n      <th>info</th>\n    </tr>\n  </thead>\n  <tbody>\n    <tr>\n      <th>0</th>\n      <td>[0, 18, 28, 1, 0, -1, -1, -1, -1, -1, -1, -1, ...</td>\n      <td>1</td>\n      <td>0.000000</td>\n      <td>{'missing_items': [], 'path': 11338, 'invalid'...</td>\n    </tr>\n    <tr>\n      <th>1</th>\n      <td>[0, 18, 28, 1, 0, -1, -1, -1, -1, -1, -1, -1, ...</td>\n      <td>2</td>\n      <td>0.000000</td>\n      <td>{'missing_items': [], 'path': 11182, 'invalid'...</td>\n    </tr>\n    <tr>\n      <th>2</th>\n      <td>[0, 18, 28, 1, 0, -1, -1, -1, -1, -1, -1, -1, ...</td>\n      <td>3</td>\n      <td>-0.264085</td>\n      <td>{'missing_items': [], 'path': 11320, 'invalid'...</td>\n    </tr>\n    <tr>\n      <th>3</th>\n      <td>[0, 18, 28, 1, 0, -1, -1, -1, -1, -1, -1, -1, ...</td>\n      <td>4</td>\n      <td>0.000000</td>\n      <td>{'missing_items': [], 'path': 11476, 'invalid'...</td>\n    </tr>\n    <tr>\n      <th>4</th>\n      <td>[0, 18, 28, 1, 0, -1, -1, -1, -1, -1, -1, -1, ...</td>\n      <td>5</td>\n      <td>0.000000</td>\n      <td>{'missing_items': [], 'path': 11346, 'invalid'...</td>\n    </tr>\n    <tr>\n      <th>...</th>\n      <td>...</td>\n      <td>...</td>\n      <td>...</td>\n      <td>...</td>\n    </tr>\n    <tr>\n      <th>55659</th>\n      <td>[3, 19, 11, -1, 0, -1, -1, -1, -1, -1, -1, -1,...</td>\n      <td>94</td>\n      <td>0.880282</td>\n      <td>{'missing_items': [], 'path': 11075, 'invalid'...</td>\n    </tr>\n    <tr>\n      <th>55660</th>\n      <td>[3, 19, 11, -1, 0, -1, -1, -1, -1, -1, -1, -1,...</td>\n      <td>95</td>\n      <td>0.880282</td>\n      <td>{'missing_items': [], 'path': 11194, 'invalid'...</td>\n    </tr>\n    <tr>\n      <th>55661</th>\n      <td>[3, 19, 11, -1, 0, -1, -1, -1, -1, -1, -1, -1,...</td>\n      <td>96</td>\n      <td>0.880282</td>\n      <td>{'missing_items': [], 'path': 11149, 'invalid'...</td>\n    </tr>\n    <tr>\n      <th>55662</th>\n      <td>[3, 19, 11, -1, 0, -1, -1, -1, -1, -1, -1, -1,...</td>\n      <td>97</td>\n      <td>0.880282</td>\n      <td>{'missing_items': [], 'path': 11124, 'invalid'...</td>\n    </tr>\n    <tr>\n      <th>55663</th>\n      <td>[3, 19, 11, -1, 0, -1, -1, -1, -1, -1, -1, -1,...</td>\n      <td>98</td>\n      <td>0.880282</td>\n      <td>{'missing_items': [], 'path': 11125, 'invalid'...</td>\n    </tr>\n  </tbody>\n</table>\n<p>55664 rows × 4 columns</p>\n</div>"
     },
     "execution_count": 40,
     "metadata": {},
     "output_type": "execute_result"
    }
   ],
   "source": [
    "data_df = pd.DataFrame(data)\n",
    "data_df"
   ],
   "metadata": {
    "collapsed": false,
    "ExecuteTime": {
     "end_time": "2024-04-24T19:38:31.137765200Z",
     "start_time": "2024-04-24T19:38:31.037460Z"
    }
   },
   "id": "e748f3f3e419ff80",
   "execution_count": 40
  },
  {
   "cell_type": "code",
   "outputs": [],
   "source": [
    "from sklearn.preprocessing import OneHotEncoder\n",
    "\n",
    "#split state ito separate columns\n",
    "state_df = pd.DataFrame(data_df['state'].tolist(), columns=['level', 'dist_to_cashier', 'dist_to_exit', 'orientation_x', 'orientation_y', 'left_product_1_id', 'left_product_1_count', 'left_product_2_id', 'left_product_2_count', 'left_product_3_id', 'left_product_3_count', 'left_product_4_id', 'left_product_4_count', 'right_product_1_id', 'right_product_1_count', 'right_product_2_id', 'right_product_2_count', 'right_product_3_id', 'right_product_3_count', 'right_product_4_id', 'right_product_4_count', 'tile_up', 'tile_down', 'tile_left', 'tile_right', 'tile_up_left', 'tile_down_right', 'tile_up_right', 'tile_down_left'])\n",
    "# join 2 dfs\n",
    "data_df = data_df.drop('state', axis=1)\n",
    "data_df = data_df.join(state_df)"
   ],
   "metadata": {
    "collapsed": false,
    "ExecuteTime": {
     "end_time": "2024-04-24T19:38:31.430802300Z",
     "start_time": "2024-04-24T19:38:31.115768300Z"
    }
   },
   "id": "b3c7c6f4c076cd9c",
   "execution_count": 41
  },
  {
   "cell_type": "code",
   "outputs": [
    {
     "data": {
      "text/plain": "      action    reward                                               info  \\\n0          1  0.000000  {'missing_items': [], 'path': 11338, 'invalid'...   \n1          2  0.000000  {'missing_items': [], 'path': 11182, 'invalid'...   \n2          3 -0.264085  {'missing_items': [], 'path': 11320, 'invalid'...   \n3          4  0.000000  {'missing_items': [], 'path': 11476, 'invalid'...   \n4          5  0.000000  {'missing_items': [], 'path': 11346, 'invalid'...   \n...      ...       ...                                                ...   \n55659     94  0.880282  {'missing_items': [], 'path': 11075, 'invalid'...   \n55660     95  0.880282  {'missing_items': [], 'path': 11194, 'invalid'...   \n55661     96  0.880282  {'missing_items': [], 'path': 11149, 'invalid'...   \n55662     97  0.880282  {'missing_items': [], 'path': 11124, 'invalid'...   \n55663     98  0.880282  {'missing_items': [], 'path': 11125, 'invalid'...   \n\n       level  dist_to_cashier  dist_to_exit  orientation_x  orientation_y  \\\n0          0               18            28              1              0   \n1          0               18            28              1              0   \n2          0               18            28              1              0   \n3          0               18            28              1              0   \n4          0               18            28              1              0   \n...      ...              ...           ...            ...            ...   \n55659      3               19            11             -1              0   \n55660      3               19            11             -1              0   \n55661      3               19            11             -1              0   \n55662      3               19            11             -1              0   \n55663      3               19            11             -1              0   \n\n       left_product_1_id  left_product_1_count  ...  right_product_4_id  \\\n0                     -1                    -1  ...                  19   \n1                     -1                    -1  ...                  19   \n2                     -1                    -1  ...                  19   \n3                     -1                    -1  ...                  19   \n4                     -1                    -1  ...                  19   \n...                  ...                   ...  ...                 ...   \n55659                 -1                    -1  ...                   1   \n55660                 -1                    -1  ...                   1   \n55661                 -1                    -1  ...                   1   \n55662                 -1                    -1  ...                   1   \n55663                 -1                    -1  ...                   1   \n\n       right_product_4_count  tile_up  tile_down  tile_left  tile_right  \\\n0                         10        0          1          0           2   \n1                         10        0          1          0           2   \n2                         10        0          1          0           2   \n3                         10        0          1          0           2   \n4                         10        0          1          0           2   \n...                      ...      ...        ...        ...         ...   \n55659                     10        1          0          2           0   \n55660                     10        1          0          2           0   \n55661                     10        1          0          2           0   \n55662                     10        1          0          2           0   \n55663                     10        1          0          2           0   \n\n       tile_up_left  tile_down_right  tile_up_right  tile_down_left  \n0                 0                1              0               2  \n1                 0                1              0               2  \n2                 0                1              0               2  \n3                 0                1              0               2  \n4                 0                1              0               2  \n...             ...              ...            ...             ...  \n55659             1                0              2               0  \n55660             1                0              2               0  \n55661             1                0              2               0  \n55662             1                0              2               0  \n55663             1                0              2               0  \n\n[55664 rows x 32 columns]",
      "text/html": "<div>\n<style scoped>\n    .dataframe tbody tr th:only-of-type {\n        vertical-align: middle;\n    }\n\n    .dataframe tbody tr th {\n        vertical-align: top;\n    }\n\n    .dataframe thead th {\n        text-align: right;\n    }\n</style>\n<table border=\"1\" class=\"dataframe\">\n  <thead>\n    <tr style=\"text-align: right;\">\n      <th></th>\n      <th>action</th>\n      <th>reward</th>\n      <th>info</th>\n      <th>level</th>\n      <th>dist_to_cashier</th>\n      <th>dist_to_exit</th>\n      <th>orientation_x</th>\n      <th>orientation_y</th>\n      <th>left_product_1_id</th>\n      <th>left_product_1_count</th>\n      <th>...</th>\n      <th>right_product_4_id</th>\n      <th>right_product_4_count</th>\n      <th>tile_up</th>\n      <th>tile_down</th>\n      <th>tile_left</th>\n      <th>tile_right</th>\n      <th>tile_up_left</th>\n      <th>tile_down_right</th>\n      <th>tile_up_right</th>\n      <th>tile_down_left</th>\n    </tr>\n  </thead>\n  <tbody>\n    <tr>\n      <th>0</th>\n      <td>1</td>\n      <td>0.000000</td>\n      <td>{'missing_items': [], 'path': 11338, 'invalid'...</td>\n      <td>0</td>\n      <td>18</td>\n      <td>28</td>\n      <td>1</td>\n      <td>0</td>\n      <td>-1</td>\n      <td>-1</td>\n      <td>...</td>\n      <td>19</td>\n      <td>10</td>\n      <td>0</td>\n      <td>1</td>\n      <td>0</td>\n      <td>2</td>\n      <td>0</td>\n      <td>1</td>\n      <td>0</td>\n      <td>2</td>\n    </tr>\n    <tr>\n      <th>1</th>\n      <td>2</td>\n      <td>0.000000</td>\n      <td>{'missing_items': [], 'path': 11182, 'invalid'...</td>\n      <td>0</td>\n      <td>18</td>\n      <td>28</td>\n      <td>1</td>\n      <td>0</td>\n      <td>-1</td>\n      <td>-1</td>\n      <td>...</td>\n      <td>19</td>\n      <td>10</td>\n      <td>0</td>\n      <td>1</td>\n      <td>0</td>\n      <td>2</td>\n      <td>0</td>\n      <td>1</td>\n      <td>0</td>\n      <td>2</td>\n    </tr>\n    <tr>\n      <th>2</th>\n      <td>3</td>\n      <td>-0.264085</td>\n      <td>{'missing_items': [], 'path': 11320, 'invalid'...</td>\n      <td>0</td>\n      <td>18</td>\n      <td>28</td>\n      <td>1</td>\n      <td>0</td>\n      <td>-1</td>\n      <td>-1</td>\n      <td>...</td>\n      <td>19</td>\n      <td>10</td>\n      <td>0</td>\n      <td>1</td>\n      <td>0</td>\n      <td>2</td>\n      <td>0</td>\n      <td>1</td>\n      <td>0</td>\n      <td>2</td>\n    </tr>\n    <tr>\n      <th>3</th>\n      <td>4</td>\n      <td>0.000000</td>\n      <td>{'missing_items': [], 'path': 11476, 'invalid'...</td>\n      <td>0</td>\n      <td>18</td>\n      <td>28</td>\n      <td>1</td>\n      <td>0</td>\n      <td>-1</td>\n      <td>-1</td>\n      <td>...</td>\n      <td>19</td>\n      <td>10</td>\n      <td>0</td>\n      <td>1</td>\n      <td>0</td>\n      <td>2</td>\n      <td>0</td>\n      <td>1</td>\n      <td>0</td>\n      <td>2</td>\n    </tr>\n    <tr>\n      <th>4</th>\n      <td>5</td>\n      <td>0.000000</td>\n      <td>{'missing_items': [], 'path': 11346, 'invalid'...</td>\n      <td>0</td>\n      <td>18</td>\n      <td>28</td>\n      <td>1</td>\n      <td>0</td>\n      <td>-1</td>\n      <td>-1</td>\n      <td>...</td>\n      <td>19</td>\n      <td>10</td>\n      <td>0</td>\n      <td>1</td>\n      <td>0</td>\n      <td>2</td>\n      <td>0</td>\n      <td>1</td>\n      <td>0</td>\n      <td>2</td>\n    </tr>\n    <tr>\n      <th>...</th>\n      <td>...</td>\n      <td>...</td>\n      <td>...</td>\n      <td>...</td>\n      <td>...</td>\n      <td>...</td>\n      <td>...</td>\n      <td>...</td>\n      <td>...</td>\n      <td>...</td>\n      <td>...</td>\n      <td>...</td>\n      <td>...</td>\n      <td>...</td>\n      <td>...</td>\n      <td>...</td>\n      <td>...</td>\n      <td>...</td>\n      <td>...</td>\n      <td>...</td>\n      <td>...</td>\n    </tr>\n    <tr>\n      <th>55659</th>\n      <td>94</td>\n      <td>0.880282</td>\n      <td>{'missing_items': [], 'path': 11075, 'invalid'...</td>\n      <td>3</td>\n      <td>19</td>\n      <td>11</td>\n      <td>-1</td>\n      <td>0</td>\n      <td>-1</td>\n      <td>-1</td>\n      <td>...</td>\n      <td>1</td>\n      <td>10</td>\n      <td>1</td>\n      <td>0</td>\n      <td>2</td>\n      <td>0</td>\n      <td>1</td>\n      <td>0</td>\n      <td>2</td>\n      <td>0</td>\n    </tr>\n    <tr>\n      <th>55660</th>\n      <td>95</td>\n      <td>0.880282</td>\n      <td>{'missing_items': [], 'path': 11194, 'invalid'...</td>\n      <td>3</td>\n      <td>19</td>\n      <td>11</td>\n      <td>-1</td>\n      <td>0</td>\n      <td>-1</td>\n      <td>-1</td>\n      <td>...</td>\n      <td>1</td>\n      <td>10</td>\n      <td>1</td>\n      <td>0</td>\n      <td>2</td>\n      <td>0</td>\n      <td>1</td>\n      <td>0</td>\n      <td>2</td>\n      <td>0</td>\n    </tr>\n    <tr>\n      <th>55661</th>\n      <td>96</td>\n      <td>0.880282</td>\n      <td>{'missing_items': [], 'path': 11149, 'invalid'...</td>\n      <td>3</td>\n      <td>19</td>\n      <td>11</td>\n      <td>-1</td>\n      <td>0</td>\n      <td>-1</td>\n      <td>-1</td>\n      <td>...</td>\n      <td>1</td>\n      <td>10</td>\n      <td>1</td>\n      <td>0</td>\n      <td>2</td>\n      <td>0</td>\n      <td>1</td>\n      <td>0</td>\n      <td>2</td>\n      <td>0</td>\n    </tr>\n    <tr>\n      <th>55662</th>\n      <td>97</td>\n      <td>0.880282</td>\n      <td>{'missing_items': [], 'path': 11124, 'invalid'...</td>\n      <td>3</td>\n      <td>19</td>\n      <td>11</td>\n      <td>-1</td>\n      <td>0</td>\n      <td>-1</td>\n      <td>-1</td>\n      <td>...</td>\n      <td>1</td>\n      <td>10</td>\n      <td>1</td>\n      <td>0</td>\n      <td>2</td>\n      <td>0</td>\n      <td>1</td>\n      <td>0</td>\n      <td>2</td>\n      <td>0</td>\n    </tr>\n    <tr>\n      <th>55663</th>\n      <td>98</td>\n      <td>0.880282</td>\n      <td>{'missing_items': [], 'path': 11125, 'invalid'...</td>\n      <td>3</td>\n      <td>19</td>\n      <td>11</td>\n      <td>-1</td>\n      <td>0</td>\n      <td>-1</td>\n      <td>-1</td>\n      <td>...</td>\n      <td>1</td>\n      <td>10</td>\n      <td>1</td>\n      <td>0</td>\n      <td>2</td>\n      <td>0</td>\n      <td>1</td>\n      <td>0</td>\n      <td>2</td>\n      <td>0</td>\n    </tr>\n  </tbody>\n</table>\n<p>55664 rows × 32 columns</p>\n</div>"
     },
     "execution_count": 42,
     "metadata": {},
     "output_type": "execute_result"
    }
   ],
   "source": [
    "data_df"
   ],
   "metadata": {
    "collapsed": false,
    "ExecuteTime": {
     "end_time": "2024-04-24T19:38:31.445810200Z",
     "start_time": "2024-04-24T19:38:31.308805300Z"
    }
   },
   "id": "e6ec93204c826b2c",
   "execution_count": 42
  },
  {
   "cell_type": "code",
   "outputs": [],
   "source": [
    "oneHotEncoder = OneHotEncoder()\n",
    "\n",
    "def encode_data(data_df, encoder):\n",
    "    encoded_df = data_df.copy()\n",
    "    # encode all item columns\n",
    "    encoded_df = pd.concat([encoded_df, pd.DataFrame(encoder.fit_transform(encoded_df[['left_product_1_id', 'left_product_2_id', 'left_product_3_id', 'left_product_4_id', 'right_product_1_id', 'right_product_2_id', 'right_product_3_id', 'right_product_4_id', 'action']]).toarray())], axis=1)\n",
    "    \n",
    "    # drop original item columns\n",
    "    encoded_df = encoded_df.drop(['left_product_1_id', 'left_product_2_id', 'left_product_3_id', 'left_product_4_id', 'right_product_1_id', 'right_product_2_id', 'right_product_3_id', 'right_product_4_id', 'action', 'info'], axis=1)\n",
    "    \n",
    "    #drop cols with item count\n",
    "    encoded_df = encoded_df.drop(['left_product_1_count', 'left_product_2_count', 'left_product_3_count', 'left_product_4_count', 'right_product_1_count', 'right_product_2_count', 'right_product_3_count', 'right_product_4_count'], axis=1)\n",
    "    \n",
    "    return encoded_df\n",
    "\n",
    "encoded_df = encode_data(data_df, oneHotEncoder)"
   ],
   "metadata": {
    "collapsed": false
   },
   "id": "14fab01b522b6614",
   "execution_count": 43
  },
  {
   "cell_type": "code",
   "outputs": [
    {
     "data": {
      "text/plain": "         reward  level  dist_to_cashier  dist_to_exit  orientation_x  \\\n0      0.000000      0               18            28              1   \n1      0.000000      0               18            28              1   \n2     -0.264085      0               18            28              1   \n3      0.000000      0               18            28              1   \n4      0.000000      0               18            28              1   \n...         ...    ...              ...           ...            ...   \n55659  0.880282      3               19            11             -1   \n55660  0.880282      3               19            11             -1   \n55661  0.880282      3               19            11             -1   \n55662  0.880282      3               19            11             -1   \n55663  0.880282      3               19            11             -1   \n\n       orientation_y  tile_up  tile_down  tile_left  tile_right  ...  548  \\\n0                  0        0          1          0           2  ...  0.0   \n1                  0        0          1          0           2  ...  0.0   \n2                  0        0          1          0           2  ...  0.0   \n3                  0        0          1          0           2  ...  0.0   \n4                  0        0          1          0           2  ...  0.0   \n...              ...      ...        ...        ...         ...  ...  ...   \n55659              0        1          0          2           0  ...  0.0   \n55660              0        1          0          2           0  ...  0.0   \n55661              0        1          0          2           0  ...  0.0   \n55662              0        1          0          2           0  ...  0.0   \n55663              0        1          0          2           0  ...  0.0   \n\n       549  550  551  552  553  554  555  556  557  \n0      0.0  0.0  0.0  0.0  0.0  0.0  0.0  0.0  0.0  \n1      0.0  0.0  0.0  0.0  0.0  0.0  0.0  0.0  0.0  \n2      0.0  0.0  0.0  0.0  0.0  0.0  0.0  0.0  0.0  \n3      0.0  0.0  0.0  0.0  0.0  0.0  0.0  0.0  0.0  \n4      0.0  0.0  0.0  0.0  0.0  0.0  0.0  0.0  0.0  \n...    ...  ...  ...  ...  ...  ...  ...  ...  ...  \n55659  0.0  0.0  0.0  0.0  1.0  0.0  0.0  0.0  0.0  \n55660  0.0  0.0  0.0  0.0  0.0  1.0  0.0  0.0  0.0  \n55661  0.0  0.0  0.0  0.0  0.0  0.0  1.0  0.0  0.0  \n55662  0.0  0.0  0.0  0.0  0.0  0.0  0.0  1.0  0.0  \n55663  0.0  0.0  0.0  0.0  0.0  0.0  0.0  0.0  1.0  \n\n[55664 rows x 572 columns]",
      "text/html": "<div>\n<style scoped>\n    .dataframe tbody tr th:only-of-type {\n        vertical-align: middle;\n    }\n\n    .dataframe tbody tr th {\n        vertical-align: top;\n    }\n\n    .dataframe thead th {\n        text-align: right;\n    }\n</style>\n<table border=\"1\" class=\"dataframe\">\n  <thead>\n    <tr style=\"text-align: right;\">\n      <th></th>\n      <th>reward</th>\n      <th>level</th>\n      <th>dist_to_cashier</th>\n      <th>dist_to_exit</th>\n      <th>orientation_x</th>\n      <th>orientation_y</th>\n      <th>tile_up</th>\n      <th>tile_down</th>\n      <th>tile_left</th>\n      <th>tile_right</th>\n      <th>...</th>\n      <th>548</th>\n      <th>549</th>\n      <th>550</th>\n      <th>551</th>\n      <th>552</th>\n      <th>553</th>\n      <th>554</th>\n      <th>555</th>\n      <th>556</th>\n      <th>557</th>\n    </tr>\n  </thead>\n  <tbody>\n    <tr>\n      <th>0</th>\n      <td>0.000000</td>\n      <td>0</td>\n      <td>18</td>\n      <td>28</td>\n      <td>1</td>\n      <td>0</td>\n      <td>0</td>\n      <td>1</td>\n      <td>0</td>\n      <td>2</td>\n      <td>...</td>\n      <td>0.0</td>\n      <td>0.0</td>\n      <td>0.0</td>\n      <td>0.0</td>\n      <td>0.0</td>\n      <td>0.0</td>\n      <td>0.0</td>\n      <td>0.0</td>\n      <td>0.0</td>\n      <td>0.0</td>\n    </tr>\n    <tr>\n      <th>1</th>\n      <td>0.000000</td>\n      <td>0</td>\n      <td>18</td>\n      <td>28</td>\n      <td>1</td>\n      <td>0</td>\n      <td>0</td>\n      <td>1</td>\n      <td>0</td>\n      <td>2</td>\n      <td>...</td>\n      <td>0.0</td>\n      <td>0.0</td>\n      <td>0.0</td>\n      <td>0.0</td>\n      <td>0.0</td>\n      <td>0.0</td>\n      <td>0.0</td>\n      <td>0.0</td>\n      <td>0.0</td>\n      <td>0.0</td>\n    </tr>\n    <tr>\n      <th>2</th>\n      <td>-0.264085</td>\n      <td>0</td>\n      <td>18</td>\n      <td>28</td>\n      <td>1</td>\n      <td>0</td>\n      <td>0</td>\n      <td>1</td>\n      <td>0</td>\n      <td>2</td>\n      <td>...</td>\n      <td>0.0</td>\n      <td>0.0</td>\n      <td>0.0</td>\n      <td>0.0</td>\n      <td>0.0</td>\n      <td>0.0</td>\n      <td>0.0</td>\n      <td>0.0</td>\n      <td>0.0</td>\n      <td>0.0</td>\n    </tr>\n    <tr>\n      <th>3</th>\n      <td>0.000000</td>\n      <td>0</td>\n      <td>18</td>\n      <td>28</td>\n      <td>1</td>\n      <td>0</td>\n      <td>0</td>\n      <td>1</td>\n      <td>0</td>\n      <td>2</td>\n      <td>...</td>\n      <td>0.0</td>\n      <td>0.0</td>\n      <td>0.0</td>\n      <td>0.0</td>\n      <td>0.0</td>\n      <td>0.0</td>\n      <td>0.0</td>\n      <td>0.0</td>\n      <td>0.0</td>\n      <td>0.0</td>\n    </tr>\n    <tr>\n      <th>4</th>\n      <td>0.000000</td>\n      <td>0</td>\n      <td>18</td>\n      <td>28</td>\n      <td>1</td>\n      <td>0</td>\n      <td>0</td>\n      <td>1</td>\n      <td>0</td>\n      <td>2</td>\n      <td>...</td>\n      <td>0.0</td>\n      <td>0.0</td>\n      <td>0.0</td>\n      <td>0.0</td>\n      <td>0.0</td>\n      <td>0.0</td>\n      <td>0.0</td>\n      <td>0.0</td>\n      <td>0.0</td>\n      <td>0.0</td>\n    </tr>\n    <tr>\n      <th>...</th>\n      <td>...</td>\n      <td>...</td>\n      <td>...</td>\n      <td>...</td>\n      <td>...</td>\n      <td>...</td>\n      <td>...</td>\n      <td>...</td>\n      <td>...</td>\n      <td>...</td>\n      <td>...</td>\n      <td>...</td>\n      <td>...</td>\n      <td>...</td>\n      <td>...</td>\n      <td>...</td>\n      <td>...</td>\n      <td>...</td>\n      <td>...</td>\n      <td>...</td>\n      <td>...</td>\n    </tr>\n    <tr>\n      <th>55659</th>\n      <td>0.880282</td>\n      <td>3</td>\n      <td>19</td>\n      <td>11</td>\n      <td>-1</td>\n      <td>0</td>\n      <td>1</td>\n      <td>0</td>\n      <td>2</td>\n      <td>0</td>\n      <td>...</td>\n      <td>0.0</td>\n      <td>0.0</td>\n      <td>0.0</td>\n      <td>0.0</td>\n      <td>0.0</td>\n      <td>1.0</td>\n      <td>0.0</td>\n      <td>0.0</td>\n      <td>0.0</td>\n      <td>0.0</td>\n    </tr>\n    <tr>\n      <th>55660</th>\n      <td>0.880282</td>\n      <td>3</td>\n      <td>19</td>\n      <td>11</td>\n      <td>-1</td>\n      <td>0</td>\n      <td>1</td>\n      <td>0</td>\n      <td>2</td>\n      <td>0</td>\n      <td>...</td>\n      <td>0.0</td>\n      <td>0.0</td>\n      <td>0.0</td>\n      <td>0.0</td>\n      <td>0.0</td>\n      <td>0.0</td>\n      <td>1.0</td>\n      <td>0.0</td>\n      <td>0.0</td>\n      <td>0.0</td>\n    </tr>\n    <tr>\n      <th>55661</th>\n      <td>0.880282</td>\n      <td>3</td>\n      <td>19</td>\n      <td>11</td>\n      <td>-1</td>\n      <td>0</td>\n      <td>1</td>\n      <td>0</td>\n      <td>2</td>\n      <td>0</td>\n      <td>...</td>\n      <td>0.0</td>\n      <td>0.0</td>\n      <td>0.0</td>\n      <td>0.0</td>\n      <td>0.0</td>\n      <td>0.0</td>\n      <td>0.0</td>\n      <td>1.0</td>\n      <td>0.0</td>\n      <td>0.0</td>\n    </tr>\n    <tr>\n      <th>55662</th>\n      <td>0.880282</td>\n      <td>3</td>\n      <td>19</td>\n      <td>11</td>\n      <td>-1</td>\n      <td>0</td>\n      <td>1</td>\n      <td>0</td>\n      <td>2</td>\n      <td>0</td>\n      <td>...</td>\n      <td>0.0</td>\n      <td>0.0</td>\n      <td>0.0</td>\n      <td>0.0</td>\n      <td>0.0</td>\n      <td>0.0</td>\n      <td>0.0</td>\n      <td>0.0</td>\n      <td>1.0</td>\n      <td>0.0</td>\n    </tr>\n    <tr>\n      <th>55663</th>\n      <td>0.880282</td>\n      <td>3</td>\n      <td>19</td>\n      <td>11</td>\n      <td>-1</td>\n      <td>0</td>\n      <td>1</td>\n      <td>0</td>\n      <td>2</td>\n      <td>0</td>\n      <td>...</td>\n      <td>0.0</td>\n      <td>0.0</td>\n      <td>0.0</td>\n      <td>0.0</td>\n      <td>0.0</td>\n      <td>0.0</td>\n      <td>0.0</td>\n      <td>0.0</td>\n      <td>0.0</td>\n      <td>1.0</td>\n    </tr>\n  </tbody>\n</table>\n<p>55664 rows × 572 columns</p>\n</div>"
     },
     "execution_count": 44,
     "metadata": {},
     "output_type": "execute_result"
    }
   ],
   "source": [
    "encoded_df"
   ],
   "metadata": {
    "collapsed": false,
    "ExecuteTime": {
     "end_time": "2024-04-24T19:38:32.391359Z",
     "start_time": "2024-04-24T19:38:31.996525100Z"
    }
   },
   "id": "848196b6fb2ed712",
   "execution_count": 44
  },
  {
   "cell_type": "code",
   "outputs": [],
   "source": [
    "from sklearn.utils import shuffle\n",
    "data_df = shuffle(encoded_df)"
   ],
   "metadata": {
    "collapsed": false,
    "ExecuteTime": {
     "end_time": "2024-04-24T19:38:32.604388Z",
     "start_time": "2024-04-24T19:38:32.368363200Z"
    }
   },
   "id": "fba2f38698fd49b4",
   "execution_count": 45
  },
  {
   "cell_type": "code",
   "outputs": [
    {
     "data": {
      "text/plain": "         reward  level  dist_to_cashier  dist_to_exit  orientation_x  \\\n18    -0.264085      0               18            28              1   \n9257   0.000000      2               23            17             -1   \n8508   0.616197      2               19            19             -1   \n43200  0.264085      0               13             7              0   \n4596   0.616197      2               23            19              1   \n...         ...    ...              ...           ...            ...   \n27542  0.264085      1               10            16              0   \n38351  0.616197      3                7            17              0   \n2979   0.264085      2               19            21              1   \n21561  0.000000      0               15            15              0   \n27120  0.000000      0               11            17              0   \n\n       orientation_y  tile_up  tile_down  tile_left  tile_right  ...  548  \\\n18                 0        0          1          0           2  ...  0.0   \n9257               0        1          2          2           1  ...  0.0   \n8508               0        1          2          2           1  ...  0.0   \n43200              1        2          2          2           1  ...  0.0   \n4596               0        0          1          2           2  ...  0.0   \n...              ...      ...        ...        ...         ...  ...  ...   \n27542             -1        2          2          1           2  ...  0.0   \n38351             -1        2          2          1           2  ...  0.0   \n2979               0        0          1          2           2  ...  0.0   \n21561              1        2          2          2           1  ...  0.0   \n27120              1        2          2          2           1  ...  0.0   \n\n       549  550  551  552  553  554  555  556  557  \n18     0.0  0.0  0.0  0.0  0.0  0.0  0.0  0.0  0.0  \n9257   0.0  0.0  0.0  0.0  0.0  0.0  0.0  0.0  0.0  \n8508   0.0  0.0  0.0  0.0  0.0  0.0  0.0  0.0  0.0  \n43200  0.0  0.0  0.0  0.0  0.0  0.0  0.0  0.0  0.0  \n4596   0.0  0.0  0.0  0.0  0.0  0.0  0.0  0.0  0.0  \n...    ...  ...  ...  ...  ...  ...  ...  ...  ...  \n27542  0.0  0.0  0.0  0.0  0.0  0.0  0.0  0.0  0.0  \n38351  0.0  0.0  0.0  0.0  0.0  0.0  0.0  0.0  0.0  \n2979   0.0  0.0  0.0  0.0  0.0  0.0  0.0  0.0  0.0  \n21561  0.0  0.0  0.0  0.0  0.0  0.0  0.0  0.0  0.0  \n27120  0.0  0.0  0.0  0.0  0.0  0.0  0.0  0.0  0.0  \n\n[55664 rows x 572 columns]",
      "text/html": "<div>\n<style scoped>\n    .dataframe tbody tr th:only-of-type {\n        vertical-align: middle;\n    }\n\n    .dataframe tbody tr th {\n        vertical-align: top;\n    }\n\n    .dataframe thead th {\n        text-align: right;\n    }\n</style>\n<table border=\"1\" class=\"dataframe\">\n  <thead>\n    <tr style=\"text-align: right;\">\n      <th></th>\n      <th>reward</th>\n      <th>level</th>\n      <th>dist_to_cashier</th>\n      <th>dist_to_exit</th>\n      <th>orientation_x</th>\n      <th>orientation_y</th>\n      <th>tile_up</th>\n      <th>tile_down</th>\n      <th>tile_left</th>\n      <th>tile_right</th>\n      <th>...</th>\n      <th>548</th>\n      <th>549</th>\n      <th>550</th>\n      <th>551</th>\n      <th>552</th>\n      <th>553</th>\n      <th>554</th>\n      <th>555</th>\n      <th>556</th>\n      <th>557</th>\n    </tr>\n  </thead>\n  <tbody>\n    <tr>\n      <th>18</th>\n      <td>-0.264085</td>\n      <td>0</td>\n      <td>18</td>\n      <td>28</td>\n      <td>1</td>\n      <td>0</td>\n      <td>0</td>\n      <td>1</td>\n      <td>0</td>\n      <td>2</td>\n      <td>...</td>\n      <td>0.0</td>\n      <td>0.0</td>\n      <td>0.0</td>\n      <td>0.0</td>\n      <td>0.0</td>\n      <td>0.0</td>\n      <td>0.0</td>\n      <td>0.0</td>\n      <td>0.0</td>\n      <td>0.0</td>\n    </tr>\n    <tr>\n      <th>9257</th>\n      <td>0.000000</td>\n      <td>2</td>\n      <td>23</td>\n      <td>17</td>\n      <td>-1</td>\n      <td>0</td>\n      <td>1</td>\n      <td>2</td>\n      <td>2</td>\n      <td>1</td>\n      <td>...</td>\n      <td>0.0</td>\n      <td>0.0</td>\n      <td>0.0</td>\n      <td>0.0</td>\n      <td>0.0</td>\n      <td>0.0</td>\n      <td>0.0</td>\n      <td>0.0</td>\n      <td>0.0</td>\n      <td>0.0</td>\n    </tr>\n    <tr>\n      <th>8508</th>\n      <td>0.616197</td>\n      <td>2</td>\n      <td>19</td>\n      <td>19</td>\n      <td>-1</td>\n      <td>0</td>\n      <td>1</td>\n      <td>2</td>\n      <td>2</td>\n      <td>1</td>\n      <td>...</td>\n      <td>0.0</td>\n      <td>0.0</td>\n      <td>0.0</td>\n      <td>0.0</td>\n      <td>0.0</td>\n      <td>0.0</td>\n      <td>0.0</td>\n      <td>0.0</td>\n      <td>0.0</td>\n      <td>0.0</td>\n    </tr>\n    <tr>\n      <th>43200</th>\n      <td>0.264085</td>\n      <td>0</td>\n      <td>13</td>\n      <td>7</td>\n      <td>0</td>\n      <td>1</td>\n      <td>2</td>\n      <td>2</td>\n      <td>2</td>\n      <td>1</td>\n      <td>...</td>\n      <td>0.0</td>\n      <td>0.0</td>\n      <td>0.0</td>\n      <td>0.0</td>\n      <td>0.0</td>\n      <td>0.0</td>\n      <td>0.0</td>\n      <td>0.0</td>\n      <td>0.0</td>\n      <td>0.0</td>\n    </tr>\n    <tr>\n      <th>4596</th>\n      <td>0.616197</td>\n      <td>2</td>\n      <td>23</td>\n      <td>19</td>\n      <td>1</td>\n      <td>0</td>\n      <td>0</td>\n      <td>1</td>\n      <td>2</td>\n      <td>2</td>\n      <td>...</td>\n      <td>0.0</td>\n      <td>0.0</td>\n      <td>0.0</td>\n      <td>0.0</td>\n      <td>0.0</td>\n      <td>0.0</td>\n      <td>0.0</td>\n      <td>0.0</td>\n      <td>0.0</td>\n      <td>0.0</td>\n    </tr>\n    <tr>\n      <th>...</th>\n      <td>...</td>\n      <td>...</td>\n      <td>...</td>\n      <td>...</td>\n      <td>...</td>\n      <td>...</td>\n      <td>...</td>\n      <td>...</td>\n      <td>...</td>\n      <td>...</td>\n      <td>...</td>\n      <td>...</td>\n      <td>...</td>\n      <td>...</td>\n      <td>...</td>\n      <td>...</td>\n      <td>...</td>\n      <td>...</td>\n      <td>...</td>\n      <td>...</td>\n      <td>...</td>\n    </tr>\n    <tr>\n      <th>27542</th>\n      <td>0.264085</td>\n      <td>1</td>\n      <td>10</td>\n      <td>16</td>\n      <td>0</td>\n      <td>-1</td>\n      <td>2</td>\n      <td>2</td>\n      <td>1</td>\n      <td>2</td>\n      <td>...</td>\n      <td>0.0</td>\n      <td>0.0</td>\n      <td>0.0</td>\n      <td>0.0</td>\n      <td>0.0</td>\n      <td>0.0</td>\n      <td>0.0</td>\n      <td>0.0</td>\n      <td>0.0</td>\n      <td>0.0</td>\n    </tr>\n    <tr>\n      <th>38351</th>\n      <td>0.616197</td>\n      <td>3</td>\n      <td>7</td>\n      <td>17</td>\n      <td>0</td>\n      <td>-1</td>\n      <td>2</td>\n      <td>2</td>\n      <td>1</td>\n      <td>2</td>\n      <td>...</td>\n      <td>0.0</td>\n      <td>0.0</td>\n      <td>0.0</td>\n      <td>0.0</td>\n      <td>0.0</td>\n      <td>0.0</td>\n      <td>0.0</td>\n      <td>0.0</td>\n      <td>0.0</td>\n      <td>0.0</td>\n    </tr>\n    <tr>\n      <th>2979</th>\n      <td>0.264085</td>\n      <td>2</td>\n      <td>19</td>\n      <td>21</td>\n      <td>1</td>\n      <td>0</td>\n      <td>0</td>\n      <td>1</td>\n      <td>2</td>\n      <td>2</td>\n      <td>...</td>\n      <td>0.0</td>\n      <td>0.0</td>\n      <td>0.0</td>\n      <td>0.0</td>\n      <td>0.0</td>\n      <td>0.0</td>\n      <td>0.0</td>\n      <td>0.0</td>\n      <td>0.0</td>\n      <td>0.0</td>\n    </tr>\n    <tr>\n      <th>21561</th>\n      <td>0.000000</td>\n      <td>0</td>\n      <td>15</td>\n      <td>15</td>\n      <td>0</td>\n      <td>1</td>\n      <td>2</td>\n      <td>2</td>\n      <td>2</td>\n      <td>1</td>\n      <td>...</td>\n      <td>0.0</td>\n      <td>0.0</td>\n      <td>0.0</td>\n      <td>0.0</td>\n      <td>0.0</td>\n      <td>0.0</td>\n      <td>0.0</td>\n      <td>0.0</td>\n      <td>0.0</td>\n      <td>0.0</td>\n    </tr>\n    <tr>\n      <th>27120</th>\n      <td>0.000000</td>\n      <td>0</td>\n      <td>11</td>\n      <td>17</td>\n      <td>0</td>\n      <td>1</td>\n      <td>2</td>\n      <td>2</td>\n      <td>2</td>\n      <td>1</td>\n      <td>...</td>\n      <td>0.0</td>\n      <td>0.0</td>\n      <td>0.0</td>\n      <td>0.0</td>\n      <td>0.0</td>\n      <td>0.0</td>\n      <td>0.0</td>\n      <td>0.0</td>\n      <td>0.0</td>\n      <td>0.0</td>\n    </tr>\n  </tbody>\n</table>\n<p>55664 rows × 572 columns</p>\n</div>"
     },
     "execution_count": 46,
     "metadata": {},
     "output_type": "execute_result"
    }
   ],
   "source": [
    "data_df"
   ],
   "metadata": {
    "collapsed": false,
    "ExecuteTime": {
     "end_time": "2024-04-24T19:38:32.740484700Z",
     "start_time": "2024-04-24T19:38:32.536870200Z"
    }
   },
   "id": "887b35b8360f92d8",
   "execution_count": 46
  },
  {
   "cell_type": "code",
   "outputs": [],
   "source": [
    "X = np.array(data_df.drop('reward', axis=1).values.tolist())\n",
    "y = np.array(data_df['reward'].values.tolist())"
   ],
   "metadata": {
    "collapsed": false,
    "ExecuteTime": {
     "end_time": "2024-04-24T19:38:35.487628800Z",
     "start_time": "2024-04-24T19:38:32.719900800Z"
    }
   },
   "id": "467f1f20a7f9eaa8",
   "execution_count": 47
  },
  {
   "cell_type": "code",
   "outputs": [],
   "source": [
    "from sklearn.model_selection import train_test_split\n",
    "\n",
    "X_train, X_test, y_train, y_test = train_test_split(X, y, test_size=0.2, random_state=42)"
   ],
   "metadata": {
    "collapsed": false,
    "ExecuteTime": {
     "end_time": "2024-04-24T19:38:35.517163100Z",
     "start_time": "2024-04-24T19:38:35.414114300Z"
    }
   },
   "id": "16617889fcd8132",
   "execution_count": 48
  },
  {
   "cell_type": "code",
   "outputs": [],
   "source": [
    "from sklearn.tree import DecisionTreeRegressor\n",
    "from sklearn.tree import export_graphviz\n",
    "from sklearn.metrics import mean_squared_error\n",
    "import os"
   ],
   "metadata": {
    "collapsed": false,
    "ExecuteTime": {
     "end_time": "2024-04-24T19:38:35.518158300Z",
     "start_time": "2024-04-24T19:38:35.478627800Z"
    }
   },
   "id": "645d0abe4538c66d",
   "execution_count": 49
  },
  {
   "cell_type": "code",
   "outputs": [],
   "source": [
    "def run_regression(train_x, train_y, test_x, test_y, model, model_name, max_depth):\n",
    "    model.fit(train_x, train_y)\n",
    "    train_score = model.score(train_x, train_y)\n",
    "    test_score = model.score(test_x, test_y)\n",
    "    y_pred = model.predict(test_x)\n",
    "    mse = mean_squared_error(test_y, y_pred)\n",
    "    \n",
    "    print(f'\\'{model_name}\\' --- depth: {max_depth}; train score: {train_score}; test score: {test_score}; mse: {mse}')\n",
    "    \n",
    "    #export_graphviz(model, out_file=f'./../data/datasets/tree-{model_name}-{max_depth}.dot', feature_names=['level', 'dist_to_cashier', 'dist_to_exit', 'orientation_x', 'orientation_y', 'left_product_1_id', 'left_product_1_count', 'left_product_2_id', 'left_product_2_count', 'left_product_3_id', 'left_product_3_count', 'left_product_4_id', 'left_product_4_count', 'right_product_1_id', 'right_product_1_count', 'right_product_2_id', 'right_product_2_count', 'right_product_3_id', 'right_product_3_count', 'right_product_4_id', 'right_product_4_count', 'tile_up', 'tile_down', 'tile_left', 'tile_right', 'tile_up_left', 'tile_down_right', 'tile_up_right', 'tile_down_left', 'action'], filled=True)\n",
    "    # convert dot file to png\n",
    "    #os.system('dot -Tpng ./../data/datasets/tree.dot -o ./../data/datasets/tree.png')\n",
    "    return model"
   ],
   "metadata": {
    "collapsed": false,
    "ExecuteTime": {
     "end_time": "2024-04-24T19:38:35.661156800Z",
     "start_time": "2024-04-24T19:38:35.483628400Z"
    }
   },
   "id": "2ba2c231b3b541a8",
   "execution_count": 50
  },
  {
   "cell_type": "code",
   "outputs": [
    {
     "name": "stdout",
     "output_type": "stream",
     "text": [
      "'decision_tree' --- depth: 5; train score: 0.5685647075975806; test score: 0.5723680205296864; mse: 0.5245897647613077\n",
      "'decision_tree' --- depth: 10; train score: 0.9083101709564053; test score: 0.8989893592092956; mse: 0.12391296917601821\n",
      "'decision_tree' --- depth: 15; train score: 0.9294387860990986; test score: 0.9185881147450262; mse: 0.09987055174774659\n",
      "'decision_tree' --- depth: 20; train score: 0.9600456450892031; test score: 0.9456401100920103; mse: 0.06668500773633687\n",
      "'decision_tree' --- depth: 25; train score: 0.9876070500454459; test score: 0.9733292861190217; mse: 0.03271781389728791\n",
      "'decision_tree' --- depth: 30; train score: 0.9987743391023199; test score: 0.9819306238036706; mse: 0.02216627909810954\n",
      "'decision_tree' --- depth: 35; train score: 0.9998003048633102; test score: 0.9818746779586939; mse: 0.022234909647424566\n",
      "'decision_tree' --- depth: 40; train score: 0.9999558788995025; test score: 0.9817640790087664; mse: 0.022370584900704624\n",
      "'decision_tree' --- depth: 45; train score: 0.9999867506422375; test score: 0.9815598918266502; mse: 0.022621067818203666\n",
      "'decision_tree' --- depth: 50; train score: 0.9999963607760416; test score: 0.9817356637843782; mse: 0.022405442761185328\n"
     ]
    }
   ],
   "source": [
    "for max_depth in [5, 10, 15, 20, 25, 30, 35, 40, 45, 50]:\n",
    "    model = DecisionTreeRegressor(max_depth=max_depth)\n",
    "    run_regression(X_train, y_train, X_test, y_test, model, 'decision_tree', max_depth)"
   ],
   "metadata": {
    "collapsed": false,
    "ExecuteTime": {
     "end_time": "2024-04-24T19:39:14.905361700Z",
     "start_time": "2024-04-24T19:38:35.489628700Z"
    }
   },
   "id": "95d1f2e357675c03",
   "execution_count": 51
  },
  {
   "cell_type": "code",
   "outputs": [],
   "source": [
    "model = DecisionTreeRegressor(max_depth=20)"
   ],
   "metadata": {
    "collapsed": false,
    "ExecuteTime": {
     "end_time": "2024-04-24T19:39:14.912356400Z",
     "start_time": "2024-04-24T19:39:14.904360400Z"
    }
   },
   "id": "deff8d3c06d14657",
   "execution_count": 52
  },
  {
   "cell_type": "code",
   "outputs": [
    {
     "name": "stdout",
     "output_type": "stream",
     "text": [
      "'decision_tree' --- depth: 30; train score: 0.96004740466664; test score: 0.945578831998322; mse: 0.06676017952492187\n"
     ]
    }
   ],
   "source": [
    "# fit model\n",
    "model = run_regression(X_train, y_train, X_test, y_test, model, 'decision_tree', 30)"
   ],
   "metadata": {
    "collapsed": false,
    "ExecuteTime": {
     "end_time": "2024-04-24T19:39:19.422445500Z",
     "start_time": "2024-04-24T19:39:14.949357300Z"
    }
   },
   "id": "931ccf4d24d91a3f",
   "execution_count": 53
  },
  {
   "cell_type": "code",
   "outputs": [],
   "source": [
    "# run model for each item in the layout\n",
    "\n",
    "def generate_data_for_layout(layout, encoder):\n",
    "    data = {\n",
    "        \"state\": [],\n",
    "        \"action\": [],\n",
    "        \"reward\": [],\n",
    "        \"info\": [],\n",
    "        \"coords\": []\n",
    "    }\n",
    "    \n",
    "    for i in range(layout.shape[0]):\n",
    "        for j in range(layout.shape[1]):\n",
    "            if layout[i][j].type.name == 'RACK':\n",
    "                for level in range(layout.get_max_rack_level()):\n",
    "                    input_data = create_input_for_genome(layout, i, j, level)\n",
    "                    if input_data is None:\n",
    "                        continue\n",
    "                    for item in str_items:\n",
    "                        data['action'].append(item)\n",
    "                        data['state'].append(input_data)\n",
    "                        data['info'].append(None)\n",
    "                        data['reward'].append(None)\n",
    "                        data['coords'].append((i, j, level))\n",
    "    df = pd.DataFrame(data)\n",
    "    state_df = pd.DataFrame(df['state'].tolist(), columns=['level', 'dist_to_cashier', 'dist_to_exit', 'orientation_x', 'orientation_y', 'left_product_1_id', 'left_product_1_count', 'left_product_2_id', 'left_product_2_count', 'left_product_3_id', 'left_product_3_count', 'left_product_4_id', 'left_product_4_count', 'right_product_1_id', 'right_product_1_count', 'right_product_2_id', 'right_product_2_count', 'right_product_3_id', 'right_product_3_count', 'right_product_4_id', 'right_product_4_count', 'tile_up', 'tile_down', 'tile_left', 'tile_right', 'tile_up_left', 'tile_down_right', 'tile_up_right', 'tile_down_left'])\n",
    "    # join 2 dfs\n",
    "    df = df.drop('state', axis=1)\n",
    "    df = df.join(state_df)\n",
    "    enc_df = encode_data(df, encoder)\n",
    "    return enc_df"
   ],
   "metadata": {
    "collapsed": false,
    "ExecuteTime": {
     "end_time": "2024-04-24T19:39:19.425445500Z",
     "start_time": "2024-04-24T19:39:19.417446600Z"
    }
   },
   "id": "842c9a102078d652",
   "execution_count": 54
  },
  {
   "cell_type": "code",
   "outputs": [
    {
     "data": {
      "text/plain": "      reward       coords  level  dist_to_cashier  dist_to_exit  \\\n0       None    (1, 2, 0)      0               18            28   \n1       None    (1, 2, 0)      0               18            28   \n2       None    (1, 2, 0)      0               18            28   \n3       None    (1, 2, 0)      0               18            28   \n4       None    (1, 2, 0)      0               18            28   \n...      ...          ...    ...              ...           ...   \n55659   None  (16, 22, 3)      3               19            11   \n55660   None  (16, 22, 3)      3               19            11   \n55661   None  (16, 22, 3)      3               19            11   \n55662   None  (16, 22, 3)      3               19            11   \n55663   None  (16, 22, 3)      3               19            11   \n\n       orientation_x  orientation_y  tile_up  tile_down  tile_left  ...  647  \\\n0                  1              0        0          1          0  ...  0.0   \n1                  1              0        0          1          0  ...  0.0   \n2                  1              0        0          1          0  ...  0.0   \n3                  1              0        0          1          0  ...  0.0   \n4                  1              0        0          1          0  ...  0.0   \n...              ...            ...      ...        ...        ...  ...  ...   \n55659             -1              0        1          0          2  ...  0.0   \n55660             -1              0        1          0          2  ...  0.0   \n55661             -1              0        1          0          2  ...  0.0   \n55662             -1              0        1          0          2  ...  0.0   \n55663             -1              0        1          0          2  ...  0.0   \n\n       648  649  650  651  652  653  654  655  656  \n0      0.0  0.0  0.0  0.0  0.0  0.0  0.0  0.0  0.0  \n1      0.0  0.0  0.0  0.0  0.0  0.0  0.0  0.0  0.0  \n2      0.0  0.0  0.0  0.0  0.0  0.0  0.0  0.0  0.0  \n3      0.0  0.0  0.0  0.0  0.0  0.0  0.0  0.0  0.0  \n4      0.0  0.0  0.0  0.0  0.0  0.0  0.0  0.0  0.0  \n...    ...  ...  ...  ...  ...  ...  ...  ...  ...  \n55659  0.0  0.0  0.0  0.0  1.0  0.0  0.0  0.0  0.0  \n55660  0.0  0.0  0.0  0.0  0.0  1.0  0.0  0.0  0.0  \n55661  0.0  0.0  0.0  0.0  0.0  0.0  1.0  0.0  0.0  \n55662  0.0  0.0  0.0  0.0  0.0  0.0  0.0  1.0  0.0  \n55663  0.0  0.0  0.0  0.0  0.0  0.0  0.0  0.0  1.0  \n\n[55664 rows x 672 columns]",
      "text/html": "<div>\n<style scoped>\n    .dataframe tbody tr th:only-of-type {\n        vertical-align: middle;\n    }\n\n    .dataframe tbody tr th {\n        vertical-align: top;\n    }\n\n    .dataframe thead th {\n        text-align: right;\n    }\n</style>\n<table border=\"1\" class=\"dataframe\">\n  <thead>\n    <tr style=\"text-align: right;\">\n      <th></th>\n      <th>reward</th>\n      <th>coords</th>\n      <th>level</th>\n      <th>dist_to_cashier</th>\n      <th>dist_to_exit</th>\n      <th>orientation_x</th>\n      <th>orientation_y</th>\n      <th>tile_up</th>\n      <th>tile_down</th>\n      <th>tile_left</th>\n      <th>...</th>\n      <th>647</th>\n      <th>648</th>\n      <th>649</th>\n      <th>650</th>\n      <th>651</th>\n      <th>652</th>\n      <th>653</th>\n      <th>654</th>\n      <th>655</th>\n      <th>656</th>\n    </tr>\n  </thead>\n  <tbody>\n    <tr>\n      <th>0</th>\n      <td>None</td>\n      <td>(1, 2, 0)</td>\n      <td>0</td>\n      <td>18</td>\n      <td>28</td>\n      <td>1</td>\n      <td>0</td>\n      <td>0</td>\n      <td>1</td>\n      <td>0</td>\n      <td>...</td>\n      <td>0.0</td>\n      <td>0.0</td>\n      <td>0.0</td>\n      <td>0.0</td>\n      <td>0.0</td>\n      <td>0.0</td>\n      <td>0.0</td>\n      <td>0.0</td>\n      <td>0.0</td>\n      <td>0.0</td>\n    </tr>\n    <tr>\n      <th>1</th>\n      <td>None</td>\n      <td>(1, 2, 0)</td>\n      <td>0</td>\n      <td>18</td>\n      <td>28</td>\n      <td>1</td>\n      <td>0</td>\n      <td>0</td>\n      <td>1</td>\n      <td>0</td>\n      <td>...</td>\n      <td>0.0</td>\n      <td>0.0</td>\n      <td>0.0</td>\n      <td>0.0</td>\n      <td>0.0</td>\n      <td>0.0</td>\n      <td>0.0</td>\n      <td>0.0</td>\n      <td>0.0</td>\n      <td>0.0</td>\n    </tr>\n    <tr>\n      <th>2</th>\n      <td>None</td>\n      <td>(1, 2, 0)</td>\n      <td>0</td>\n      <td>18</td>\n      <td>28</td>\n      <td>1</td>\n      <td>0</td>\n      <td>0</td>\n      <td>1</td>\n      <td>0</td>\n      <td>...</td>\n      <td>0.0</td>\n      <td>0.0</td>\n      <td>0.0</td>\n      <td>0.0</td>\n      <td>0.0</td>\n      <td>0.0</td>\n      <td>0.0</td>\n      <td>0.0</td>\n      <td>0.0</td>\n      <td>0.0</td>\n    </tr>\n    <tr>\n      <th>3</th>\n      <td>None</td>\n      <td>(1, 2, 0)</td>\n      <td>0</td>\n      <td>18</td>\n      <td>28</td>\n      <td>1</td>\n      <td>0</td>\n      <td>0</td>\n      <td>1</td>\n      <td>0</td>\n      <td>...</td>\n      <td>0.0</td>\n      <td>0.0</td>\n      <td>0.0</td>\n      <td>0.0</td>\n      <td>0.0</td>\n      <td>0.0</td>\n      <td>0.0</td>\n      <td>0.0</td>\n      <td>0.0</td>\n      <td>0.0</td>\n    </tr>\n    <tr>\n      <th>4</th>\n      <td>None</td>\n      <td>(1, 2, 0)</td>\n      <td>0</td>\n      <td>18</td>\n      <td>28</td>\n      <td>1</td>\n      <td>0</td>\n      <td>0</td>\n      <td>1</td>\n      <td>0</td>\n      <td>...</td>\n      <td>0.0</td>\n      <td>0.0</td>\n      <td>0.0</td>\n      <td>0.0</td>\n      <td>0.0</td>\n      <td>0.0</td>\n      <td>0.0</td>\n      <td>0.0</td>\n      <td>0.0</td>\n      <td>0.0</td>\n    </tr>\n    <tr>\n      <th>...</th>\n      <td>...</td>\n      <td>...</td>\n      <td>...</td>\n      <td>...</td>\n      <td>...</td>\n      <td>...</td>\n      <td>...</td>\n      <td>...</td>\n      <td>...</td>\n      <td>...</td>\n      <td>...</td>\n      <td>...</td>\n      <td>...</td>\n      <td>...</td>\n      <td>...</td>\n      <td>...</td>\n      <td>...</td>\n      <td>...</td>\n      <td>...</td>\n      <td>...</td>\n      <td>...</td>\n    </tr>\n    <tr>\n      <th>55659</th>\n      <td>None</td>\n      <td>(16, 22, 3)</td>\n      <td>3</td>\n      <td>19</td>\n      <td>11</td>\n      <td>-1</td>\n      <td>0</td>\n      <td>1</td>\n      <td>0</td>\n      <td>2</td>\n      <td>...</td>\n      <td>0.0</td>\n      <td>0.0</td>\n      <td>0.0</td>\n      <td>0.0</td>\n      <td>0.0</td>\n      <td>1.0</td>\n      <td>0.0</td>\n      <td>0.0</td>\n      <td>0.0</td>\n      <td>0.0</td>\n    </tr>\n    <tr>\n      <th>55660</th>\n      <td>None</td>\n      <td>(16, 22, 3)</td>\n      <td>3</td>\n      <td>19</td>\n      <td>11</td>\n      <td>-1</td>\n      <td>0</td>\n      <td>1</td>\n      <td>0</td>\n      <td>2</td>\n      <td>...</td>\n      <td>0.0</td>\n      <td>0.0</td>\n      <td>0.0</td>\n      <td>0.0</td>\n      <td>0.0</td>\n      <td>0.0</td>\n      <td>1.0</td>\n      <td>0.0</td>\n      <td>0.0</td>\n      <td>0.0</td>\n    </tr>\n    <tr>\n      <th>55661</th>\n      <td>None</td>\n      <td>(16, 22, 3)</td>\n      <td>3</td>\n      <td>19</td>\n      <td>11</td>\n      <td>-1</td>\n      <td>0</td>\n      <td>1</td>\n      <td>0</td>\n      <td>2</td>\n      <td>...</td>\n      <td>0.0</td>\n      <td>0.0</td>\n      <td>0.0</td>\n      <td>0.0</td>\n      <td>0.0</td>\n      <td>0.0</td>\n      <td>0.0</td>\n      <td>1.0</td>\n      <td>0.0</td>\n      <td>0.0</td>\n    </tr>\n    <tr>\n      <th>55662</th>\n      <td>None</td>\n      <td>(16, 22, 3)</td>\n      <td>3</td>\n      <td>19</td>\n      <td>11</td>\n      <td>-1</td>\n      <td>0</td>\n      <td>1</td>\n      <td>0</td>\n      <td>2</td>\n      <td>...</td>\n      <td>0.0</td>\n      <td>0.0</td>\n      <td>0.0</td>\n      <td>0.0</td>\n      <td>0.0</td>\n      <td>0.0</td>\n      <td>0.0</td>\n      <td>0.0</td>\n      <td>1.0</td>\n      <td>0.0</td>\n    </tr>\n    <tr>\n      <th>55663</th>\n      <td>None</td>\n      <td>(16, 22, 3)</td>\n      <td>3</td>\n      <td>19</td>\n      <td>11</td>\n      <td>-1</td>\n      <td>0</td>\n      <td>1</td>\n      <td>0</td>\n      <td>2</td>\n      <td>...</td>\n      <td>0.0</td>\n      <td>0.0</td>\n      <td>0.0</td>\n      <td>0.0</td>\n      <td>0.0</td>\n      <td>0.0</td>\n      <td>0.0</td>\n      <td>0.0</td>\n      <td>0.0</td>\n      <td>1.0</td>\n    </tr>\n  </tbody>\n</table>\n<p>55664 rows × 672 columns</p>\n</div>"
     },
     "execution_count": 55,
     "metadata": {},
     "output_type": "execute_result"
    }
   ],
   "source": [
    "data = generate_data_for_layout(layout, oneHotEncoder)\n",
    "data"
   ],
   "metadata": {
    "collapsed": false,
    "ExecuteTime": {
     "end_time": "2024-04-24T19:39:21.617044400Z",
     "start_time": "2024-04-24T19:39:19.422445500Z"
    }
   },
   "id": "b2592dc44f0c4ace",
   "execution_count": 55
  },
  {
   "cell_type": "code",
   "outputs": [
    {
     "ename": "ValueError",
     "evalue": "X has 670 features, but DecisionTreeRegressor is expecting 571 features as input.",
     "output_type": "error",
     "traceback": [
      "\u001B[0;31m---------------------------------------------------------------------------\u001B[0m",
      "\u001B[0;31mValueError\u001B[0m                                Traceback (most recent call last)",
      "Cell \u001B[0;32mIn[56], line 5\u001B[0m\n\u001B[1;32m      2\u001B[0m X \u001B[38;5;241m=\u001B[39m np\u001B[38;5;241m.\u001B[39marray(data\u001B[38;5;241m.\u001B[39mdrop([\u001B[38;5;124m'\u001B[39m\u001B[38;5;124mreward\u001B[39m\u001B[38;5;124m'\u001B[39m, \u001B[38;5;124m'\u001B[39m\u001B[38;5;124mcoords\u001B[39m\u001B[38;5;124m'\u001B[39m], axis\u001B[38;5;241m=\u001B[39m\u001B[38;5;241m1\u001B[39m)\u001B[38;5;241m.\u001B[39mvalues\u001B[38;5;241m.\u001B[39mtolist())\n\u001B[1;32m      4\u001B[0m \u001B[38;5;66;03m#predict rewards\u001B[39;00m\n\u001B[0;32m----> 5\u001B[0m y \u001B[38;5;241m=\u001B[39m \u001B[43mmodel\u001B[49m\u001B[38;5;241;43m.\u001B[39;49m\u001B[43mpredict\u001B[49m\u001B[43m(\u001B[49m\u001B[43mX\u001B[49m\u001B[43m)\u001B[49m\n\u001B[1;32m      7\u001B[0m \u001B[38;5;66;03m#add rewards to data\u001B[39;00m\n\u001B[1;32m      8\u001B[0m data[\u001B[38;5;124m'\u001B[39m\u001B[38;5;124mreward\u001B[39m\u001B[38;5;124m'\u001B[39m] \u001B[38;5;241m=\u001B[39m y\n",
      "File \u001B[0;32m/usr/local/lib/python3.10/dist-packages/sklearn/tree/_classes.py:500\u001B[0m, in \u001B[0;36mBaseDecisionTree.predict\u001B[0;34m(self, X, check_input)\u001B[0m\n\u001B[1;32m    477\u001B[0m \u001B[38;5;250m\u001B[39m\u001B[38;5;124;03m\"\"\"Predict class or regression value for X.\u001B[39;00m\n\u001B[1;32m    478\u001B[0m \n\u001B[1;32m    479\u001B[0m \u001B[38;5;124;03mFor a classification model, the predicted class for each sample in X is\u001B[39;00m\n\u001B[0;32m   (...)\u001B[0m\n\u001B[1;32m    497\u001B[0m \u001B[38;5;124;03m    The predicted classes, or the predict values.\u001B[39;00m\n\u001B[1;32m    498\u001B[0m \u001B[38;5;124;03m\"\"\"\u001B[39;00m\n\u001B[1;32m    499\u001B[0m check_is_fitted(\u001B[38;5;28mself\u001B[39m)\n\u001B[0;32m--> 500\u001B[0m X \u001B[38;5;241m=\u001B[39m \u001B[38;5;28;43mself\u001B[39;49m\u001B[38;5;241;43m.\u001B[39;49m\u001B[43m_validate_X_predict\u001B[49m\u001B[43m(\u001B[49m\u001B[43mX\u001B[49m\u001B[43m,\u001B[49m\u001B[43m \u001B[49m\u001B[43mcheck_input\u001B[49m\u001B[43m)\u001B[49m\n\u001B[1;32m    501\u001B[0m proba \u001B[38;5;241m=\u001B[39m \u001B[38;5;28mself\u001B[39m\u001B[38;5;241m.\u001B[39mtree_\u001B[38;5;241m.\u001B[39mpredict(X)\n\u001B[1;32m    502\u001B[0m n_samples \u001B[38;5;241m=\u001B[39m X\u001B[38;5;241m.\u001B[39mshape[\u001B[38;5;241m0\u001B[39m]\n",
      "File \u001B[0;32m/usr/local/lib/python3.10/dist-packages/sklearn/tree/_classes.py:460\u001B[0m, in \u001B[0;36mBaseDecisionTree._validate_X_predict\u001B[0;34m(self, X, check_input)\u001B[0m\n\u001B[1;32m    458\u001B[0m \u001B[38;5;28;01melse\u001B[39;00m:\n\u001B[1;32m    459\u001B[0m     force_all_finite \u001B[38;5;241m=\u001B[39m \u001B[38;5;28;01mTrue\u001B[39;00m\n\u001B[0;32m--> 460\u001B[0m X \u001B[38;5;241m=\u001B[39m \u001B[38;5;28;43mself\u001B[39;49m\u001B[38;5;241;43m.\u001B[39;49m\u001B[43m_validate_data\u001B[49m\u001B[43m(\u001B[49m\n\u001B[1;32m    461\u001B[0m \u001B[43m    \u001B[49m\u001B[43mX\u001B[49m\u001B[43m,\u001B[49m\n\u001B[1;32m    462\u001B[0m \u001B[43m    \u001B[49m\u001B[43mdtype\u001B[49m\u001B[38;5;241;43m=\u001B[39;49m\u001B[43mDTYPE\u001B[49m\u001B[43m,\u001B[49m\n\u001B[1;32m    463\u001B[0m \u001B[43m    \u001B[49m\u001B[43maccept_sparse\u001B[49m\u001B[38;5;241;43m=\u001B[39;49m\u001B[38;5;124;43m\"\u001B[39;49m\u001B[38;5;124;43mcsr\u001B[39;49m\u001B[38;5;124;43m\"\u001B[39;49m\u001B[43m,\u001B[49m\n\u001B[1;32m    464\u001B[0m \u001B[43m    \u001B[49m\u001B[43mreset\u001B[49m\u001B[38;5;241;43m=\u001B[39;49m\u001B[38;5;28;43;01mFalse\u001B[39;49;00m\u001B[43m,\u001B[49m\n\u001B[1;32m    465\u001B[0m \u001B[43m    \u001B[49m\u001B[43mforce_all_finite\u001B[49m\u001B[38;5;241;43m=\u001B[39;49m\u001B[43mforce_all_finite\u001B[49m\u001B[43m,\u001B[49m\n\u001B[1;32m    466\u001B[0m \u001B[43m\u001B[49m\u001B[43m)\u001B[49m\n\u001B[1;32m    467\u001B[0m \u001B[38;5;28;01mif\u001B[39;00m issparse(X) \u001B[38;5;129;01mand\u001B[39;00m (\n\u001B[1;32m    468\u001B[0m     X\u001B[38;5;241m.\u001B[39mindices\u001B[38;5;241m.\u001B[39mdtype \u001B[38;5;241m!=\u001B[39m np\u001B[38;5;241m.\u001B[39mintc \u001B[38;5;129;01mor\u001B[39;00m X\u001B[38;5;241m.\u001B[39mindptr\u001B[38;5;241m.\u001B[39mdtype \u001B[38;5;241m!=\u001B[39m np\u001B[38;5;241m.\u001B[39mintc\n\u001B[1;32m    469\u001B[0m ):\n\u001B[1;32m    470\u001B[0m     \u001B[38;5;28;01mraise\u001B[39;00m \u001B[38;5;167;01mValueError\u001B[39;00m(\u001B[38;5;124m\"\u001B[39m\u001B[38;5;124mNo support for np.int64 index based sparse matrices\u001B[39m\u001B[38;5;124m\"\u001B[39m)\n",
      "File \u001B[0;32m/usr/local/lib/python3.10/dist-packages/sklearn/base.py:626\u001B[0m, in \u001B[0;36mBaseEstimator._validate_data\u001B[0;34m(self, X, y, reset, validate_separately, cast_to_ndarray, **check_params)\u001B[0m\n\u001B[1;32m    623\u001B[0m     out \u001B[38;5;241m=\u001B[39m X, y\n\u001B[1;32m    625\u001B[0m \u001B[38;5;28;01mif\u001B[39;00m \u001B[38;5;129;01mnot\u001B[39;00m no_val_X \u001B[38;5;129;01mand\u001B[39;00m check_params\u001B[38;5;241m.\u001B[39mget(\u001B[38;5;124m\"\u001B[39m\u001B[38;5;124mensure_2d\u001B[39m\u001B[38;5;124m\"\u001B[39m, \u001B[38;5;28;01mTrue\u001B[39;00m):\n\u001B[0;32m--> 626\u001B[0m     \u001B[38;5;28;43mself\u001B[39;49m\u001B[38;5;241;43m.\u001B[39;49m\u001B[43m_check_n_features\u001B[49m\u001B[43m(\u001B[49m\u001B[43mX\u001B[49m\u001B[43m,\u001B[49m\u001B[43m \u001B[49m\u001B[43mreset\u001B[49m\u001B[38;5;241;43m=\u001B[39;49m\u001B[43mreset\u001B[49m\u001B[43m)\u001B[49m\n\u001B[1;32m    628\u001B[0m \u001B[38;5;28;01mreturn\u001B[39;00m out\n",
      "File \u001B[0;32m/usr/local/lib/python3.10/dist-packages/sklearn/base.py:415\u001B[0m, in \u001B[0;36mBaseEstimator._check_n_features\u001B[0;34m(self, X, reset)\u001B[0m\n\u001B[1;32m    412\u001B[0m     \u001B[38;5;28;01mreturn\u001B[39;00m\n\u001B[1;32m    414\u001B[0m \u001B[38;5;28;01mif\u001B[39;00m n_features \u001B[38;5;241m!=\u001B[39m \u001B[38;5;28mself\u001B[39m\u001B[38;5;241m.\u001B[39mn_features_in_:\n\u001B[0;32m--> 415\u001B[0m     \u001B[38;5;28;01mraise\u001B[39;00m \u001B[38;5;167;01mValueError\u001B[39;00m(\n\u001B[1;32m    416\u001B[0m         \u001B[38;5;124mf\u001B[39m\u001B[38;5;124m\"\u001B[39m\u001B[38;5;124mX has \u001B[39m\u001B[38;5;132;01m{\u001B[39;00mn_features\u001B[38;5;132;01m}\u001B[39;00m\u001B[38;5;124m features, but \u001B[39m\u001B[38;5;132;01m{\u001B[39;00m\u001B[38;5;28mself\u001B[39m\u001B[38;5;241m.\u001B[39m\u001B[38;5;18m__class__\u001B[39m\u001B[38;5;241m.\u001B[39m\u001B[38;5;18m__name__\u001B[39m\u001B[38;5;132;01m}\u001B[39;00m\u001B[38;5;124m \u001B[39m\u001B[38;5;124m\"\u001B[39m\n\u001B[1;32m    417\u001B[0m         \u001B[38;5;124mf\u001B[39m\u001B[38;5;124m\"\u001B[39m\u001B[38;5;124mis expecting \u001B[39m\u001B[38;5;132;01m{\u001B[39;00m\u001B[38;5;28mself\u001B[39m\u001B[38;5;241m.\u001B[39mn_features_in_\u001B[38;5;132;01m}\u001B[39;00m\u001B[38;5;124m features as input.\u001B[39m\u001B[38;5;124m\"\u001B[39m\n\u001B[1;32m    418\u001B[0m     )\n",
      "\u001B[0;31mValueError\u001B[0m: X has 670 features, but DecisionTreeRegressor is expecting 571 features as input."
     ]
    }
   ],
   "source": [
    "# fit without reward and coords\n",
    "X = np.array(data.drop(['reward', 'coords'], axis=1).values.tolist())\n",
    "\n",
    "#predict rewards\n",
    "y = model.predict(X)\n",
    "\n",
    "#add rewards to data\n",
    "data['reward'] = y"
   ],
   "metadata": {
    "collapsed": false,
    "ExecuteTime": {
     "end_time": "2024-04-24T19:39:25.160364100Z",
     "start_time": "2024-04-24T19:39:21.656233900Z"
    }
   },
   "id": "958be85d451dcea9",
   "execution_count": 56
  },
  {
   "cell_type": "code",
   "outputs": [],
   "source": [
    "# for each item in layout, select the one with the highest reward\n",
    "def select_best_item_for_layout(layout, data, rewards):\n",
    "    new_layout = layout.copy()\n",
    "    for i in trange(layout.shape[0]):\n",
    "        for j in range(layout.shape[1]):\n",
    "            if layout[i][j].type.name == 'RACK':\n",
    "                for level in range(layout.get_max_rack_level()):\n",
    "                    coords = (i, j, level)\n",
    "                    coords_df = data[data['coords'] == coords]\n",
    "                    decoded = oneHotEncoder.inverse_transform(coords_df[[x for x in range(len(coords_df.columns)-15)]].values.tolist())\n",
    "                    decoded_df = pd.DataFrame(decoded, columns=['left_product_1_id', 'left_product_2_id', 'left_product_3_id', 'left_product_4_id', 'right_product_1_id', 'right_product_2_id', 'right_product_3_id', 'right_product_4_id', 'action'])\n",
    "                    #print(decoded_df)\n",
    "                    decoded_df = decoded_df.join(coords_df[['reward']])\n",
    "                    decoded_df.sort_values(by='reward', ascending=False)\n",
    "                    #(coords_df)\n",
    "                    item = decoded_df.iloc[random.randint(0, 4)]['action']\n",
    "                    #print(item, type(item))\n",
    "                    new_layout.set_item_to_rack(item, (i, j), level=level)\n",
    "    return new_layout"
   ],
   "metadata": {
    "collapsed": false,
    "ExecuteTime": {
     "end_time": "2024-04-24T19:39:25.182388500Z",
     "start_time": "2024-04-24T19:39:25.163363300Z"
    }
   },
   "id": "f2874b96739015b5",
   "execution_count": null
  },
  {
   "cell_type": "code",
   "outputs": [],
   "source": [
    "layout = layout.reset_item_count().reset_path_count().copy()"
   ],
   "metadata": {
    "collapsed": false,
    "ExecuteTime": {
     "start_time": "2024-04-24T19:39:25.164363400Z"
    }
   },
   "id": "9aa6902a14c09f14",
   "execution_count": null
  },
  {
   "cell_type": "code",
   "outputs": [],
   "source": [
    "better_layout = layout.copy()"
   ],
   "metadata": {
    "collapsed": false,
    "ExecuteTime": {
     "start_time": "2024-04-24T19:39:25.165362Z"
    }
   },
   "id": "ab67a0cc20f57a03",
   "execution_count": null
  },
  {
   "cell_type": "code",
   "outputs": [],
   "source": [
    "for i  in range(5):\n",
    "    better_layout = better_layout.reset_item_count().reset_path_count()\n",
    "    better_layout = select_best_item_for_layout(better_layout, data, y)\n",
    "    res, l = thread_func(better_layout, check_list)\n",
    "    print(res)"
   ],
   "metadata": {
    "collapsed": false,
    "ExecuteTime": {
     "start_time": "2024-04-24T19:39:25.168364800Z"
    }
   },
   "id": "23b85c71c3e79388",
   "execution_count": null
  },
  {
   "cell_type": "code",
   "outputs": [],
   "source": [
    "eval = thread_func(layout, check_list)\n",
    "test = thread_func(better_layout, check_list)"
   ],
   "metadata": {
    "collapsed": false,
    "ExecuteTime": {
     "start_time": "2024-04-24T19:39:25.169364200Z"
    }
   },
   "id": "2e1f5584110f0f36",
   "execution_count": null
  },
  {
   "cell_type": "code",
   "outputs": [],
   "source": [
    "eval"
   ],
   "metadata": {
    "collapsed": false,
    "ExecuteTime": {
     "start_time": "2024-04-24T19:39:25.171363900Z"
    }
   },
   "id": "407948530ef2393f",
   "execution_count": null
  },
  {
   "cell_type": "code",
   "outputs": [],
   "source": [
    "test"
   ],
   "metadata": {
    "collapsed": false,
    "ExecuteTime": {
     "start_time": "2024-04-24T19:39:25.172879Z"
    }
   },
   "id": "8f4db9e166e8e8db",
   "execution_count": null
  },
  {
   "cell_type": "code",
   "outputs": [],
   "source": [
    "dir = str(Path(os.getcwd()).parent)"
   ],
   "metadata": {
    "collapsed": false,
    "ExecuteTime": {
     "start_time": "2024-04-24T19:39:25.174390500Z"
    }
   },
   "id": "6692cdc2cb48c4d8",
   "execution_count": null
  },
  {
   "cell_type": "code",
   "outputs": [],
   "source": [
    "better_layout.display_in_window(home_dir=dir)"
   ],
   "metadata": {
    "collapsed": false,
    "ExecuteTime": {
     "start_time": "2024-04-24T19:39:25.174390500Z"
    }
   },
   "id": "5027ea8840c473f0",
   "execution_count": null
  }
 ],
 "metadata": {
  "kernelspec": {
   "display_name": "Python 3",
   "language": "python",
   "name": "python3"
  },
  "language_info": {
   "codemirror_mode": {
    "name": "ipython",
    "version": 2
   },
   "file_extension": ".py",
   "mimetype": "text/x-python",
   "name": "python",
   "nbconvert_exporter": "python",
   "pygments_lexer": "ipython2",
   "version": "2.7.6"
  }
 },
 "nbformat": 4,
 "nbformat_minor": 5
}
